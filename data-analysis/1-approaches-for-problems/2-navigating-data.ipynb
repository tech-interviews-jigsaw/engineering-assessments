{
 "cells": [
  {
   "cell_type": "markdown",
   "id": "99852281",
   "metadata": {},
   "source": [
    "# Exploring a dataset"
   ]
  },
  {
   "cell_type": "markdown",
   "id": "362e7c3c",
   "metadata": {},
   "source": [
    "### Introduction"
   ]
  },
  {
   "cell_type": "markdown",
   "id": "70bf90e7",
   "metadata": {},
   "source": [
    "An important task of working with data is not only cleaning and loading our data, but also analyzing and exploring the dataset.  Frequently, the task and even the goal involved may be fairly vague.  Still, it's our job to explore the data and try to extract valuable insights from it.\n",
    "\n",
    "In this lesson, we'll learn how to quickly load up and explore a dataset.\n",
    "\n"
   ]
  },
  {
   "cell_type": "markdown",
   "id": "c817fd46",
   "metadata": {},
   "source": [
    "### Loading our data"
   ]
  },
  {
   "cell_type": "markdown",
   "id": "91ea2b96",
   "metadata": {},
   "source": [
    "Given a CSV file, the first step is to load our data with pandas."
   ]
  },
  {
   "cell_type": "markdown",
   "id": "82a94e33",
   "metadata": {},
   "source": [
    "First we suppress warnings -- this must be placed before the import pandas line."
   ]
  },
  {
   "cell_type": "code",
   "execution_count": 19,
   "id": "5217cc7d",
   "metadata": {},
   "outputs": [],
   "source": [
    "import warnings\n",
    "warnings.simplefilter(action='ignore')\n",
    "import pandas as pd\n",
    "df = pd.read_csv('./ecommerce-dataset.csv')"
   ]
  },
  {
   "cell_type": "markdown",
   "id": "a881249b",
   "metadata": {},
   "source": [
    "### Formatting our columns"
   ]
  },
  {
   "cell_type": "markdown",
   "id": "ddf69400",
   "metadata": {},
   "source": [
    "Now the next step would be to load this into postgres.  But before we do, this task will be a lot easier if we first ensure that our data is in the correct format.  "
   ]
  },
  {
   "cell_type": "markdown",
   "id": "19d85ebc",
   "metadata": {},
   "source": [
    "Let's begin by viewing the first row of our data."
   ]
  },
  {
   "cell_type": "code",
   "execution_count": 20,
   "id": "b5417ce1",
   "metadata": {},
   "outputs": [
    {
     "data": {
      "text/html": [
       "<div>\n",
       "<style scoped>\n",
       "    .dataframe tbody tr th:only-of-type {\n",
       "        vertical-align: middle;\n",
       "    }\n",
       "\n",
       "    .dataframe tbody tr th {\n",
       "        vertical-align: top;\n",
       "    }\n",
       "\n",
       "    .dataframe thead th {\n",
       "        text-align: right;\n",
       "    }\n",
       "</style>\n",
       "<table border=\"1\" class=\"dataframe\">\n",
       "  <thead>\n",
       "    <tr style=\"text-align: right;\">\n",
       "      <th></th>\n",
       "      <th>Transaction_id</th>\n",
       "      <th>customer_id</th>\n",
       "      <th>Date</th>\n",
       "      <th>Product</th>\n",
       "      <th>Gender</th>\n",
       "      <th>Device_Type</th>\n",
       "      <th>Country</th>\n",
       "      <th>State</th>\n",
       "      <th>City</th>\n",
       "      <th>Category</th>\n",
       "      <th>Customer_Login_type</th>\n",
       "      <th>Delivery_Type</th>\n",
       "      <th>Quantity</th>\n",
       "      <th>Transaction Start</th>\n",
       "      <th>Transaction_Result</th>\n",
       "      <th>Amount US$</th>\n",
       "      <th>Individual_Price_US$</th>\n",
       "      <th>Year_Month</th>\n",
       "      <th>Time</th>\n",
       "    </tr>\n",
       "  </thead>\n",
       "  <tbody>\n",
       "    <tr>\n",
       "      <th>0</th>\n",
       "      <td>40170</td>\n",
       "      <td>1348959766</td>\n",
       "      <td>14/11/2013</td>\n",
       "      <td>Hair Band</td>\n",
       "      <td>Female</td>\n",
       "      <td>Web</td>\n",
       "      <td>United States</td>\n",
       "      <td>New York</td>\n",
       "      <td>New York City</td>\n",
       "      <td>Accessories</td>\n",
       "      <td>Member</td>\n",
       "      <td>one-day deliver</td>\n",
       "      <td>12</td>\n",
       "      <td>1</td>\n",
       "      <td>0</td>\n",
       "      <td>6,910</td>\n",
       "      <td>576</td>\n",
       "      <td>13-Nov</td>\n",
       "      <td>22:35:51</td>\n",
       "    </tr>\n",
       "  </tbody>\n",
       "</table>\n",
       "</div>"
      ],
      "text/plain": [
       "   Transaction_id  customer_id        Date    Product  Gender Device_Type  \\\n",
       "0           40170   1348959766  14/11/2013  Hair Band  Female         Web   \n",
       "\n",
       "         Country     State           City     Category Customer_Login_type  \\\n",
       "0  United States  New York  New York City  Accessories              Member   \n",
       "\n",
       "     Delivery_Type   Quantity   Transaction Start  Transaction_Result  \\\n",
       "0  one-day deliver          12                  1                   0   \n",
       "\n",
       "  Amount US$ Individual_Price_US$ Year_Month      Time  \n",
       "0      6,910                  576     13-Nov  22:35:51  "
      ]
     },
     "execution_count": 20,
     "metadata": {},
     "output_type": "execute_result"
    }
   ],
   "source": [
    "df[:1]"
   ]
  },
  {
   "cell_type": "markdown",
   "id": "ba54bbc8",
   "metadata": {},
   "source": [
    "The first thing we should do is change our column names to be lowercase, this is **a requirement** to ensure pandas works with postgres properly.  We can do so with the following."
   ]
  },
  {
   "cell_type": "code",
   "execution_count": 87,
   "id": "542d5fc6",
   "metadata": {},
   "outputs": [
    {
     "name": "stdout",
     "output_type": "stream",
     "text": [
      "['transaction_id', 'customer_id', 'date', 'product', 'gender', 'device_type', 'country', 'state', 'city', 'category', 'customer_login_type', 'delivery_type', ' quantity ', 'transaction start', 'transaction_result', 'amount us$', 'individual_price_us$', 'year_month', 'time']\n"
     ]
    }
   ],
   "source": [
    "lower_cols = [col.lower() for col in df.columns]\n",
    "print(lower_cols)"
   ]
  },
  {
   "cell_type": "markdown",
   "id": "19a257ea",
   "metadata": {},
   "source": [
    "Next, some of the column names are pretty poor.  We need to remove any spaces from columns, and it's also a good idea to remove the `$`.  Let's copy our list of columns from above, and then edit the problematic ones individually."
   ]
  },
  {
   "cell_type": "code",
   "execution_count": 88,
   "id": "9ca23795",
   "metadata": {},
   "outputs": [],
   "source": [
    "cols = ['transaction_id', 'customer_id', 'date', 'product', 'gender', 'device_type',\n",
    " 'country', 'state', 'city', 'category', 'customer_login_type',\n",
    "'delivery_type', 'quantity', 'transaction_start', 'transaction_result',\n",
    "'amount', 'individual_price', 'year_month', 'time']"
   ]
  },
  {
   "cell_type": "markdown",
   "id": "430bd5b5",
   "metadata": {},
   "source": [
    "Now that we've set the column names, it's time to update them."
   ]
  },
  {
   "cell_type": "code",
   "execution_count": 89,
   "id": "aa952845",
   "metadata": {},
   "outputs": [],
   "source": [
    "df.columns = cols"
   ]
  },
  {
   "cell_type": "code",
   "execution_count": 90,
   "id": "c5532946",
   "metadata": {},
   "outputs": [
    {
     "data": {
      "text/html": [
       "<div>\n",
       "<style scoped>\n",
       "    .dataframe tbody tr th:only-of-type {\n",
       "        vertical-align: middle;\n",
       "    }\n",
       "\n",
       "    .dataframe tbody tr th {\n",
       "        vertical-align: top;\n",
       "    }\n",
       "\n",
       "    .dataframe thead th {\n",
       "        text-align: right;\n",
       "    }\n",
       "</style>\n",
       "<table border=\"1\" class=\"dataframe\">\n",
       "  <thead>\n",
       "    <tr style=\"text-align: right;\">\n",
       "      <th></th>\n",
       "      <th>transaction_id</th>\n",
       "      <th>customer_id</th>\n",
       "      <th>date</th>\n",
       "      <th>product</th>\n",
       "      <th>gender</th>\n",
       "      <th>device_type</th>\n",
       "      <th>country</th>\n",
       "      <th>state</th>\n",
       "      <th>city</th>\n",
       "      <th>category</th>\n",
       "      <th>customer_login_type</th>\n",
       "      <th>delivery_type</th>\n",
       "      <th>quantity</th>\n",
       "      <th>transaction_start</th>\n",
       "      <th>transaction_result</th>\n",
       "      <th>amount</th>\n",
       "      <th>individual_price</th>\n",
       "      <th>year_month</th>\n",
       "      <th>time</th>\n",
       "    </tr>\n",
       "  </thead>\n",
       "  <tbody>\n",
       "    <tr>\n",
       "      <th>0</th>\n",
       "      <td>40170</td>\n",
       "      <td>1348959766</td>\n",
       "      <td>14/11/2013</td>\n",
       "      <td>Hair Band</td>\n",
       "      <td>Female</td>\n",
       "      <td>Web</td>\n",
       "      <td>United States</td>\n",
       "      <td>New York</td>\n",
       "      <td>New York City</td>\n",
       "      <td>Accessories</td>\n",
       "      <td>Member</td>\n",
       "      <td>one-day deliver</td>\n",
       "      <td>12</td>\n",
       "      <td>1</td>\n",
       "      <td>0</td>\n",
       "      <td>6,910</td>\n",
       "      <td>576</td>\n",
       "      <td>13-Nov</td>\n",
       "      <td>22:35:51</td>\n",
       "    </tr>\n",
       "    <tr>\n",
       "      <th>1</th>\n",
       "      <td>33374</td>\n",
       "      <td>2213674919</td>\n",
       "      <td>05/11/2013</td>\n",
       "      <td>Hair Band</td>\n",
       "      <td>Female</td>\n",
       "      <td>Web</td>\n",
       "      <td>United States</td>\n",
       "      <td>California</td>\n",
       "      <td>Los Angles</td>\n",
       "      <td>Accessories</td>\n",
       "      <td>Member</td>\n",
       "      <td>one-day deliver</td>\n",
       "      <td>17</td>\n",
       "      <td>1</td>\n",
       "      <td>1</td>\n",
       "      <td>1,699</td>\n",
       "      <td>100</td>\n",
       "      <td>13-Nov</td>\n",
       "      <td>06:44:41</td>\n",
       "    </tr>\n",
       "  </tbody>\n",
       "</table>\n",
       "</div>"
      ],
      "text/plain": [
       "   transaction_id  customer_id        date    product  gender device_type  \\\n",
       "0           40170   1348959766  14/11/2013  Hair Band  Female         Web   \n",
       "1           33374   2213674919  05/11/2013  Hair Band  Female         Web   \n",
       "\n",
       "         country       state           city     category customer_login_type  \\\n",
       "0  United States    New York  New York City  Accessories              Member   \n",
       "1  United States  California     Los Angles  Accessories              Member   \n",
       "\n",
       "     delivery_type  quantity  transaction_start  transaction_result amount  \\\n",
       "0  one-day deliver        12                  1                   0  6,910   \n",
       "1  one-day deliver        17                  1                   1  1,699   \n",
       "\n",
       "  individual_price year_month      time  \n",
       "0              576     13-Nov  22:35:51  \n",
       "1              100     13-Nov  06:44:41  "
      ]
     },
     "execution_count": 90,
     "metadata": {},
     "output_type": "execute_result"
    }
   ],
   "source": [
    "df[:2]"
   ]
  },
  {
   "cell_type": "markdown",
   "id": "b6620ec3",
   "metadata": {},
   "source": [
    "Ok, so we just lowercased all of our columns, and then removed any spaces and special characters.  We also made some column names shorter. "
   ]
  },
  {
   "cell_type": "markdown",
   "id": "c91d9b95",
   "metadata": {},
   "source": [
    "### Fomatting our data"
   ]
  },
  {
   "cell_type": "markdown",
   "id": "7cca545f",
   "metadata": {},
   "source": [
    "Now that we have changed our column names, the next step is coerce our data into the correct format."
   ]
  },
  {
   "cell_type": "markdown",
   "id": "78d65ece",
   "metadata": {},
   "source": [
    "By the correct format, we mean, that we should try to change as much of our data from strings as possible into datetime or numeric datatypes.  \n",
    "\n",
    "In pandas, type string is called an object. And we can view the datatypes of our columns that are of type object like so."
   ]
  },
  {
   "cell_type": "code",
   "execution_count": 91,
   "id": "76b86b16",
   "metadata": {},
   "outputs": [
    {
     "data": {
      "text/plain": [
       "date                   object\n",
       "product                object\n",
       "gender                 object\n",
       "device_type            object\n",
       "country                object\n",
       "state                  object\n",
       "city                   object\n",
       "category               object\n",
       "customer_login_type    object\n",
       "delivery_type          object\n",
       "amount                 object\n",
       "individual_price       object\n",
       "year_month             object\n",
       "time                   object\n",
       "dtype: object"
      ]
     },
     "execution_count": 91,
     "metadata": {},
     "output_type": "execute_result"
    }
   ],
   "source": [
    "df.dtypes[df.dtypes == 'object']"
   ]
  },
  {
   "cell_type": "code",
   "execution_count": 22,
   "id": "aaf40f14",
   "metadata": {},
   "outputs": [
    {
     "data": {
      "text/html": [
       "<div>\n",
       "<style scoped>\n",
       "    .dataframe tbody tr th:only-of-type {\n",
       "        vertical-align: middle;\n",
       "    }\n",
       "\n",
       "    .dataframe tbody tr th {\n",
       "        vertical-align: top;\n",
       "    }\n",
       "\n",
       "    .dataframe thead th {\n",
       "        text-align: right;\n",
       "    }\n",
       "</style>\n",
       "<table border=\"1\" class=\"dataframe\">\n",
       "  <thead>\n",
       "    <tr style=\"text-align: right;\">\n",
       "      <th></th>\n",
       "      <th>Transaction_id</th>\n",
       "      <th>customer_id</th>\n",
       "      <th>Date</th>\n",
       "      <th>Product</th>\n",
       "      <th>Gender</th>\n",
       "      <th>Device_Type</th>\n",
       "      <th>Country</th>\n",
       "      <th>State</th>\n",
       "      <th>City</th>\n",
       "      <th>Category</th>\n",
       "      <th>Customer_Login_type</th>\n",
       "      <th>Delivery_Type</th>\n",
       "      <th>Quantity</th>\n",
       "      <th>Transaction Start</th>\n",
       "      <th>Transaction_Result</th>\n",
       "      <th>Amount US$</th>\n",
       "      <th>Individual_Price_US$</th>\n",
       "      <th>Year_Month</th>\n",
       "      <th>Time</th>\n",
       "    </tr>\n",
       "  </thead>\n",
       "  <tbody>\n",
       "    <tr>\n",
       "      <th>0</th>\n",
       "      <td>40170</td>\n",
       "      <td>1348959766</td>\n",
       "      <td>14/11/2013</td>\n",
       "      <td>Hair Band</td>\n",
       "      <td>Female</td>\n",
       "      <td>Web</td>\n",
       "      <td>United States</td>\n",
       "      <td>New York</td>\n",
       "      <td>New York City</td>\n",
       "      <td>Accessories</td>\n",
       "      <td>Member</td>\n",
       "      <td>one-day deliver</td>\n",
       "      <td>12</td>\n",
       "      <td>1</td>\n",
       "      <td>0</td>\n",
       "      <td>6,910</td>\n",
       "      <td>576</td>\n",
       "      <td>13-Nov</td>\n",
       "      <td>22:35:51</td>\n",
       "    </tr>\n",
       "  </tbody>\n",
       "</table>\n",
       "</div>"
      ],
      "text/plain": [
       "   Transaction_id  customer_id        Date    Product  Gender Device_Type  \\\n",
       "0           40170   1348959766  14/11/2013  Hair Band  Female         Web   \n",
       "\n",
       "         Country     State           City     Category Customer_Login_type  \\\n",
       "0  United States  New York  New York City  Accessories              Member   \n",
       "\n",
       "     Delivery_Type   Quantity   Transaction Start  Transaction_Result  \\\n",
       "0  one-day deliver          12                  1                   0   \n",
       "\n",
       "  Amount US$ Individual_Price_US$ Year_Month      Time  \n",
       "0      6,910                  576     13-Nov  22:35:51  "
      ]
     },
     "execution_count": 22,
     "metadata": {},
     "output_type": "execute_result"
    }
   ],
   "source": [
    "df[:1]"
   ]
  },
  {
   "cell_type": "markdown",
   "id": "41dd8bf8",
   "metadata": {},
   "source": [
    "Ok, so some of these columns should not be of type object.  Let's copy the columns we should reformat below."
   ]
  },
  {
   "cell_type": "code",
   "execution_count": 23,
   "id": "e71f85ca",
   "metadata": {},
   "outputs": [],
   "source": [
    "# date, time, individual_price, amount, year_month\n",
    "                    "
   ]
  },
  {
   "cell_type": "markdown",
   "id": "a13c1d34",
   "metadata": {},
   "source": [
    "### Coercing our data"
   ]
  },
  {
   "cell_type": "markdown",
   "id": "cf69f278",
   "metadata": {},
   "source": [
    "Next we can coerce by select each individual column, coercing it to the correct type and then replacing that column in our dataframe.  Let's get started."
   ]
  },
  {
   "cell_type": "code",
   "execution_count": 92,
   "id": "15138428",
   "metadata": {},
   "outputs": [
    {
     "data": {
      "text/plain": [
       "0   2013-11-14\n",
       "1   2013-05-11\n",
       "Name: date, dtype: datetime64[ns]"
      ]
     },
     "execution_count": 92,
     "metadata": {},
     "output_type": "execute_result"
    }
   ],
   "source": [
    "updated_date = pd.to_datetime(df['date'])\n",
    "updated_date[:2]"
   ]
  },
  {
   "cell_type": "markdown",
   "id": "f86c73cc",
   "metadata": {},
   "source": [
    "And now we can see that the datatype is of type datetime.  Now let's work on the timestamp in the `df['Time']` column.  If we again use the to_datetime function, we'll see that the date is off, as one is not provided."
   ]
  },
  {
   "cell_type": "code",
   "execution_count": 93,
   "id": "20475d1d",
   "metadata": {},
   "outputs": [
    {
     "data": {
      "text/plain": [
       "0   2022-11-15 22:35:51\n",
       "1   2022-11-15 06:44:41\n",
       "Name: time, dtype: datetime64[ns]"
      ]
     },
     "execution_count": 93,
     "metadata": {},
     "output_type": "execute_result"
    }
   ],
   "source": [
    "updated_time = pd.to_datetime(df['time'])\n",
    "updated_time[:2]"
   ]
  },
  {
   "cell_type": "markdown",
   "id": "356aad37",
   "metadata": {},
   "source": [
    "So from here, we can extract the time by calling `.dt.time` on our datetime series."
   ]
  },
  {
   "cell_type": "code",
   "execution_count": 123,
   "id": "46c932a5",
   "metadata": {},
   "outputs": [
    {
     "data": {
      "text/plain": [
       "0   1900-01-01 22:35:51\n",
       "Name: time, dtype: datetime64[ns]"
      ]
     },
     "execution_count": 123,
     "metadata": {},
     "output_type": "execute_result"
    }
   ],
   "source": [
    "updated_time = pd.to_datetime(df['time'], format = '%H:%M:%S')\n",
    "updated_time[:1]"
   ]
  },
  {
   "cell_type": "markdown",
   "id": "cec640fd",
   "metadata": {},
   "source": [
    "And we can see that our data is of type time.  Ok, so now our remaining columns are `Individual_Price_US$`, `Amount US$`,  and `Year_Month`."
   ]
  },
  {
   "cell_type": "markdown",
   "id": "b6681da9",
   "metadata": {},
   "source": [
    "Ok, so starting with the `Individual_Price_US$` column, attempting to convert this to an integer or float, we may try the following.\n",
    "\n",
    "```python\n",
    "pd.to_numeric(df['Individual_Price_US$'])\n",
    "```\n",
    "\n",
    "But doing so will give us this error.\n",
    "\n",
    "```python\n",
    "ValueError: Unable to parse string \"1,075\" at position 10\n",
    "```\n",
    "\n",
    "The issue is that pandas does not know how to handle those commas.  So we can remove them with something like the following."
   ]
  },
  {
   "cell_type": "code",
   "execution_count": 95,
   "id": "902cbe0b",
   "metadata": {},
   "outputs": [
    {
     "data": {
      "text/plain": [
       "0    576\n",
       "1    100\n",
       "Name: individual_price, dtype: object"
      ]
     },
     "execution_count": 95,
     "metadata": {},
     "output_type": "execute_result"
    }
   ],
   "source": [
    "removed_comma = df['individual_price'].str.replace(',', '')\n",
    "removed_comma[:2]"
   ]
  },
  {
   "cell_type": "markdown",
   "id": "f22aa378",
   "metadata": {},
   "source": [
    "So we just called `str` to access our string methods and then removed the comma from any row that had it present.  And now we can again try to convert this string to be numeric."
   ]
  },
  {
   "cell_type": "markdown",
   "id": "2c227f80",
   "metadata": {},
   "source": [
    "```python\n",
    "numeric_individual_price = pd.to_numeric(removed_comma)\n",
    "numeric_individual_price[:2]\n",
    "\n",
    "ValueError: Unable to parse string \"#VALUE!\" at position 192\n",
    "```"
   ]
  },
  {
   "cell_type": "markdown",
   "id": "888c91e1",
   "metadata": {},
   "source": [
    "Unfortunately, we have other values that pandas does not know how to handle.  So we can replace these `#VALUE!` with nan values, which stands for not a number."
   ]
  },
  {
   "cell_type": "code",
   "execution_count": 45,
   "id": "59ea26de",
   "metadata": {},
   "outputs": [
    {
     "data": {
      "text/plain": [
       "0    576.0\n",
       "1    100.0\n",
       "Name: Individual_Price_US$, dtype: float64"
      ]
     },
     "execution_count": 45,
     "metadata": {},
     "output_type": "execute_result"
    }
   ],
   "source": [
    "import numpy as np\n",
    "removed_value_strings = removed_comma.replace('#VALUE!', np.nan)\n",
    "numeric_individual_price = pd.to_numeric(removed_value_strings)\n",
    "numeric_individual_price[:2]"
   ]
  },
  {
   "cell_type": "markdown",
   "id": "f8eecd02",
   "metadata": {},
   "source": [
    "And now we are in good shape.  Any of the `#VALUE!` properties is changed to `nan`, which is considered a numeric value."
   ]
  },
  {
   "cell_type": "markdown",
   "id": "7f74e459",
   "metadata": {},
   "source": [
    "### Your turn"
   ]
  },
  {
   "cell_type": "markdown",
   "id": "031390f2",
   "metadata": {},
   "source": [
    "Next work on the `Amount US$` series.  convert it to be of type numeric and assign it to the variable `updated_amount`."
   ]
  },
  {
   "cell_type": "code",
   "execution_count": 104,
   "id": "27246d38",
   "metadata": {},
   "outputs": [
    {
     "data": {
      "text/plain": [
       "0    6910.0\n",
       "1    1699.0\n",
       "Name: amount, dtype: float64"
      ]
     },
     "execution_count": 104,
     "metadata": {},
     "output_type": "execute_result"
    }
   ],
   "source": [
    "updated_amount = pd.to_numeric(df['amount'].str.replace(',', '')) # make this numeric\n",
    "updated_amount[:2]\n",
    "\n",
    "# 0    6910.0\n",
    "# 1    1699.0\n",
    "# Name: Amount US$, dtype: float64"
   ]
  },
  {
   "cell_type": "markdown",
   "id": "0c918c6f",
   "metadata": {},
   "source": [
    "### Splitting our Data"
   ]
  },
  {
   "cell_type": "markdown",
   "id": "3b3d3d93",
   "metadata": {},
   "source": [
    "Finally, let's work with our Year Month data.  There are two pieces of information is this, but it will be easier if we extract the year, and separate that into it's own column, and do the same for the month.\n",
    "\n",
    "We can do so with the following:"
   ]
  },
  {
   "cell_type": "code",
   "execution_count": 97,
   "id": "0d838ed5",
   "metadata": {},
   "outputs": [
    {
     "data": {
      "text/plain": [
       "0    [13, Nov]\n",
       "1    [13, Nov]\n",
       "Name: year_month, dtype: object"
      ]
     },
     "execution_count": 97,
     "metadata": {},
     "output_type": "execute_result"
    }
   ],
   "source": [
    "df['year_month'].str.split('-')[:2]"
   ]
  },
  {
   "cell_type": "markdown",
   "id": "d8bd2b7d",
   "metadata": {},
   "source": [
    "So again start with `.str` to access the string methods, then split splits our data into a list.  From there, we can pull out the first element in the list and assign it to a series like so."
   ]
  },
  {
   "cell_type": "code",
   "execution_count": 98,
   "id": "caecd89c",
   "metadata": {},
   "outputs": [],
   "source": [
    "year = df['year_month'].str.split('-').str[0]"
   ]
  },
  {
   "cell_type": "markdown",
   "id": "1dac827c",
   "metadata": {},
   "source": [
    "From there, we can prepend the `20`."
   ]
  },
  {
   "cell_type": "code",
   "execution_count": 99,
   "id": "25b86830",
   "metadata": {},
   "outputs": [
    {
     "data": {
      "text/plain": [
       "0    2013\n",
       "1    2013\n",
       "Name: year_month, dtype: object"
      ]
     },
     "execution_count": 99,
     "metadata": {},
     "output_type": "execute_result"
    }
   ],
   "source": [
    "updated_year = '20' + year\n",
    "updated_year[:2]"
   ]
  },
  {
   "cell_type": "markdown",
   "id": "622b03a6",
   "metadata": {},
   "source": [
    "And then convert this to be numeric."
   ]
  },
  {
   "cell_type": "code",
   "execution_count": 100,
   "id": "92610dd1",
   "metadata": {},
   "outputs": [
    {
     "data": {
      "text/plain": [
       "0    2013\n",
       "1    2013\n",
       "Name: year_month, dtype: int64"
      ]
     },
     "execution_count": 100,
     "metadata": {},
     "output_type": "execute_result"
    }
   ],
   "source": [
    "numeric_year = pd.to_numeric(updated_year)\n",
    "numeric_year[:2]"
   ]
  },
  {
   "cell_type": "markdown",
   "id": "e180f635",
   "metadata": {},
   "source": [
    "Now it's your turn.  Extract the month data from `year_month`.  You **do not** need to convert it to be numeric."
   ]
  },
  {
   "cell_type": "code",
   "execution_count": 101,
   "id": "6eafa528",
   "metadata": {},
   "outputs": [
    {
     "data": {
      "text/plain": [
       "0    Nov\n",
       "1    Nov\n",
       "Name: year_month, dtype: object"
      ]
     },
     "execution_count": 101,
     "metadata": {},
     "output_type": "execute_result"
    }
   ],
   "source": [
    "month = df['year_month'].str.split('-').str[1]\n",
    "month[:2]\n",
    "\n",
    "# 0    Nov\n",
    "# 1    Nov\n",
    "# Name: Year_Month, dtype: object"
   ]
  },
  {
   "cell_type": "markdown",
   "id": "45d5975f",
   "metadata": {},
   "source": [
    "### Finishing up"
   ]
  },
  {
   "cell_type": "markdown",
   "id": "18af20a8",
   "metadata": {},
   "source": [
    "Ok, so now we have formatted a number of different series to be numeric, but we still have not updated our dataframe.  Let's change that."
   ]
  },
  {
   "cell_type": "markdown",
   "id": "fd0f740f",
   "metadata": {},
   "source": [
    "> Here are our new columns."
   ]
  },
  {
   "cell_type": "markdown",
   "id": "27c3d798",
   "metadata": {},
   "source": [
    "And we can update the dataframe like so."
   ]
  },
  {
   "cell_type": "code",
   "execution_count": 102,
   "id": "5a7e6815",
   "metadata": {},
   "outputs": [
    {
     "data": {
      "text/plain": [
       "Index(['transaction_id', 'customer_id', 'date', 'product', 'gender',\n",
       "       'device_type', 'country', 'state', 'city', 'category',\n",
       "       'customer_login_type', 'delivery_type', 'quantity', 'transaction_start',\n",
       "       'transaction_result', 'amount', 'individual_price', 'year_month',\n",
       "       'time'],\n",
       "      dtype='object')"
      ]
     },
     "execution_count": 102,
     "metadata": {},
     "output_type": "execute_result"
    }
   ],
   "source": [
    "df.columns"
   ]
  },
  {
   "cell_type": "code",
   "execution_count": null,
   "id": "530d8fb6",
   "metadata": {},
   "outputs": [],
   "source": [
    "# updated_date, updated_time, numeric_individual_price, amount_us, numeric_year, month"
   ]
  },
  {
   "cell_type": "code",
   "execution_count": 124,
   "id": "8bfe088e",
   "metadata": {},
   "outputs": [],
   "source": [
    "updated_df = df.assign(date = updated_date, time = updated_time, \n",
    "individual_price = numeric_individual_price, amount = updated_amount, year = numeric_year, month = month)"
   ]
  },
  {
   "cell_type": "code",
   "execution_count": 125,
   "id": "9afe6149",
   "metadata": {},
   "outputs": [
    {
     "data": {
      "text/html": [
       "<div>\n",
       "<style scoped>\n",
       "    .dataframe tbody tr th:only-of-type {\n",
       "        vertical-align: middle;\n",
       "    }\n",
       "\n",
       "    .dataframe tbody tr th {\n",
       "        vertical-align: top;\n",
       "    }\n",
       "\n",
       "    .dataframe thead th {\n",
       "        text-align: right;\n",
       "    }\n",
       "</style>\n",
       "<table border=\"1\" class=\"dataframe\">\n",
       "  <thead>\n",
       "    <tr style=\"text-align: right;\">\n",
       "      <th></th>\n",
       "      <th>transaction_id</th>\n",
       "      <th>customer_id</th>\n",
       "      <th>date</th>\n",
       "      <th>product</th>\n",
       "      <th>gender</th>\n",
       "      <th>device_type</th>\n",
       "      <th>country</th>\n",
       "      <th>state</th>\n",
       "      <th>city</th>\n",
       "      <th>category</th>\n",
       "      <th>...</th>\n",
       "      <th>delivery_type</th>\n",
       "      <th>quantity</th>\n",
       "      <th>transaction_start</th>\n",
       "      <th>transaction_result</th>\n",
       "      <th>amount</th>\n",
       "      <th>individual_price</th>\n",
       "      <th>year_month</th>\n",
       "      <th>time</th>\n",
       "      <th>year</th>\n",
       "      <th>month</th>\n",
       "    </tr>\n",
       "  </thead>\n",
       "  <tbody>\n",
       "    <tr>\n",
       "      <th>0</th>\n",
       "      <td>40170</td>\n",
       "      <td>1348959766</td>\n",
       "      <td>2013-11-14</td>\n",
       "      <td>Hair Band</td>\n",
       "      <td>Female</td>\n",
       "      <td>Web</td>\n",
       "      <td>United States</td>\n",
       "      <td>New York</td>\n",
       "      <td>New York City</td>\n",
       "      <td>Accessories</td>\n",
       "      <td>...</td>\n",
       "      <td>one-day deliver</td>\n",
       "      <td>12</td>\n",
       "      <td>1</td>\n",
       "      <td>0</td>\n",
       "      <td>6910.0</td>\n",
       "      <td>576.0</td>\n",
       "      <td>13-Nov</td>\n",
       "      <td>1900-01-01 22:35:51</td>\n",
       "      <td>2013</td>\n",
       "      <td>Nov</td>\n",
       "    </tr>\n",
       "  </tbody>\n",
       "</table>\n",
       "<p>1 rows × 21 columns</p>\n",
       "</div>"
      ],
      "text/plain": [
       "   transaction_id  customer_id       date    product  gender device_type  \\\n",
       "0           40170   1348959766 2013-11-14  Hair Band  Female         Web   \n",
       "\n",
       "         country     state           city     category  ...    delivery_type  \\\n",
       "0  United States  New York  New York City  Accessories  ...  one-day deliver   \n",
       "\n",
       "  quantity  transaction_start  transaction_result  amount  individual_price  \\\n",
       "0       12                  1                   0  6910.0             576.0   \n",
       "\n",
       "   year_month                time  year  month  \n",
       "0      13-Nov 1900-01-01 22:35:51  2013    Nov  \n",
       "\n",
       "[1 rows x 21 columns]"
      ]
     },
     "execution_count": 125,
     "metadata": {},
     "output_type": "execute_result"
    }
   ],
   "source": [
    "updated_df[:1]"
   ]
  },
  {
   "cell_type": "markdown",
   "id": "06061c1c",
   "metadata": {},
   "source": [
    "Now our updated dataframe has a year_month column and the year and month columns separately.  So let's drop the `year_month` column. "
   ]
  },
  {
   "cell_type": "code",
   "execution_count": 126,
   "id": "99418426",
   "metadata": {},
   "outputs": [
    {
     "data": {
      "text/html": [
       "<div>\n",
       "<style scoped>\n",
       "    .dataframe tbody tr th:only-of-type {\n",
       "        vertical-align: middle;\n",
       "    }\n",
       "\n",
       "    .dataframe tbody tr th {\n",
       "        vertical-align: top;\n",
       "    }\n",
       "\n",
       "    .dataframe thead th {\n",
       "        text-align: right;\n",
       "    }\n",
       "</style>\n",
       "<table border=\"1\" class=\"dataframe\">\n",
       "  <thead>\n",
       "    <tr style=\"text-align: right;\">\n",
       "      <th></th>\n",
       "      <th>transaction_id</th>\n",
       "      <th>customer_id</th>\n",
       "      <th>date</th>\n",
       "      <th>product</th>\n",
       "      <th>gender</th>\n",
       "      <th>device_type</th>\n",
       "      <th>country</th>\n",
       "      <th>state</th>\n",
       "      <th>city</th>\n",
       "      <th>category</th>\n",
       "      <th>customer_login_type</th>\n",
       "      <th>delivery_type</th>\n",
       "      <th>quantity</th>\n",
       "      <th>transaction_start</th>\n",
       "      <th>transaction_result</th>\n",
       "      <th>amount</th>\n",
       "      <th>individual_price</th>\n",
       "      <th>time</th>\n",
       "      <th>year</th>\n",
       "      <th>month</th>\n",
       "    </tr>\n",
       "  </thead>\n",
       "  <tbody>\n",
       "    <tr>\n",
       "      <th>0</th>\n",
       "      <td>40170</td>\n",
       "      <td>1348959766</td>\n",
       "      <td>2013-11-14</td>\n",
       "      <td>Hair Band</td>\n",
       "      <td>Female</td>\n",
       "      <td>Web</td>\n",
       "      <td>United States</td>\n",
       "      <td>New York</td>\n",
       "      <td>New York City</td>\n",
       "      <td>Accessories</td>\n",
       "      <td>Member</td>\n",
       "      <td>one-day deliver</td>\n",
       "      <td>12</td>\n",
       "      <td>1</td>\n",
       "      <td>0</td>\n",
       "      <td>6910.0</td>\n",
       "      <td>576.0</td>\n",
       "      <td>1900-01-01 22:35:51</td>\n",
       "      <td>2013</td>\n",
       "      <td>Nov</td>\n",
       "    </tr>\n",
       "  </tbody>\n",
       "</table>\n",
       "</div>"
      ],
      "text/plain": [
       "   transaction_id  customer_id       date    product  gender device_type  \\\n",
       "0           40170   1348959766 2013-11-14  Hair Band  Female         Web   \n",
       "\n",
       "         country     state           city     category customer_login_type  \\\n",
       "0  United States  New York  New York City  Accessories              Member   \n",
       "\n",
       "     delivery_type  quantity  transaction_start  transaction_result  amount  \\\n",
       "0  one-day deliver        12                  1                   0  6910.0   \n",
       "\n",
       "   individual_price                time  year month  \n",
       "0             576.0 1900-01-01 22:35:51  2013   Nov  "
      ]
     },
     "execution_count": 126,
     "metadata": {},
     "output_type": "execute_result"
    }
   ],
   "source": [
    "reduced_df = updated_df.drop(columns = ['year_month'])\n",
    "reduced_df[:1]"
   ]
  },
  {
   "cell_type": "markdown",
   "id": "e2631204",
   "metadata": {},
   "source": [
    "And if we look at our datatypes now, we'll see that fewer columns are numeric."
   ]
  },
  {
   "cell_type": "code",
   "execution_count": 127,
   "id": "ed0338e5",
   "metadata": {},
   "outputs": [
    {
     "data": {
      "text/plain": [
       "product                object\n",
       "gender                 object\n",
       "device_type            object\n",
       "country                object\n",
       "state                  object\n",
       "city                   object\n",
       "category               object\n",
       "customer_login_type    object\n",
       "delivery_type          object\n",
       "month                  object\n",
       "dtype: object"
      ]
     },
     "execution_count": 127,
     "metadata": {},
     "output_type": "execute_result"
    }
   ],
   "source": [
    "reduced_df.dtypes[reduced_df.dtypes == 'object']"
   ]
  },
  {
   "cell_type": "markdown",
   "id": "8f23ba0e",
   "metadata": {},
   "source": [
    "This looks good."
   ]
  },
  {
   "cell_type": "markdown",
   "id": "f7b74927",
   "metadata": {},
   "source": [
    "From here, we can load our data into our postgres database with the following."
   ]
  },
  {
   "cell_type": "code",
   "execution_count": 129,
   "id": "136d25f0-a2b9-409b-b550-d6e91ff6287f",
   "metadata": {},
   "outputs": [],
   "source": [
    "from sqlalchemy import create_engine\n",
    "conn_string = 'postgresql://jeffreykatz@localhost/ecommerce'\n",
    "\n",
    "conn = create_engine(conn_string)"
   ]
  },
  {
   "cell_type": "code",
   "execution_count": 130,
   "id": "b061a2a3-0643-48a5-a009-6461d4fb4dd8",
   "metadata": {},
   "outputs": [
    {
     "data": {
      "text/plain": [
       "535"
      ]
     },
     "execution_count": 130,
     "metadata": {},
     "output_type": "execute_result"
    }
   ],
   "source": [
    "reduced_df.to_sql('transactions', conn, if_exists='replace')"
   ]
  },
  {
   "cell_type": "code",
   "execution_count": 134,
   "id": "4bf77d7b",
   "metadata": {},
   "outputs": [
    {
     "data": {
      "text/html": [
       "<div>\n",
       "<style scoped>\n",
       "    .dataframe tbody tr th:only-of-type {\n",
       "        vertical-align: middle;\n",
       "    }\n",
       "\n",
       "    .dataframe tbody tr th {\n",
       "        vertical-align: top;\n",
       "    }\n",
       "\n",
       "    .dataframe thead th {\n",
       "        text-align: right;\n",
       "    }\n",
       "</style>\n",
       "<table border=\"1\" class=\"dataframe\">\n",
       "  <thead>\n",
       "    <tr style=\"text-align: right;\">\n",
       "      <th></th>\n",
       "      <th>index</th>\n",
       "      <th>transaction_id</th>\n",
       "      <th>customer_id</th>\n",
       "      <th>date</th>\n",
       "      <th>product</th>\n",
       "      <th>gender</th>\n",
       "      <th>device_type</th>\n",
       "      <th>country</th>\n",
       "      <th>state</th>\n",
       "      <th>city</th>\n",
       "      <th>...</th>\n",
       "      <th>customer_login_type</th>\n",
       "      <th>delivery_type</th>\n",
       "      <th>quantity</th>\n",
       "      <th>transaction_start</th>\n",
       "      <th>transaction_result</th>\n",
       "      <th>amount</th>\n",
       "      <th>individual_price</th>\n",
       "      <th>time</th>\n",
       "      <th>year</th>\n",
       "      <th>month</th>\n",
       "    </tr>\n",
       "  </thead>\n",
       "  <tbody>\n",
       "    <tr>\n",
       "      <th>0</th>\n",
       "      <td>0</td>\n",
       "      <td>40170</td>\n",
       "      <td>1348959766</td>\n",
       "      <td>2013-11-14</td>\n",
       "      <td>Hair Band</td>\n",
       "      <td>Female</td>\n",
       "      <td>Web</td>\n",
       "      <td>United States</td>\n",
       "      <td>New York</td>\n",
       "      <td>New York City</td>\n",
       "      <td>...</td>\n",
       "      <td>Member</td>\n",
       "      <td>one-day deliver</td>\n",
       "      <td>12</td>\n",
       "      <td>1</td>\n",
       "      <td>0</td>\n",
       "      <td>6910.0</td>\n",
       "      <td>576.0</td>\n",
       "      <td>1900-01-01 22:35:51</td>\n",
       "      <td>2013</td>\n",
       "      <td>Nov</td>\n",
       "    </tr>\n",
       "  </tbody>\n",
       "</table>\n",
       "<p>1 rows × 21 columns</p>\n",
       "</div>"
      ],
      "text/plain": [
       "   index  transaction_id  customer_id       date    product  gender  \\\n",
       "0      0           40170   1348959766 2013-11-14  Hair Band  Female   \n",
       "\n",
       "  device_type        country     state           city  ...  \\\n",
       "0         Web  United States  New York  New York City  ...   \n",
       "\n",
       "  customer_login_type    delivery_type quantity  transaction_start  \\\n",
       "0              Member  one-day deliver       12                  1   \n",
       "\n",
       "   transaction_result  amount  individual_price                time  year  \\\n",
       "0                   0  6910.0             576.0 1900-01-01 22:35:51  2013   \n",
       "\n",
       "   month  \n",
       "0    Nov  \n",
       "\n",
       "[1 rows x 21 columns]"
      ]
     },
     "execution_count": 134,
     "metadata": {},
     "output_type": "execute_result"
    }
   ],
   "source": [
    "txns_df = pd.read_sql('select * from transactions limit 1', conn)\n",
    "txns_df"
   ]
  },
  {
   "cell_type": "markdown",
   "id": "ed9c2607",
   "metadata": {},
   "source": [
    "And if you look at the table columns in postgres, you can see that they have been stored in the appropriate type."
   ]
  },
  {
   "cell_type": "markdown",
   "id": "af5cda70",
   "metadata": {},
   "source": [
    "<img src=\"./displayed-txn.png\" width=\"60%\">"
   ]
  },
  {
   "cell_type": "markdown",
   "id": "e64a24fb",
   "metadata": {},
   "source": [
    "### Summary"
   ]
  },
  {
   "cell_type": "code",
   "execution_count": 60,
   "id": "d66a49ad-ddeb-41b0-bc96-a102226667d5",
   "metadata": {},
   "outputs": [],
   "source": [
    "columns = ['transaction_id', 'customer_id', 'date', 'product', 'gender',\n",
    "       'device_type', 'country', 'state', 'city', 'category',\n",
    "       'customer_login_type', 'delivery_type', 'quantity',\n",
    "       'transaction_start', 'transaction_result', 'total_amount',\n",
    "       'individual_price', 'year_month', 'time']"
   ]
  },
  {
   "cell_type": "code",
   "execution_count": 61,
   "id": "85176810-642e-4212-8148-6eef55a669ed",
   "metadata": {},
   "outputs": [],
   "source": [
    "df.columns = columns"
   ]
  },
  {
   "cell_type": "code",
   "execution_count": 62,
   "id": "ab32d234-8624-4215-aca7-7a96680d87ed",
   "metadata": {},
   "outputs": [
    {
     "data": {
      "text/html": [
       "<div>\n",
       "<style scoped>\n",
       "    .dataframe tbody tr th:only-of-type {\n",
       "        vertical-align: middle;\n",
       "    }\n",
       "\n",
       "    .dataframe tbody tr th {\n",
       "        vertical-align: top;\n",
       "    }\n",
       "\n",
       "    .dataframe thead th {\n",
       "        text-align: right;\n",
       "    }\n",
       "</style>\n",
       "<table border=\"1\" class=\"dataframe\">\n",
       "  <thead>\n",
       "    <tr style=\"text-align: right;\">\n",
       "      <th></th>\n",
       "      <th>transaction_id</th>\n",
       "      <th>customer_id</th>\n",
       "      <th>date</th>\n",
       "      <th>product</th>\n",
       "      <th>gender</th>\n",
       "      <th>device_type</th>\n",
       "      <th>country</th>\n",
       "      <th>state</th>\n",
       "      <th>city</th>\n",
       "      <th>category</th>\n",
       "      <th>customer_login_type</th>\n",
       "      <th>delivery_type</th>\n",
       "      <th>quantity</th>\n",
       "      <th>transaction_start</th>\n",
       "      <th>transaction_result</th>\n",
       "      <th>total_amount</th>\n",
       "      <th>individual_price</th>\n",
       "      <th>year_month</th>\n",
       "      <th>time</th>\n",
       "    </tr>\n",
       "  </thead>\n",
       "  <tbody>\n",
       "    <tr>\n",
       "      <th>0</th>\n",
       "      <td>40170</td>\n",
       "      <td>1348959766</td>\n",
       "      <td>14/11/2013</td>\n",
       "      <td>Hair Band</td>\n",
       "      <td>Female</td>\n",
       "      <td>Web</td>\n",
       "      <td>United States</td>\n",
       "      <td>New York</td>\n",
       "      <td>New York City</td>\n",
       "      <td>Accessories</td>\n",
       "      <td>Member</td>\n",
       "      <td>one-day deliver</td>\n",
       "      <td>12</td>\n",
       "      <td>1</td>\n",
       "      <td>0</td>\n",
       "      <td>6,910</td>\n",
       "      <td>576</td>\n",
       "      <td>13-Nov</td>\n",
       "      <td>22:35:51</td>\n",
       "    </tr>\n",
       "  </tbody>\n",
       "</table>\n",
       "</div>"
      ],
      "text/plain": [
       "   transaction_id  customer_id        date    product  gender device_type  \\\n",
       "0           40170   1348959766  14/11/2013  Hair Band  Female         Web   \n",
       "\n",
       "         country     state           city     category customer_login_type  \\\n",
       "0  United States  New York  New York City  Accessories              Member   \n",
       "\n",
       "     delivery_type  quantity  transaction_start  transaction_result  \\\n",
       "0  one-day deliver        12                  1                   0   \n",
       "\n",
       "  total_amount individual_price year_month      time  \n",
       "0        6,910              576     13-Nov  22:35:51  "
      ]
     },
     "execution_count": 62,
     "metadata": {},
     "output_type": "execute_result"
    }
   ],
   "source": [
    "df[:1]"
   ]
  },
  {
   "cell_type": "code",
   "execution_count": 67,
   "id": "7876684b-fbc8-45a6-aef2-c509fd15a1c2",
   "metadata": {},
   "outputs": [],
   "source": [
    "individual_price = pd.to_numeric(df['individual_price'].str.replace(',', ''), errors = 'coerce')"
   ]
  },
  {
   "cell_type": "code",
   "execution_count": 63,
   "id": "6ea860da-f0a0-4bfc-9d00-12085eef0945",
   "metadata": {},
   "outputs": [],
   "source": [
    "total_amount = pd.to_numeric(df['total_amount'].str.replace(',', ''), errors = 'coerce')"
   ]
  },
  {
   "cell_type": "code",
   "execution_count": 56,
   "id": "b018426f-4c7e-45ef-8156-a0c8a9c357c2",
   "metadata": {},
   "outputs": [],
   "source": [
    "date = pd.to_datetime(updated_df['date'], infer_datetime_format=True)"
   ]
  },
  {
   "cell_type": "code",
   "execution_count": 71,
   "id": "2391533c-ca2a-4507-9c8c-ae8efa8c3fb1",
   "metadata": {},
   "outputs": [],
   "source": [
    "time = pd.to_datetime(updated_df['time'], infer_datetime_format=True)"
   ]
  },
  {
   "cell_type": "code",
   "execution_count": 72,
   "id": "ae93795e-bc69-485d-aef7-d56a20231586",
   "metadata": {},
   "outputs": [],
   "source": [
    "updated_df = df.assign(total_amount = numeric_price, date = date, individual_price = individual_price, time = time)"
   ]
  },
  {
   "cell_type": "code",
   "execution_count": 74,
   "id": "061c45da-3105-487c-8ee8-3182670fb48c",
   "metadata": {},
   "outputs": [
    {
     "data": {
      "text/html": [
       "<div>\n",
       "<style scoped>\n",
       "    .dataframe tbody tr th:only-of-type {\n",
       "        vertical-align: middle;\n",
       "    }\n",
       "\n",
       "    .dataframe tbody tr th {\n",
       "        vertical-align: top;\n",
       "    }\n",
       "\n",
       "    .dataframe thead th {\n",
       "        text-align: right;\n",
       "    }\n",
       "</style>\n",
       "<table border=\"1\" class=\"dataframe\">\n",
       "  <thead>\n",
       "    <tr style=\"text-align: right;\">\n",
       "      <th></th>\n",
       "      <th>transaction_id</th>\n",
       "      <th>customer_id</th>\n",
       "      <th>date</th>\n",
       "      <th>product</th>\n",
       "      <th>gender</th>\n",
       "      <th>device_type</th>\n",
       "      <th>country</th>\n",
       "      <th>state</th>\n",
       "      <th>city</th>\n",
       "      <th>category</th>\n",
       "      <th>customer_login_type</th>\n",
       "      <th>delivery_type</th>\n",
       "      <th>quantity</th>\n",
       "      <th>transaction_start</th>\n",
       "      <th>transaction_result</th>\n",
       "      <th>total_amount</th>\n",
       "      <th>individual_price</th>\n",
       "      <th>year_month</th>\n",
       "      <th>time</th>\n",
       "    </tr>\n",
       "  </thead>\n",
       "  <tbody>\n",
       "    <tr>\n",
       "      <th>0</th>\n",
       "      <td>40170</td>\n",
       "      <td>1348959766</td>\n",
       "      <td>2013-11-14</td>\n",
       "      <td>Hair Band</td>\n",
       "      <td>Female</td>\n",
       "      <td>Web</td>\n",
       "      <td>United States</td>\n",
       "      <td>New York</td>\n",
       "      <td>New York City</td>\n",
       "      <td>Accessories</td>\n",
       "      <td>Member</td>\n",
       "      <td>one-day deliver</td>\n",
       "      <td>12</td>\n",
       "      <td>1</td>\n",
       "      <td>0</td>\n",
       "      <td>576.0</td>\n",
       "      <td>576.0</td>\n",
       "      <td>13-Nov</td>\n",
       "      <td>2022-11-03 22:35:51</td>\n",
       "    </tr>\n",
       "  </tbody>\n",
       "</table>\n",
       "</div>"
      ],
      "text/plain": [
       "   transaction_id  customer_id       date    product  gender device_type  \\\n",
       "0           40170   1348959766 2013-11-14  Hair Band  Female         Web   \n",
       "\n",
       "         country     state           city     category customer_login_type  \\\n",
       "0  United States  New York  New York City  Accessories              Member   \n",
       "\n",
       "     delivery_type  quantity  transaction_start  transaction_result  \\\n",
       "0  one-day deliver        12                  1                   0   \n",
       "\n",
       "   total_amount  individual_price year_month                time  \n",
       "0         576.0             576.0     13-Nov 2022-11-03 22:35:51  "
      ]
     },
     "execution_count": 74,
     "metadata": {},
     "output_type": "execute_result"
    }
   ],
   "source": [
    "updated_df[:1]"
   ]
  },
  {
   "cell_type": "code",
   "execution_count": 80,
   "id": "8df4306e-06dc-4b06-a6da-be22b1f35881",
   "metadata": {},
   "outputs": [
    {
     "data": {
      "text/plain": [
       "535"
      ]
     },
     "execution_count": 80,
     "metadata": {},
     "output_type": "execute_result"
    }
   ],
   "source": [
    "updated_df.to_sql('transactions', conn, if_exists = 'replace')"
   ]
  },
  {
   "cell_type": "code",
   "execution_count": 81,
   "id": "96c3765f-87ed-42e5-8119-82c6f12e8572",
   "metadata": {},
   "outputs": [
    {
     "data": {
      "text/html": [
       "<div>\n",
       "<style scoped>\n",
       "    .dataframe tbody tr th:only-of-type {\n",
       "        vertical-align: middle;\n",
       "    }\n",
       "\n",
       "    .dataframe tbody tr th {\n",
       "        vertical-align: top;\n",
       "    }\n",
       "\n",
       "    .dataframe thead th {\n",
       "        text-align: right;\n",
       "    }\n",
       "</style>\n",
       "<table border=\"1\" class=\"dataframe\">\n",
       "  <thead>\n",
       "    <tr style=\"text-align: right;\">\n",
       "      <th></th>\n",
       "      <th>total_amount</th>\n",
       "    </tr>\n",
       "  </thead>\n",
       "  <tbody>\n",
       "    <tr>\n",
       "      <th>0</th>\n",
       "      <td>576.0</td>\n",
       "    </tr>\n",
       "    <tr>\n",
       "      <th>1</th>\n",
       "      <td>100.0</td>\n",
       "    </tr>\n",
       "    <tr>\n",
       "      <th>2</th>\n",
       "      <td>217.0</td>\n",
       "    </tr>\n",
       "  </tbody>\n",
       "</table>\n",
       "</div>"
      ],
      "text/plain": [
       "   total_amount\n",
       "0         576.0\n",
       "1         100.0\n",
       "2         217.0"
      ]
     },
     "execution_count": 81,
     "metadata": {},
     "output_type": "execute_result"
    }
   ],
   "source": [
    "pd.read_sql(\"select total_amount from transactions limit 3\", conn)"
   ]
  },
  {
   "cell_type": "code",
   "execution_count": 85,
   "id": "2cbf3298-38fe-4385-9e10-b9393e120e18",
   "metadata": {},
   "outputs": [
    {
     "data": {
      "text/html": [
       "<div>\n",
       "<style scoped>\n",
       "    .dataframe tbody tr th:only-of-type {\n",
       "        vertical-align: middle;\n",
       "    }\n",
       "\n",
       "    .dataframe tbody tr th {\n",
       "        vertical-align: top;\n",
       "    }\n",
       "\n",
       "    .dataframe thead th {\n",
       "        text-align: right;\n",
       "    }\n",
       "</style>\n",
       "<table border=\"1\" class=\"dataframe\">\n",
       "  <thead>\n",
       "    <tr style=\"text-align: right;\">\n",
       "      <th></th>\n",
       "      <th>sum</th>\n",
       "      <th>year</th>\n",
       "      <th>month</th>\n",
       "    </tr>\n",
       "  </thead>\n",
       "  <tbody>\n",
       "    <tr>\n",
       "      <th>0</th>\n",
       "      <td>989610.0</td>\n",
       "      <td>2013.0</td>\n",
       "      <td>9.0</td>\n",
       "    </tr>\n",
       "    <tr>\n",
       "      <th>1</th>\n",
       "      <td>4073720.0</td>\n",
       "      <td>2013.0</td>\n",
       "      <td>10.0</td>\n",
       "    </tr>\n",
       "    <tr>\n",
       "      <th>2</th>\n",
       "      <td>5707065.0</td>\n",
       "      <td>2013.0</td>\n",
       "      <td>11.0</td>\n",
       "    </tr>\n",
       "    <tr>\n",
       "      <th>3</th>\n",
       "      <td>4725306.0</td>\n",
       "      <td>2013.0</td>\n",
       "      <td>12.0</td>\n",
       "    </tr>\n",
       "    <tr>\n",
       "      <th>4</th>\n",
       "      <td>742064.0</td>\n",
       "      <td>2014.0</td>\n",
       "      <td>1.0</td>\n",
       "    </tr>\n",
       "  </tbody>\n",
       "</table>\n",
       "</div>"
      ],
      "text/plain": [
       "         sum    year  month\n",
       "0   989610.0  2013.0    9.0\n",
       "1  4073720.0  2013.0   10.0\n",
       "2  5707065.0  2013.0   11.0\n",
       "3  4725306.0  2013.0   12.0\n",
       "4   742064.0  2014.0    1.0"
      ]
     },
     "execution_count": 85,
     "metadata": {},
     "output_type": "execute_result"
    }
   ],
   "source": [
    "overall_year_month = pd.read_sql(\"\"\"select sum(total_amount), EXTRACT(YEAR FROM date) as year, EXTRACT(MONTH FROM date) as month \n",
    "from transactions group by year, month order by year, month\"\"\", conn)\n",
    "\n",
    "overall_year_month"
   ]
  },
  {
   "cell_type": "markdown",
   "id": "896fe7a7-7e49-413e-8281-44b068f69852",
   "metadata": {},
   "source": [
    "Now one limitation of the above data is that we only have data from months September through January 2014.  Normally, we would like to compare year over year sales from the same month or even day.  For example, January 2014 should be compared against January 2013 -- not December."
   ]
  },
  {
   "cell_type": "markdown",
   "id": "cb8fe9d4-4bff-482f-b6f0-6e0e301c96df",
   "metadata": {},
   "source": [
    "Another thing to notice is that our numbers for September 2013 and January 2014 are a lot smaller than the other months.  Perhaps we have missing data.  One first check is to see the number of days accounted for in both of these months."
   ]
  },
  {
   "cell_type": "code",
   "execution_count": 98,
   "id": "e7f086c7-a66b-4814-9649-fb1846170dc4",
   "metadata": {},
   "outputs": [],
   "source": [
    "query = \"\"\"select EXTRACT(month FROM date) as month, count(distinct(EXTRACT(day FROM date))) from transactions group by month\"\"\"\n",
    "overall_year_month = pd.read_sql(query, conn)"
   ]
  },
  {
   "cell_type": "code",
   "execution_count": 99,
   "id": "6ff818f3-c143-40b1-97a0-0ee9bf5a4213",
   "metadata": {},
   "outputs": [
    {
     "data": {
      "text/html": [
       "<div>\n",
       "<style scoped>\n",
       "    .dataframe tbody tr th:only-of-type {\n",
       "        vertical-align: middle;\n",
       "    }\n",
       "\n",
       "    .dataframe tbody tr th {\n",
       "        vertical-align: top;\n",
       "    }\n",
       "\n",
       "    .dataframe thead th {\n",
       "        text-align: right;\n",
       "    }\n",
       "</style>\n",
       "<table border=\"1\" class=\"dataframe\">\n",
       "  <thead>\n",
       "    <tr style=\"text-align: right;\">\n",
       "      <th></th>\n",
       "      <th>month</th>\n",
       "      <th>count</th>\n",
       "    </tr>\n",
       "  </thead>\n",
       "  <tbody>\n",
       "    <tr>\n",
       "      <th>0</th>\n",
       "      <td>1.0</td>\n",
       "      <td>13</td>\n",
       "    </tr>\n",
       "    <tr>\n",
       "      <th>1</th>\n",
       "      <td>9.0</td>\n",
       "      <td>11</td>\n",
       "    </tr>\n",
       "    <tr>\n",
       "      <th>2</th>\n",
       "      <td>10.0</td>\n",
       "      <td>31</td>\n",
       "    </tr>\n",
       "    <tr>\n",
       "      <th>3</th>\n",
       "      <td>11.0</td>\n",
       "      <td>29</td>\n",
       "    </tr>\n",
       "    <tr>\n",
       "      <th>4</th>\n",
       "      <td>12.0</td>\n",
       "      <td>31</td>\n",
       "    </tr>\n",
       "  </tbody>\n",
       "</table>\n",
       "</div>"
      ],
      "text/plain": [
       "   month  count\n",
       "0    1.0     13\n",
       "1    9.0     11\n",
       "2   10.0     31\n",
       "3   11.0     29\n",
       "4   12.0     31"
      ]
     },
     "execution_count": 99,
     "metadata": {},
     "output_type": "execute_result"
    }
   ],
   "source": [
    "overall_year_month"
   ]
  },
  {
   "cell_type": "markdown",
   "id": "7abc6d34-067d-4a38-9301-efc42aafb824",
   "metadata": {},
   "source": [
    "So it looks like our months of October through December are essentially complete while September and January has only 1/3 of the days.  Let's see if the days are at least contiguous.  To do so, let's see the min and maximum days in the dataset."
   ]
  },
  {
   "cell_type": "code",
   "execution_count": 100,
   "id": "5f6cb950-eb88-42c7-8066-e72cb1d023f9",
   "metadata": {},
   "outputs": [
    {
     "data": {
      "text/html": [
       "<div>\n",
       "<style scoped>\n",
       "    .dataframe tbody tr th:only-of-type {\n",
       "        vertical-align: middle;\n",
       "    }\n",
       "\n",
       "    .dataframe tbody tr th {\n",
       "        vertical-align: top;\n",
       "    }\n",
       "\n",
       "    .dataframe thead th {\n",
       "        text-align: right;\n",
       "    }\n",
       "</style>\n",
       "<table border=\"1\" class=\"dataframe\">\n",
       "  <thead>\n",
       "    <tr style=\"text-align: right;\">\n",
       "      <th></th>\n",
       "      <th>min</th>\n",
       "      <th>max</th>\n",
       "    </tr>\n",
       "  </thead>\n",
       "  <tbody>\n",
       "    <tr>\n",
       "      <th>0</th>\n",
       "      <td>2013-09-20</td>\n",
       "      <td>2014-01-13</td>\n",
       "    </tr>\n",
       "  </tbody>\n",
       "</table>\n",
       "</div>"
      ],
      "text/plain": [
       "         min        max\n",
       "0 2013-09-20 2014-01-13"
      ]
     },
     "execution_count": 100,
     "metadata": {},
     "output_type": "execute_result"
    }
   ],
   "source": [
    "query = \"\"\"select min(date), max(date) from transactions\"\"\"\n",
    "pd.read_sql(query, conn)"
   ]
  },
  {
   "cell_type": "markdown",
   "id": "6bc28c21-bc87-4c2e-9bc5-0b410bd8e4c3",
   "metadata": {},
   "source": [
    "Ok so it does look like there are not gaps in our dates for these months.  This means grouping by something like weeks (instead of months) may be more appropriate."
   ]
  },
  {
   "cell_type": "markdown",
   "id": "c84041f7-4ae7-41af-8f7b-376ca3a8e4cb",
   "metadata": {},
   "source": [
    "> Skipping first and last week."
   ]
  },
  {
   "cell_type": "code",
   "execution_count": 1,
   "id": "844bd132-c9b7-4209-937c-5ad31b99c191",
   "metadata": {},
   "outputs": [],
   "source": [
    "query = \"\"\"select count(distinct(extract(day from date))), EXTRACT(week FROM date) as week where week = 38 group by week\"\"\"\n",
    "# overall_year_month = pd.read_sql(query, conn)"
   ]
  },
  {
   "cell_type": "code",
   "execution_count": 110,
   "id": "9dfce1f6-bfd1-47b1-94fc-217e02e01a08",
   "metadata": {},
   "outputs": [
    {
     "data": {
      "text/html": [
       "<div>\n",
       "<style scoped>\n",
       "    .dataframe tbody tr th:only-of-type {\n",
       "        vertical-align: middle;\n",
       "    }\n",
       "\n",
       "    .dataframe tbody tr th {\n",
       "        vertical-align: top;\n",
       "    }\n",
       "\n",
       "    .dataframe thead th {\n",
       "        text-align: right;\n",
       "    }\n",
       "</style>\n",
       "<table border=\"1\" class=\"dataframe\">\n",
       "  <thead>\n",
       "    <tr style=\"text-align: right;\">\n",
       "      <th></th>\n",
       "      <th>week</th>\n",
       "      <th>year</th>\n",
       "      <th>sum</th>\n",
       "    </tr>\n",
       "  </thead>\n",
       "  <tbody>\n",
       "    <tr>\n",
       "      <th>0</th>\n",
       "      <td>39.0</td>\n",
       "      <td>2013.0</td>\n",
       "      <td>595164.0</td>\n",
       "    </tr>\n",
       "    <tr>\n",
       "      <th>1</th>\n",
       "      <td>40.0</td>\n",
       "      <td>2013.0</td>\n",
       "      <td>738260.0</td>\n",
       "    </tr>\n",
       "    <tr>\n",
       "      <th>2</th>\n",
       "      <td>41.0</td>\n",
       "      <td>2013.0</td>\n",
       "      <td>754522.0</td>\n",
       "    </tr>\n",
       "    <tr>\n",
       "      <th>3</th>\n",
       "      <td>42.0</td>\n",
       "      <td>2013.0</td>\n",
       "      <td>982342.0</td>\n",
       "    </tr>\n",
       "    <tr>\n",
       "      <th>4</th>\n",
       "      <td>43.0</td>\n",
       "      <td>2013.0</td>\n",
       "      <td>992948.0</td>\n",
       "    </tr>\n",
       "    <tr>\n",
       "      <th>5</th>\n",
       "      <td>44.0</td>\n",
       "      <td>2013.0</td>\n",
       "      <td>1089473.0</td>\n",
       "    </tr>\n",
       "    <tr>\n",
       "      <th>6</th>\n",
       "      <td>45.0</td>\n",
       "      <td>2013.0</td>\n",
       "      <td>1339593.0</td>\n",
       "    </tr>\n",
       "    <tr>\n",
       "      <th>7</th>\n",
       "      <td>46.0</td>\n",
       "      <td>2013.0</td>\n",
       "      <td>1366328.0</td>\n",
       "    </tr>\n",
       "    <tr>\n",
       "      <th>8</th>\n",
       "      <td>47.0</td>\n",
       "      <td>2013.0</td>\n",
       "      <td>1248567.0</td>\n",
       "    </tr>\n",
       "    <tr>\n",
       "      <th>9</th>\n",
       "      <td>48.0</td>\n",
       "      <td>2013.0</td>\n",
       "      <td>1667409.0</td>\n",
       "    </tr>\n",
       "    <tr>\n",
       "      <th>10</th>\n",
       "      <td>49.0</td>\n",
       "      <td>2013.0</td>\n",
       "      <td>1648003.0</td>\n",
       "    </tr>\n",
       "    <tr>\n",
       "      <th>11</th>\n",
       "      <td>50.0</td>\n",
       "      <td>2013.0</td>\n",
       "      <td>1752675.0</td>\n",
       "    </tr>\n",
       "    <tr>\n",
       "      <th>12</th>\n",
       "      <td>51.0</td>\n",
       "      <td>2013.0</td>\n",
       "      <td>509833.0</td>\n",
       "    </tr>\n",
       "    <tr>\n",
       "      <th>13</th>\n",
       "      <td>52.0</td>\n",
       "      <td>2013.0</td>\n",
       "      <td>429352.0</td>\n",
       "    </tr>\n",
       "    <tr>\n",
       "      <th>14</th>\n",
       "      <td>1.0</td>\n",
       "      <td>2014.0</td>\n",
       "      <td>326675.0</td>\n",
       "    </tr>\n",
       "    <tr>\n",
       "      <th>15</th>\n",
       "      <td>2.0</td>\n",
       "      <td>2014.0</td>\n",
       "      <td>371088.0</td>\n",
       "    </tr>\n",
       "  </tbody>\n",
       "</table>\n",
       "</div>"
      ],
      "text/plain": [
       "    week    year        sum\n",
       "0   39.0  2013.0   595164.0\n",
       "1   40.0  2013.0   738260.0\n",
       "2   41.0  2013.0   754522.0\n",
       "3   42.0  2013.0   982342.0\n",
       "4   43.0  2013.0   992948.0\n",
       "5   44.0  2013.0  1089473.0\n",
       "6   45.0  2013.0  1339593.0\n",
       "7   46.0  2013.0  1366328.0\n",
       "8   47.0  2013.0  1248567.0\n",
       "9   48.0  2013.0  1667409.0\n",
       "10  49.0  2013.0  1648003.0\n",
       "11  50.0  2013.0  1752675.0\n",
       "12  51.0  2013.0   509833.0\n",
       "13  52.0  2013.0   429352.0\n",
       "14   1.0  2014.0   326675.0\n",
       "15   2.0  2014.0   371088.0"
      ]
     },
     "execution_count": 110,
     "metadata": {},
     "output_type": "execute_result"
    }
   ],
   "source": [
    "query = \"\"\"select EXTRACT(week FROM date) as week, EXTRACT(year FROM date) as year, SUM(total_amount) \n",
    "from transactions group by week, year order by year, week OFFSET 2 limit 16\"\"\"\n",
    "overall_year_month = pd.read_sql(query, conn)\n",
    "overall_year_month"
   ]
  },
  {
   "cell_type": "code",
   "execution_count": null,
   "id": "3d745224-1214-49ac-8843-aceb9cc49265",
   "metadata": {},
   "outputs": [],
   "source": [
    "from transactions"
   ]
  },
  {
   "cell_type": "markdown",
   "id": "819e97cc-49c6-4c58-80d3-31eef384e1bb",
   "metadata": {},
   "source": [
    "### Resources\n",
    "\n",
    "[Crosstab](https://stackoverflow.com/questions/3002499/postgresql-crosstab-query/11751905#11751905)"
   ]
  }
 ],
 "metadata": {
  "kernelspec": {
   "display_name": "Python 3.10.6 64-bit",
   "language": "python",
   "name": "python3"
  },
  "language_info": {
   "codemirror_mode": {
    "name": "ipython",
    "version": 3
   },
   "file_extension": ".py",
   "mimetype": "text/x-python",
   "name": "python",
   "nbconvert_exporter": "python",
   "pygments_lexer": "ipython3",
   "version": "3.10.6"
  },
  "vscode": {
   "interpreter": {
    "hash": "b0fa6594d8f4cbf19f97940f81e996739fb7646882a419484c72d19e05852a7e"
   }
  }
 },
 "nbformat": 4,
 "nbformat_minor": 5
}
