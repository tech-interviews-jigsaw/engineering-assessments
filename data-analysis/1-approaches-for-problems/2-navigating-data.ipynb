{
 "cells": [
  {
   "cell_type": "code",
   "execution_count": null,
   "id": "2501a419-29f2-42b4-9509-4af892c04853",
   "metadata": {},
   "outputs": [],
   "source": []
  },
  {
   "cell_type": "code",
   "execution_count": 1,
   "id": "08a6b146-ec3a-48c6-98df-3f629388c3c2",
   "metadata": {},
   "outputs": [],
   "source": [
    "from sqlalchemy import create_engine"
   ]
  },
  {
   "cell_type": "code",
   "execution_count": 2,
   "id": "136d25f0-a2b9-409b-b550-d6e91ff6287f",
   "metadata": {},
   "outputs": [],
   "source": [
    "conn_string = 'postgresql://jeffreykatz@localhost/ecommerce'\n",
    "\n",
    "conn = create_engine(conn_string)"
   ]
  },
  {
   "cell_type": "code",
   "execution_count": 59,
   "id": "b061a2a3-0643-48a5-a009-6461d4fb4dd8",
   "metadata": {},
   "outputs": [],
   "source": [
    "import pandas as pd\n",
    "\n",
    "df = pd.read_csv('./ecommerce-dataset.csv')"
   ]
  },
  {
   "cell_type": "code",
   "execution_count": 60,
   "id": "d66a49ad-ddeb-41b0-bc96-a102226667d5",
   "metadata": {},
   "outputs": [],
   "source": [
    "columns = ['transaction_id', 'customer_id', 'date', 'product', 'gender',\n",
    "       'device_type', 'country', 'state', 'city', 'category',\n",
    "       'customer_login_type', 'delivery_type', 'quantity',\n",
    "       'transaction_start', 'transaction_result', 'total_amount',\n",
    "       'individual_price', 'year_month', 'time']"
   ]
  },
  {
   "cell_type": "code",
   "execution_count": 61,
   "id": "85176810-642e-4212-8148-6eef55a669ed",
   "metadata": {},
   "outputs": [],
   "source": [
    "df.columns = columns"
   ]
  },
  {
   "cell_type": "code",
   "execution_count": 62,
   "id": "ab32d234-8624-4215-aca7-7a96680d87ed",
   "metadata": {},
   "outputs": [
    {
     "data": {
      "text/html": [
       "<div>\n",
       "<style scoped>\n",
       "    .dataframe tbody tr th:only-of-type {\n",
       "        vertical-align: middle;\n",
       "    }\n",
       "\n",
       "    .dataframe tbody tr th {\n",
       "        vertical-align: top;\n",
       "    }\n",
       "\n",
       "    .dataframe thead th {\n",
       "        text-align: right;\n",
       "    }\n",
       "</style>\n",
       "<table border=\"1\" class=\"dataframe\">\n",
       "  <thead>\n",
       "    <tr style=\"text-align: right;\">\n",
       "      <th></th>\n",
       "      <th>transaction_id</th>\n",
       "      <th>customer_id</th>\n",
       "      <th>date</th>\n",
       "      <th>product</th>\n",
       "      <th>gender</th>\n",
       "      <th>device_type</th>\n",
       "      <th>country</th>\n",
       "      <th>state</th>\n",
       "      <th>city</th>\n",
       "      <th>category</th>\n",
       "      <th>customer_login_type</th>\n",
       "      <th>delivery_type</th>\n",
       "      <th>quantity</th>\n",
       "      <th>transaction_start</th>\n",
       "      <th>transaction_result</th>\n",
       "      <th>total_amount</th>\n",
       "      <th>individual_price</th>\n",
       "      <th>year_month</th>\n",
       "      <th>time</th>\n",
       "    </tr>\n",
       "  </thead>\n",
       "  <tbody>\n",
       "    <tr>\n",
       "      <th>0</th>\n",
       "      <td>40170</td>\n",
       "      <td>1348959766</td>\n",
       "      <td>14/11/2013</td>\n",
       "      <td>Hair Band</td>\n",
       "      <td>Female</td>\n",
       "      <td>Web</td>\n",
       "      <td>United States</td>\n",
       "      <td>New York</td>\n",
       "      <td>New York City</td>\n",
       "      <td>Accessories</td>\n",
       "      <td>Member</td>\n",
       "      <td>one-day deliver</td>\n",
       "      <td>12</td>\n",
       "      <td>1</td>\n",
       "      <td>0</td>\n",
       "      <td>6,910</td>\n",
       "      <td>576</td>\n",
       "      <td>13-Nov</td>\n",
       "      <td>22:35:51</td>\n",
       "    </tr>\n",
       "  </tbody>\n",
       "</table>\n",
       "</div>"
      ],
      "text/plain": [
       "   transaction_id  customer_id        date    product  gender device_type  \\\n",
       "0           40170   1348959766  14/11/2013  Hair Band  Female         Web   \n",
       "\n",
       "         country     state           city     category customer_login_type  \\\n",
       "0  United States  New York  New York City  Accessories              Member   \n",
       "\n",
       "     delivery_type  quantity  transaction_start  transaction_result  \\\n",
       "0  one-day deliver        12                  1                   0   \n",
       "\n",
       "  total_amount individual_price year_month      time  \n",
       "0        6,910              576     13-Nov  22:35:51  "
      ]
     },
     "execution_count": 62,
     "metadata": {},
     "output_type": "execute_result"
    }
   ],
   "source": [
    "df[:1]"
   ]
  },
  {
   "cell_type": "code",
   "execution_count": 67,
   "id": "7876684b-fbc8-45a6-aef2-c509fd15a1c2",
   "metadata": {},
   "outputs": [],
   "source": [
    "individual_price = pd.to_numeric(df['individual_price'].str.replace(',', ''), errors = 'coerce')"
   ]
  },
  {
   "cell_type": "code",
   "execution_count": 63,
   "id": "6ea860da-f0a0-4bfc-9d00-12085eef0945",
   "metadata": {},
   "outputs": [],
   "source": [
    "total_amount = pd.to_numeric(df['total_amount'].str.replace(',', ''), errors = 'coerce')"
   ]
  },
  {
   "cell_type": "code",
   "execution_count": 56,
   "id": "b018426f-4c7e-45ef-8156-a0c8a9c357c2",
   "metadata": {},
   "outputs": [],
   "source": [
    "date = pd.to_datetime(updated_df['date'], infer_datetime_format=True)"
   ]
  },
  {
   "cell_type": "code",
   "execution_count": 71,
   "id": "2391533c-ca2a-4507-9c8c-ae8efa8c3fb1",
   "metadata": {},
   "outputs": [],
   "source": [
    "time = pd.to_datetime(updated_df['time'], infer_datetime_format=True)"
   ]
  },
  {
   "cell_type": "code",
   "execution_count": 72,
   "id": "ae93795e-bc69-485d-aef7-d56a20231586",
   "metadata": {},
   "outputs": [],
   "source": [
    "updated_df = df.assign(total_amount = numeric_price, date = date, individual_price = individual_price, time = time)"
   ]
  },
  {
   "cell_type": "code",
   "execution_count": 74,
   "id": "061c45da-3105-487c-8ee8-3182670fb48c",
   "metadata": {},
   "outputs": [
    {
     "data": {
      "text/html": [
       "<div>\n",
       "<style scoped>\n",
       "    .dataframe tbody tr th:only-of-type {\n",
       "        vertical-align: middle;\n",
       "    }\n",
       "\n",
       "    .dataframe tbody tr th {\n",
       "        vertical-align: top;\n",
       "    }\n",
       "\n",
       "    .dataframe thead th {\n",
       "        text-align: right;\n",
       "    }\n",
       "</style>\n",
       "<table border=\"1\" class=\"dataframe\">\n",
       "  <thead>\n",
       "    <tr style=\"text-align: right;\">\n",
       "      <th></th>\n",
       "      <th>transaction_id</th>\n",
       "      <th>customer_id</th>\n",
       "      <th>date</th>\n",
       "      <th>product</th>\n",
       "      <th>gender</th>\n",
       "      <th>device_type</th>\n",
       "      <th>country</th>\n",
       "      <th>state</th>\n",
       "      <th>city</th>\n",
       "      <th>category</th>\n",
       "      <th>customer_login_type</th>\n",
       "      <th>delivery_type</th>\n",
       "      <th>quantity</th>\n",
       "      <th>transaction_start</th>\n",
       "      <th>transaction_result</th>\n",
       "      <th>total_amount</th>\n",
       "      <th>individual_price</th>\n",
       "      <th>year_month</th>\n",
       "      <th>time</th>\n",
       "    </tr>\n",
       "  </thead>\n",
       "  <tbody>\n",
       "    <tr>\n",
       "      <th>0</th>\n",
       "      <td>40170</td>\n",
       "      <td>1348959766</td>\n",
       "      <td>2013-11-14</td>\n",
       "      <td>Hair Band</td>\n",
       "      <td>Female</td>\n",
       "      <td>Web</td>\n",
       "      <td>United States</td>\n",
       "      <td>New York</td>\n",
       "      <td>New York City</td>\n",
       "      <td>Accessories</td>\n",
       "      <td>Member</td>\n",
       "      <td>one-day deliver</td>\n",
       "      <td>12</td>\n",
       "      <td>1</td>\n",
       "      <td>0</td>\n",
       "      <td>576.0</td>\n",
       "      <td>576.0</td>\n",
       "      <td>13-Nov</td>\n",
       "      <td>2022-11-03 22:35:51</td>\n",
       "    </tr>\n",
       "  </tbody>\n",
       "</table>\n",
       "</div>"
      ],
      "text/plain": [
       "   transaction_id  customer_id       date    product  gender device_type  \\\n",
       "0           40170   1348959766 2013-11-14  Hair Band  Female         Web   \n",
       "\n",
       "         country     state           city     category customer_login_type  \\\n",
       "0  United States  New York  New York City  Accessories              Member   \n",
       "\n",
       "     delivery_type  quantity  transaction_start  transaction_result  \\\n",
       "0  one-day deliver        12                  1                   0   \n",
       "\n",
       "   total_amount  individual_price year_month                time  \n",
       "0         576.0             576.0     13-Nov 2022-11-03 22:35:51  "
      ]
     },
     "execution_count": 74,
     "metadata": {},
     "output_type": "execute_result"
    }
   ],
   "source": [
    "updated_df[:1]"
   ]
  },
  {
   "cell_type": "code",
   "execution_count": 80,
   "id": "8df4306e-06dc-4b06-a6da-be22b1f35881",
   "metadata": {},
   "outputs": [
    {
     "data": {
      "text/plain": [
       "535"
      ]
     },
     "execution_count": 80,
     "metadata": {},
     "output_type": "execute_result"
    }
   ],
   "source": [
    "updated_df.to_sql('transactions', conn, if_exists = 'replace')"
   ]
  },
  {
   "cell_type": "code",
   "execution_count": 81,
   "id": "96c3765f-87ed-42e5-8119-82c6f12e8572",
   "metadata": {},
   "outputs": [
    {
     "data": {
      "text/html": [
       "<div>\n",
       "<style scoped>\n",
       "    .dataframe tbody tr th:only-of-type {\n",
       "        vertical-align: middle;\n",
       "    }\n",
       "\n",
       "    .dataframe tbody tr th {\n",
       "        vertical-align: top;\n",
       "    }\n",
       "\n",
       "    .dataframe thead th {\n",
       "        text-align: right;\n",
       "    }\n",
       "</style>\n",
       "<table border=\"1\" class=\"dataframe\">\n",
       "  <thead>\n",
       "    <tr style=\"text-align: right;\">\n",
       "      <th></th>\n",
       "      <th>total_amount</th>\n",
       "    </tr>\n",
       "  </thead>\n",
       "  <tbody>\n",
       "    <tr>\n",
       "      <th>0</th>\n",
       "      <td>576.0</td>\n",
       "    </tr>\n",
       "    <tr>\n",
       "      <th>1</th>\n",
       "      <td>100.0</td>\n",
       "    </tr>\n",
       "    <tr>\n",
       "      <th>2</th>\n",
       "      <td>217.0</td>\n",
       "    </tr>\n",
       "  </tbody>\n",
       "</table>\n",
       "</div>"
      ],
      "text/plain": [
       "   total_amount\n",
       "0         576.0\n",
       "1         100.0\n",
       "2         217.0"
      ]
     },
     "execution_count": 81,
     "metadata": {},
     "output_type": "execute_result"
    }
   ],
   "source": [
    "pd.read_sql(\"select total_amount from transactions limit 3\", conn)"
   ]
  },
  {
   "cell_type": "code",
   "execution_count": 85,
   "id": "2cbf3298-38fe-4385-9e10-b9393e120e18",
   "metadata": {},
   "outputs": [
    {
     "data": {
      "text/html": [
       "<div>\n",
       "<style scoped>\n",
       "    .dataframe tbody tr th:only-of-type {\n",
       "        vertical-align: middle;\n",
       "    }\n",
       "\n",
       "    .dataframe tbody tr th {\n",
       "        vertical-align: top;\n",
       "    }\n",
       "\n",
       "    .dataframe thead th {\n",
       "        text-align: right;\n",
       "    }\n",
       "</style>\n",
       "<table border=\"1\" class=\"dataframe\">\n",
       "  <thead>\n",
       "    <tr style=\"text-align: right;\">\n",
       "      <th></th>\n",
       "      <th>sum</th>\n",
       "      <th>year</th>\n",
       "      <th>month</th>\n",
       "    </tr>\n",
       "  </thead>\n",
       "  <tbody>\n",
       "    <tr>\n",
       "      <th>0</th>\n",
       "      <td>989610.0</td>\n",
       "      <td>2013.0</td>\n",
       "      <td>9.0</td>\n",
       "    </tr>\n",
       "    <tr>\n",
       "      <th>1</th>\n",
       "      <td>4073720.0</td>\n",
       "      <td>2013.0</td>\n",
       "      <td>10.0</td>\n",
       "    </tr>\n",
       "    <tr>\n",
       "      <th>2</th>\n",
       "      <td>5707065.0</td>\n",
       "      <td>2013.0</td>\n",
       "      <td>11.0</td>\n",
       "    </tr>\n",
       "    <tr>\n",
       "      <th>3</th>\n",
       "      <td>4725306.0</td>\n",
       "      <td>2013.0</td>\n",
       "      <td>12.0</td>\n",
       "    </tr>\n",
       "    <tr>\n",
       "      <th>4</th>\n",
       "      <td>742064.0</td>\n",
       "      <td>2014.0</td>\n",
       "      <td>1.0</td>\n",
       "    </tr>\n",
       "  </tbody>\n",
       "</table>\n",
       "</div>"
      ],
      "text/plain": [
       "         sum    year  month\n",
       "0   989610.0  2013.0    9.0\n",
       "1  4073720.0  2013.0   10.0\n",
       "2  5707065.0  2013.0   11.0\n",
       "3  4725306.0  2013.0   12.0\n",
       "4   742064.0  2014.0    1.0"
      ]
     },
     "execution_count": 85,
     "metadata": {},
     "output_type": "execute_result"
    }
   ],
   "source": [
    "overall_year_month = pd.read_sql(\"\"\"select sum(total_amount), EXTRACT(YEAR FROM date) as year, EXTRACT(MONTH FROM date) as month \n",
    "from transactions group by year, month order by year, month\"\"\", conn)\n",
    "\n",
    "overall_year_month"
   ]
  },
  {
   "cell_type": "markdown",
   "id": "896fe7a7-7e49-413e-8281-44b068f69852",
   "metadata": {},
   "source": [
    "Now one limitation of the above data is that we only have data from months September through January 2014.  Normally, we would like to compare year over year sales from the same month or even day.  For example, January 2014 should be compared against January 2013 -- not December."
   ]
  },
  {
   "cell_type": "markdown",
   "id": "cb8fe9d4-4bff-482f-b6f0-6e0e301c96df",
   "metadata": {},
   "source": [
    "Another thing to notice is that our numbers for September 2013 and January 2014 are a lot smaller than the other months.  Perhaps we have missing data.  One first check is to see the number of days accounted for in both of these months."
   ]
  },
  {
   "cell_type": "code",
   "execution_count": 98,
   "id": "e7f086c7-a66b-4814-9649-fb1846170dc4",
   "metadata": {},
   "outputs": [],
   "source": [
    "query = \"\"\"select EXTRACT(month FROM date) as month, count(distinct(EXTRACT(day FROM date))) from transactions group by month\"\"\"\n",
    "overall_year_month = pd.read_sql(query, conn)"
   ]
  },
  {
   "cell_type": "code",
   "execution_count": 99,
   "id": "6ff818f3-c143-40b1-97a0-0ee9bf5a4213",
   "metadata": {},
   "outputs": [
    {
     "data": {
      "text/html": [
       "<div>\n",
       "<style scoped>\n",
       "    .dataframe tbody tr th:only-of-type {\n",
       "        vertical-align: middle;\n",
       "    }\n",
       "\n",
       "    .dataframe tbody tr th {\n",
       "        vertical-align: top;\n",
       "    }\n",
       "\n",
       "    .dataframe thead th {\n",
       "        text-align: right;\n",
       "    }\n",
       "</style>\n",
       "<table border=\"1\" class=\"dataframe\">\n",
       "  <thead>\n",
       "    <tr style=\"text-align: right;\">\n",
       "      <th></th>\n",
       "      <th>month</th>\n",
       "      <th>count</th>\n",
       "    </tr>\n",
       "  </thead>\n",
       "  <tbody>\n",
       "    <tr>\n",
       "      <th>0</th>\n",
       "      <td>1.0</td>\n",
       "      <td>13</td>\n",
       "    </tr>\n",
       "    <tr>\n",
       "      <th>1</th>\n",
       "      <td>9.0</td>\n",
       "      <td>11</td>\n",
       "    </tr>\n",
       "    <tr>\n",
       "      <th>2</th>\n",
       "      <td>10.0</td>\n",
       "      <td>31</td>\n",
       "    </tr>\n",
       "    <tr>\n",
       "      <th>3</th>\n",
       "      <td>11.0</td>\n",
       "      <td>29</td>\n",
       "    </tr>\n",
       "    <tr>\n",
       "      <th>4</th>\n",
       "      <td>12.0</td>\n",
       "      <td>31</td>\n",
       "    </tr>\n",
       "  </tbody>\n",
       "</table>\n",
       "</div>"
      ],
      "text/plain": [
       "   month  count\n",
       "0    1.0     13\n",
       "1    9.0     11\n",
       "2   10.0     31\n",
       "3   11.0     29\n",
       "4   12.0     31"
      ]
     },
     "execution_count": 99,
     "metadata": {},
     "output_type": "execute_result"
    }
   ],
   "source": [
    "overall_year_month"
   ]
  },
  {
   "cell_type": "markdown",
   "id": "7abc6d34-067d-4a38-9301-efc42aafb824",
   "metadata": {},
   "source": [
    "So it looks like our months of October through December are essentially complete while September and January has only 1/3 of the days.  Let's see if the days are at least contiguous.  To do so, let's see the min and maximum days in the dataset."
   ]
  },
  {
   "cell_type": "code",
   "execution_count": 100,
   "id": "5f6cb950-eb88-42c7-8066-e72cb1d023f9",
   "metadata": {},
   "outputs": [
    {
     "data": {
      "text/html": [
       "<div>\n",
       "<style scoped>\n",
       "    .dataframe tbody tr th:only-of-type {\n",
       "        vertical-align: middle;\n",
       "    }\n",
       "\n",
       "    .dataframe tbody tr th {\n",
       "        vertical-align: top;\n",
       "    }\n",
       "\n",
       "    .dataframe thead th {\n",
       "        text-align: right;\n",
       "    }\n",
       "</style>\n",
       "<table border=\"1\" class=\"dataframe\">\n",
       "  <thead>\n",
       "    <tr style=\"text-align: right;\">\n",
       "      <th></th>\n",
       "      <th>min</th>\n",
       "      <th>max</th>\n",
       "    </tr>\n",
       "  </thead>\n",
       "  <tbody>\n",
       "    <tr>\n",
       "      <th>0</th>\n",
       "      <td>2013-09-20</td>\n",
       "      <td>2014-01-13</td>\n",
       "    </tr>\n",
       "  </tbody>\n",
       "</table>\n",
       "</div>"
      ],
      "text/plain": [
       "         min        max\n",
       "0 2013-09-20 2014-01-13"
      ]
     },
     "execution_count": 100,
     "metadata": {},
     "output_type": "execute_result"
    }
   ],
   "source": [
    "query = \"\"\"select min(date), max(date) from transactions\"\"\"\n",
    "pd.read_sql(query, conn)"
   ]
  },
  {
   "cell_type": "markdown",
   "id": "6bc28c21-bc87-4c2e-9bc5-0b410bd8e4c3",
   "metadata": {},
   "source": [
    "Ok so it does look like there are not gaps in our dates for these months.  This means grouping by something like weeks (instead of months) may be more appropriate."
   ]
  },
  {
   "cell_type": "markdown",
   "id": "c84041f7-4ae7-41af-8f7b-376ca3a8e4cb",
   "metadata": {},
   "source": [
    "> Skipping first and last week."
   ]
  },
  {
   "cell_type": "code",
   "execution_count": 1,
   "id": "844bd132-c9b7-4209-937c-5ad31b99c191",
   "metadata": {},
   "outputs": [],
   "source": [
    "query = \"\"\"select count(distinct(extract(day from date))), EXTRACT(week FROM date) as week where week = 38 group by week\"\"\"\n",
    "# overall_year_month = pd.read_sql(query, conn)"
   ]
  },
  {
   "cell_type": "code",
   "execution_count": 110,
   "id": "9dfce1f6-bfd1-47b1-94fc-217e02e01a08",
   "metadata": {},
   "outputs": [
    {
     "data": {
      "text/html": [
       "<div>\n",
       "<style scoped>\n",
       "    .dataframe tbody tr th:only-of-type {\n",
       "        vertical-align: middle;\n",
       "    }\n",
       "\n",
       "    .dataframe tbody tr th {\n",
       "        vertical-align: top;\n",
       "    }\n",
       "\n",
       "    .dataframe thead th {\n",
       "        text-align: right;\n",
       "    }\n",
       "</style>\n",
       "<table border=\"1\" class=\"dataframe\">\n",
       "  <thead>\n",
       "    <tr style=\"text-align: right;\">\n",
       "      <th></th>\n",
       "      <th>week</th>\n",
       "      <th>year</th>\n",
       "      <th>sum</th>\n",
       "    </tr>\n",
       "  </thead>\n",
       "  <tbody>\n",
       "    <tr>\n",
       "      <th>0</th>\n",
       "      <td>39.0</td>\n",
       "      <td>2013.0</td>\n",
       "      <td>595164.0</td>\n",
       "    </tr>\n",
       "    <tr>\n",
       "      <th>1</th>\n",
       "      <td>40.0</td>\n",
       "      <td>2013.0</td>\n",
       "      <td>738260.0</td>\n",
       "    </tr>\n",
       "    <tr>\n",
       "      <th>2</th>\n",
       "      <td>41.0</td>\n",
       "      <td>2013.0</td>\n",
       "      <td>754522.0</td>\n",
       "    </tr>\n",
       "    <tr>\n",
       "      <th>3</th>\n",
       "      <td>42.0</td>\n",
       "      <td>2013.0</td>\n",
       "      <td>982342.0</td>\n",
       "    </tr>\n",
       "    <tr>\n",
       "      <th>4</th>\n",
       "      <td>43.0</td>\n",
       "      <td>2013.0</td>\n",
       "      <td>992948.0</td>\n",
       "    </tr>\n",
       "    <tr>\n",
       "      <th>5</th>\n",
       "      <td>44.0</td>\n",
       "      <td>2013.0</td>\n",
       "      <td>1089473.0</td>\n",
       "    </tr>\n",
       "    <tr>\n",
       "      <th>6</th>\n",
       "      <td>45.0</td>\n",
       "      <td>2013.0</td>\n",
       "      <td>1339593.0</td>\n",
       "    </tr>\n",
       "    <tr>\n",
       "      <th>7</th>\n",
       "      <td>46.0</td>\n",
       "      <td>2013.0</td>\n",
       "      <td>1366328.0</td>\n",
       "    </tr>\n",
       "    <tr>\n",
       "      <th>8</th>\n",
       "      <td>47.0</td>\n",
       "      <td>2013.0</td>\n",
       "      <td>1248567.0</td>\n",
       "    </tr>\n",
       "    <tr>\n",
       "      <th>9</th>\n",
       "      <td>48.0</td>\n",
       "      <td>2013.0</td>\n",
       "      <td>1667409.0</td>\n",
       "    </tr>\n",
       "    <tr>\n",
       "      <th>10</th>\n",
       "      <td>49.0</td>\n",
       "      <td>2013.0</td>\n",
       "      <td>1648003.0</td>\n",
       "    </tr>\n",
       "    <tr>\n",
       "      <th>11</th>\n",
       "      <td>50.0</td>\n",
       "      <td>2013.0</td>\n",
       "      <td>1752675.0</td>\n",
       "    </tr>\n",
       "    <tr>\n",
       "      <th>12</th>\n",
       "      <td>51.0</td>\n",
       "      <td>2013.0</td>\n",
       "      <td>509833.0</td>\n",
       "    </tr>\n",
       "    <tr>\n",
       "      <th>13</th>\n",
       "      <td>52.0</td>\n",
       "      <td>2013.0</td>\n",
       "      <td>429352.0</td>\n",
       "    </tr>\n",
       "    <tr>\n",
       "      <th>14</th>\n",
       "      <td>1.0</td>\n",
       "      <td>2014.0</td>\n",
       "      <td>326675.0</td>\n",
       "    </tr>\n",
       "    <tr>\n",
       "      <th>15</th>\n",
       "      <td>2.0</td>\n",
       "      <td>2014.0</td>\n",
       "      <td>371088.0</td>\n",
       "    </tr>\n",
       "  </tbody>\n",
       "</table>\n",
       "</div>"
      ],
      "text/plain": [
       "    week    year        sum\n",
       "0   39.0  2013.0   595164.0\n",
       "1   40.0  2013.0   738260.0\n",
       "2   41.0  2013.0   754522.0\n",
       "3   42.0  2013.0   982342.0\n",
       "4   43.0  2013.0   992948.0\n",
       "5   44.0  2013.0  1089473.0\n",
       "6   45.0  2013.0  1339593.0\n",
       "7   46.0  2013.0  1366328.0\n",
       "8   47.0  2013.0  1248567.0\n",
       "9   48.0  2013.0  1667409.0\n",
       "10  49.0  2013.0  1648003.0\n",
       "11  50.0  2013.0  1752675.0\n",
       "12  51.0  2013.0   509833.0\n",
       "13  52.0  2013.0   429352.0\n",
       "14   1.0  2014.0   326675.0\n",
       "15   2.0  2014.0   371088.0"
      ]
     },
     "execution_count": 110,
     "metadata": {},
     "output_type": "execute_result"
    }
   ],
   "source": [
    "query = \"\"\"select EXTRACT(week FROM date) as week, EXTRACT(year FROM date) as year, SUM(total_amount) \n",
    "from transactions group by week, year order by year, week OFFSET 2 limit 16\"\"\"\n",
    "overall_year_month = pd.read_sql(query, conn)\n",
    "overall_year_month"
   ]
  },
  {
   "cell_type": "code",
   "execution_count": null,
   "id": "3d745224-1214-49ac-8843-aceb9cc49265",
   "metadata": {},
   "outputs": [],
   "source": [
    "from transactions"
   ]
  },
  {
   "cell_type": "code",
   "execution_count": 88,
   "id": "38d9a9ca-97ca-4a57-a788-ede9fabff643",
   "metadata": {},
   "outputs": [],
   "source": [
    "# !pip3 install plotly"
   ]
  },
  {
   "cell_type": "code",
   "execution_count": 91,
   "id": "0f7dc43d-b403-448a-b7a8-0107eaeb2fab",
   "metadata": {},
   "outputs": [],
   "source": [
    "# import plotly.graph_objects as go\n",
    "# go.Figure(go.Scatter(y = overall_year_month['sum']))"
   ]
  },
  {
   "cell_type": "code",
   "execution_count": 2,
   "id": "1b7a71f9-1fcd-4de6-8384-3926b5eace3d",
   "metadata": {},
   "outputs": [],
   "source": [
    "# overall_year_month['sum'].plot()"
   ]
  },
  {
   "cell_type": "markdown",
   "id": "819e97cc-49c6-4c58-80d3-31eef384e1bb",
   "metadata": {},
   "source": [
    "### Resources\n",
    "\n",
    "[Crosstab](https://stackoverflow.com/questions/3002499/postgresql-crosstab-query/11751905#11751905)"
   ]
  }
 ],
 "metadata": {
  "kernelspec": {
   "display_name": "Python 3 (ipykernel)",
   "language": "python",
   "name": "python3"
  },
  "language_info": {
   "codemirror_mode": {
    "name": "ipython",
    "version": 3
   },
   "file_extension": ".py",
   "mimetype": "text/x-python",
   "name": "python",
   "nbconvert_exporter": "python",
   "pygments_lexer": "ipython3",
   "version": "3.10.6"
  }
 },
 "nbformat": 4,
 "nbformat_minor": 5
}
