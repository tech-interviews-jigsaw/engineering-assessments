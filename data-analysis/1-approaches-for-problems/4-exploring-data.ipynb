{
 "cells": [
  {
   "cell_type": "markdown",
   "id": "99852281",
   "metadata": {},
   "source": [
    "# Exploring the Data"
   ]
  },
  {
   "cell_type": "markdown",
   "id": "362e7c3c",
   "metadata": {},
   "source": [
    "### Introduction"
   ]
  },
  {
   "cell_type": "markdown",
   "id": "e16945e8",
   "metadata": {},
   "source": [
    "Now that we have properly coerced our data, it's time for us to start exploring our data.  As we'll see, with our data properly formatted, exploring the data will be easier -- and importantly more accurate. "
   ]
  },
  {
   "cell_type": "markdown",
   "id": "c817fd46",
   "metadata": {},
   "source": [
    "### Loading our data"
   ]
  },
  {
   "cell_type": "code",
   "execution_count": 11,
   "id": "8c5ddd21",
   "metadata": {},
   "outputs": [],
   "source": [
    "from sqlalchemy import create_engine\n",
    "# change the jeffreykatz to your postgres username\n",
    "conn_string = 'postgresql://jeffreykatz@localhost/ecommerce'\n",
    "conn = create_engine(conn_string)"
   ]
  },
  {
   "cell_type": "code",
   "execution_count": 4,
   "id": "96c3765f-87ed-42e5-8119-82c6f12e8572",
   "metadata": {},
   "outputs": [
    {
     "data": {
      "text/html": [
       "<div>\n",
       "<style scoped>\n",
       "    .dataframe tbody tr th:only-of-type {\n",
       "        vertical-align: middle;\n",
       "    }\n",
       "\n",
       "    .dataframe tbody tr th {\n",
       "        vertical-align: top;\n",
       "    }\n",
       "\n",
       "    .dataframe thead th {\n",
       "        text-align: right;\n",
       "    }\n",
       "</style>\n",
       "<table border=\"1\" class=\"dataframe\">\n",
       "  <thead>\n",
       "    <tr style=\"text-align: right;\">\n",
       "      <th></th>\n",
       "      <th>index</th>\n",
       "      <th>transaction_id</th>\n",
       "      <th>customer_id</th>\n",
       "      <th>product</th>\n",
       "      <th>gender</th>\n",
       "      <th>device_type</th>\n",
       "      <th>country</th>\n",
       "      <th>state</th>\n",
       "      <th>city</th>\n",
       "      <th>category</th>\n",
       "      <th>...</th>\n",
       "      <th>delivery_type</th>\n",
       "      <th>quantity</th>\n",
       "      <th>transaction_start</th>\n",
       "      <th>transaction_result</th>\n",
       "      <th>amount</th>\n",
       "      <th>individual_price</th>\n",
       "      <th>month</th>\n",
       "      <th>week</th>\n",
       "      <th>dow</th>\n",
       "      <th>hour</th>\n",
       "    </tr>\n",
       "  </thead>\n",
       "  <tbody>\n",
       "    <tr>\n",
       "      <th>0</th>\n",
       "      <td>0</td>\n",
       "      <td>40170</td>\n",
       "      <td>1348959766</td>\n",
       "      <td>Hair Band</td>\n",
       "      <td>Female</td>\n",
       "      <td>Web</td>\n",
       "      <td>United States</td>\n",
       "      <td>New York</td>\n",
       "      <td>New York City</td>\n",
       "      <td>Accessories</td>\n",
       "      <td>...</td>\n",
       "      <td>one-day deliver</td>\n",
       "      <td>12</td>\n",
       "      <td>1</td>\n",
       "      <td>0</td>\n",
       "      <td>6910.0</td>\n",
       "      <td>576.0</td>\n",
       "      <td>11.0</td>\n",
       "      <td>46.0</td>\n",
       "      <td>4.0</td>\n",
       "      <td>22.0</td>\n",
       "    </tr>\n",
       "    <tr>\n",
       "      <th>1</th>\n",
       "      <td>1</td>\n",
       "      <td>33374</td>\n",
       "      <td>2213674919</td>\n",
       "      <td>Hair Band</td>\n",
       "      <td>Female</td>\n",
       "      <td>Web</td>\n",
       "      <td>United States</td>\n",
       "      <td>California</td>\n",
       "      <td>Los Angles</td>\n",
       "      <td>Accessories</td>\n",
       "      <td>...</td>\n",
       "      <td>one-day deliver</td>\n",
       "      <td>17</td>\n",
       "      <td>1</td>\n",
       "      <td>1</td>\n",
       "      <td>1699.0</td>\n",
       "      <td>100.0</td>\n",
       "      <td>5.0</td>\n",
       "      <td>19.0</td>\n",
       "      <td>6.0</td>\n",
       "      <td>6.0</td>\n",
       "    </tr>\n",
       "  </tbody>\n",
       "</table>\n",
       "<p>2 rows × 21 columns</p>\n",
       "</div>"
      ],
      "text/plain": [
       "   index  transaction_id  customer_id    product  gender device_type  \\\n",
       "0      0           40170   1348959766  Hair Band  Female         Web   \n",
       "1      1           33374   2213674919  Hair Band  Female         Web   \n",
       "\n",
       "         country       state           city     category  ...  \\\n",
       "0  United States    New York  New York City  Accessories  ...   \n",
       "1  United States  California     Los Angles  Accessories  ...   \n",
       "\n",
       "     delivery_type quantity  transaction_start  transaction_result  amount  \\\n",
       "0  one-day deliver       12                  1                   0  6910.0   \n",
       "1  one-day deliver       17                  1                   1  1699.0   \n",
       "\n",
       "   individual_price  month  week  dow  hour  \n",
       "0             576.0   11.0  46.0  4.0  22.0  \n",
       "1             100.0    5.0  19.0  6.0   6.0  \n",
       "\n",
       "[2 rows x 21 columns]"
      ]
     },
     "execution_count": 4,
     "metadata": {},
     "output_type": "execute_result"
    }
   ],
   "source": [
    "import pandas as pd\n",
    "df = pd.read_sql(\"select * from transactions\", conn)\n",
    "df[:2]"
   ]
  },
  {
   "cell_type": "markdown",
   "id": "49fd29d6",
   "metadata": {},
   "source": [
    "### Starting an analysis"
   ]
  },
  {
   "cell_type": "markdown",
   "id": "052aa410",
   "metadata": {},
   "source": [
    "When performing data analysis the first step is to find at least one metric we are trying to optimize.  For example, profit."
   ]
  },
  {
   "cell_type": "markdown",
   "id": "4a9ea701",
   "metadata": {},
   "source": [
    "Let's look at the columns above to see if there is a component like that."
   ]
  },
  {
   "cell_type": "code",
   "execution_count": 9,
   "id": "4b842846",
   "metadata": {},
   "outputs": [
    {
     "data": {
      "text/plain": [
       "Index(['index', 'transaction_id', 'customer_id', 'product', 'gender',\n",
       "       'device_type', 'country', 'state', 'city', 'category',\n",
       "       'customer_login_type', 'delivery_type', 'quantity', 'transaction_start',\n",
       "       'transaction_result', 'amount', 'individual_price', 'month', 'week',\n",
       "       'dow', 'hour'],\n",
       "      dtype='object')"
      ]
     },
     "execution_count": 9,
     "metadata": {},
     "output_type": "execute_result"
    }
   ],
   "source": [
    "df.columns"
   ]
  },
  {
   "cell_type": "markdown",
   "id": "84648be2",
   "metadata": {},
   "source": [
    "Looking at the columns, above, there is nothing that says profit -- but perhaps amount is really the revenue.  If we select the columns of `quantity`, `indidivual_price`, and `amount`, we see that the individual_price times the quantity does (almost) equal the amount."
   ]
  },
  {
   "cell_type": "code",
   "execution_count": 10,
   "id": "ef2a605b",
   "metadata": {},
   "outputs": [
    {
     "data": {
      "text/html": [
       "<div>\n",
       "<style scoped>\n",
       "    .dataframe tbody tr th:only-of-type {\n",
       "        vertical-align: middle;\n",
       "    }\n",
       "\n",
       "    .dataframe tbody tr th {\n",
       "        vertical-align: top;\n",
       "    }\n",
       "\n",
       "    .dataframe thead th {\n",
       "        text-align: right;\n",
       "    }\n",
       "</style>\n",
       "<table border=\"1\" class=\"dataframe\">\n",
       "  <thead>\n",
       "    <tr style=\"text-align: right;\">\n",
       "      <th></th>\n",
       "      <th>quantity</th>\n",
       "      <th>individual_price</th>\n",
       "      <th>amount</th>\n",
       "    </tr>\n",
       "  </thead>\n",
       "  <tbody>\n",
       "    <tr>\n",
       "      <th>0</th>\n",
       "      <td>12</td>\n",
       "      <td>576.0</td>\n",
       "      <td>6910.0</td>\n",
       "    </tr>\n",
       "    <tr>\n",
       "      <th>1</th>\n",
       "      <td>17</td>\n",
       "      <td>100.0</td>\n",
       "      <td>1699.0</td>\n",
       "    </tr>\n",
       "  </tbody>\n",
       "</table>\n",
       "</div>"
      ],
      "text/plain": [
       "   quantity  individual_price  amount\n",
       "0        12             576.0  6910.0\n",
       "1        17             100.0  1699.0"
      ]
     },
     "execution_count": 10,
     "metadata": {},
     "output_type": "execute_result"
    }
   ],
   "source": [
    "selected_cols = df[['quantity', 'individual_price', 'amount']]\n",
    "selected_cols[:2]"
   ]
  },
  {
   "cell_type": "markdown",
   "id": "2efdc9f5",
   "metadata": {},
   "source": [
    "Ok, so we have identified *amount* as a metric we can try to optimize.  The attribute we are trying to optimize is called the **target**.\n",
    "\n",
    "Now the other information in our dataset, we can use to determine how to promote more revenue.  For example, maybe we will find that individuals from a certain location purchase more than others, or that certain products are particularly profitable in certain regions.  \n",
    "\n",
    "These components that influence our target are our **features**.  We can think of our features as inputs that influence our target -- here revenue."
   ]
  },
  {
   "cell_type": "markdown",
   "id": "2521ca7a",
   "metadata": {},
   "source": [
    "> It may be good to see what is the dimension we are trying to optimize revenue across - for example revenue per month, or revenue per customer.  But oftentimes the problems are not so well defined, so let's hold off on that for now."
   ]
  },
  {
   "cell_type": "markdown",
   "id": "9d5ad225",
   "metadata": {},
   "source": [
    "### Seeing the influence"
   ]
  },
  {
   "cell_type": "markdown",
   "id": "93cb7176",
   "metadata": {},
   "source": [
    "Now to see what is valuable in influencing our revenue.  For example, if there let's see which weeks we have the most amount of revenue."
   ]
  },
  {
   "cell_type": "code",
   "execution_count": 21,
   "id": "001e142a",
   "metadata": {},
   "outputs": [
    {
     "data": {
      "text/html": [
       "<div>\n",
       "<style scoped>\n",
       "    .dataframe tbody tr th:only-of-type {\n",
       "        vertical-align: middle;\n",
       "    }\n",
       "\n",
       "    .dataframe tbody tr th {\n",
       "        vertical-align: top;\n",
       "    }\n",
       "\n",
       "    .dataframe thead th {\n",
       "        text-align: right;\n",
       "    }\n",
       "</style>\n",
       "<table border=\"1\" class=\"dataframe\">\n",
       "  <thead>\n",
       "    <tr style=\"text-align: right;\">\n",
       "      <th></th>\n",
       "      <th>week</th>\n",
       "      <th>total_amount</th>\n",
       "    </tr>\n",
       "  </thead>\n",
       "  <tbody>\n",
       "    <tr>\n",
       "      <th>0</th>\n",
       "      <td>1.0</td>\n",
       "      <td>3624522.0</td>\n",
       "    </tr>\n",
       "    <tr>\n",
       "      <th>1</th>\n",
       "      <td>2.0</td>\n",
       "      <td>9666250.0</td>\n",
       "    </tr>\n",
       "  </tbody>\n",
       "</table>\n",
       "</div>"
      ],
      "text/plain": [
       "   week  total_amount\n",
       "0   1.0     3624522.0\n",
       "1   2.0     9666250.0"
      ]
     },
     "execution_count": 21,
     "metadata": {},
     "output_type": "execute_result"
    }
   ],
   "source": [
    "query = \"\"\"select week, sum(amount) total_amount \n",
    "from transactions group by week order by week\"\"\"\n",
    "df = pd.read_sql(query, conn)\n",
    "df[:2]\n"
   ]
  },
  {
   "cell_type": "markdown",
   "id": "9d1e2f0f",
   "metadata": {},
   "source": [
    "So we just group by the week and can order by that week to see the data sequentially."
   ]
  },
  {
   "cell_type": "code",
   "execution_count": 23,
   "id": "140c3d3f",
   "metadata": {},
   "outputs": [
    {
     "data": {
      "text/plain": [
       "<AxesSubplot: >"
      ]
     },
     "execution_count": 23,
     "metadata": {},
     "output_type": "execute_result"
    },
    {
     "data": {
      "image/png": "[encoded data removed]",
      "text/plain": [
       "<Figure size 900x100 with 1 Axes>"
      ]
     },
     "metadata": {},
     "output_type": "display_data"
    }
   ],
   "source": [
    "df.plot(figsize=(9, 1))"
   ]
  },
  {
   "cell_type": "markdown",
   "id": "8cea0a7a",
   "metadata": {},
   "source": [
    "### Moving this to a function"
   ]
  },
  {
   "cell_type": "markdown",
   "id": "97a2e907",
   "metadata": {},
   "source": [
    "Now the above group by is something we likely want to explore with all of our attributes.  So let's move this into a function."
   ]
  },
  {
   "cell_type": "code",
   "execution_count": 31,
   "id": "eb53c708",
   "metadata": {},
   "outputs": [],
   "source": [
    "def build_grouped_by(table_name, col, engine, order_by_col = False):\n",
    "    if order_by_col:\n",
    "        query = f\"\"\"select {col}, sum(amount) total_amount from {table_name} group by {col} order by {col} asc\"\"\"\n",
    "    else:\n",
    "        query = f\"\"\"select {col}, sum(amount) total_amount from {table_name} group by {col} order by total_amount desc\"\"\"\n",
    "\n",
    "    grouped = pd.read_sql(query, engine)\n",
    "    return grouped"
   ]
  },
  {
   "cell_type": "markdown",
   "id": "3b2ec354",
   "metadata": {},
   "source": [
    "> Above we give options for ordering by the column -- like the week above -- or for ordering by the total amount most to least."
   ]
  },
  {
   "cell_type": "markdown",
   "id": "a1b7314e",
   "metadata": {},
   "source": [
    "Ok, so now we could collect all of our time columns and explore them."
   ]
  },
  {
   "cell_type": "code",
   "execution_count": 32,
   "id": "3e8866a5",
   "metadata": {},
   "outputs": [],
   "source": [
    "time_cols = ['month', 'week', 'dow', 'hour']"
   ]
  },
  {
   "cell_type": "code",
   "execution_count": 35,
   "id": "d128a383",
   "metadata": {},
   "outputs": [
    {
     "data": {
      "text/html": [
       "<div>\n",
       "<style scoped>\n",
       "    .dataframe tbody tr th:only-of-type {\n",
       "        vertical-align: middle;\n",
       "    }\n",
       "\n",
       "    .dataframe tbody tr th {\n",
       "        vertical-align: top;\n",
       "    }\n",
       "\n",
       "    .dataframe thead th {\n",
       "        text-align: right;\n",
       "    }\n",
       "</style>\n",
       "<table border=\"1\" class=\"dataframe\">\n",
       "  <thead>\n",
       "    <tr style=\"text-align: right;\">\n",
       "      <th></th>\n",
       "      <th>month</th>\n",
       "      <th>total_amount</th>\n",
       "    </tr>\n",
       "  </thead>\n",
       "  <tbody>\n",
       "    <tr>\n",
       "      <th>0</th>\n",
       "      <td>1.0</td>\n",
       "      <td>11952387.0</td>\n",
       "    </tr>\n",
       "    <tr>\n",
       "      <th>1</th>\n",
       "      <td>2.0</td>\n",
       "      <td>12733940.0</td>\n",
       "    </tr>\n",
       "    <tr>\n",
       "      <th>2</th>\n",
       "      <td>3.0</td>\n",
       "      <td>8051501.0</td>\n",
       "    </tr>\n",
       "    <tr>\n",
       "      <th>3</th>\n",
       "      <td>4.0</td>\n",
       "      <td>11220357.0</td>\n",
       "    </tr>\n",
       "  </tbody>\n",
       "</table>\n",
       "</div>"
      ],
      "text/plain": [
       "   month  total_amount\n",
       "0    1.0    11952387.0\n",
       "1    2.0    12733940.0\n",
       "2    3.0     8051501.0\n",
       "3    4.0    11220357.0"
      ]
     },
     "execution_count": 35,
     "metadata": {},
     "output_type": "execute_result"
    }
   ],
   "source": [
    "group_by_month = build_grouped_by('transactions', 'month', conn, order_by_col = True)[:4]\n",
    "group_by_month[:4]"
   ]
  },
  {
   "cell_type": "code",
   "execution_count": 36,
   "id": "b8557dfa",
   "metadata": {},
   "outputs": [
    {
     "data": {
      "text/html": [
       "<div>\n",
       "<style scoped>\n",
       "    .dataframe tbody tr th:only-of-type {\n",
       "        vertical-align: middle;\n",
       "    }\n",
       "\n",
       "    .dataframe tbody tr th {\n",
       "        vertical-align: top;\n",
       "    }\n",
       "\n",
       "    .dataframe thead th {\n",
       "        text-align: right;\n",
       "    }\n",
       "</style>\n",
       "<table border=\"1\" class=\"dataframe\">\n",
       "  <thead>\n",
       "    <tr style=\"text-align: right;\">\n",
       "      <th></th>\n",
       "      <th>month</th>\n",
       "      <th>total_amount</th>\n",
       "    </tr>\n",
       "  </thead>\n",
       "  <tbody>\n",
       "    <tr>\n",
       "      <th>0</th>\n",
       "      <td>11.0</td>\n",
       "      <td>77712351.0</td>\n",
       "    </tr>\n",
       "    <tr>\n",
       "      <th>1</th>\n",
       "      <td>10.0</td>\n",
       "      <td>64841654.0</td>\n",
       "    </tr>\n",
       "    <tr>\n",
       "      <th>2</th>\n",
       "      <td>12.0</td>\n",
       "      <td>41912057.0</td>\n",
       "    </tr>\n",
       "    <tr>\n",
       "      <th>3</th>\n",
       "      <td>9.0</td>\n",
       "      <td>29880412.0</td>\n",
       "    </tr>\n",
       "  </tbody>\n",
       "</table>\n",
       "</div>"
      ],
      "text/plain": [
       "   month  total_amount\n",
       "0   11.0    77712351.0\n",
       "1   10.0    64841654.0\n",
       "2   12.0    41912057.0\n",
       "3    9.0    29880412.0"
      ]
     },
     "execution_count": 36,
     "metadata": {},
     "output_type": "execute_result"
    }
   ],
   "source": [
    "group_by_month_desc_amount = build_grouped_by('transactions', 'month', conn, order_by_col = False)[:4]\n",
    "group_by_month_desc_amount[:4]"
   ]
  },
  {
   "cell_type": "markdown",
   "id": "261050a4",
   "metadata": {},
   "source": [
    "And we can also write a function to plot our dataframe."
   ]
  },
  {
   "cell_type": "code",
   "execution_count": 37,
   "id": "40f89818",
   "metadata": {},
   "outputs": [],
   "source": [
    "import matplotlib.pyplot as plt\n",
    "def print_grouped_by(grouped):\n",
    "    selected_group = grouped[grouped.iloc[:, 0].values != None]\n",
    "    plt.figure(figsize=(14, 2))\n",
    "    plt.scatter(selected_group.iloc[:10, 0], selected_group.iloc[:10, 1])\n",
    "    plt.show()"
   ]
  },
  {
   "cell_type": "code",
   "execution_count": 39,
   "id": "731d3bf0",
   "metadata": {},
   "outputs": [
    {
     "data": {
      "image/png": "[encoded data removed]",
      "text/plain": [
       "<Figure size 1400x200 with 1 Axes>"
      ]
     },
     "metadata": {},
     "output_type": "display_data"
    }
   ],
   "source": [
    "print_grouped_by(group_by_month)"
   ]
  },
  {
   "cell_type": "markdown",
   "id": "b7820ad3",
   "metadata": {},
   "source": [
    "### Exploring multiple columns"
   ]
  },
  {
   "cell_type": "code",
   "execution_count": null,
   "id": "c8ceb3e3",
   "metadata": {},
   "outputs": [],
   "source": [
    "def build_grouped_bys(table_name, cols, engine):\n",
    "    grouped_bys = []\n",
    "    for col in cols:\n",
    "        grouped = build_grouped_by(table_name, col, engine)\n",
    "        grouped_bys.append(grouped)\n",
    "    return grouped_bys"
   ]
  },
  {
   "cell_type": "markdown",
   "id": "896fe7a7-7e49-413e-8281-44b068f69852",
   "metadata": {},
   "source": [
    "Now one limitation of the above data is that we only have data from months September through January 2014.  Normally, we would like to compare year over year sales from the same month or even day.  For example, January 2014 should be compared against January 2013 -- not December."
   ]
  },
  {
   "cell_type": "markdown",
   "id": "cb8fe9d4-4bff-482f-b6f0-6e0e301c96df",
   "metadata": {},
   "source": [
    "Another thing to notice is that our numbers for September 2013 and January 2014 are a lot smaller than the other months.  Perhaps we have missing data.  One first check is to see the number of days accounted for in both of these months."
   ]
  },
  {
   "cell_type": "code",
   "execution_count": 98,
   "id": "e7f086c7-a66b-4814-9649-fb1846170dc4",
   "metadata": {},
   "outputs": [],
   "source": [
    "query = \"\"\"select EXTRACT(month FROM date) as month, count(distinct(EXTRACT(day FROM date))) from transactions group by month\"\"\"\n",
    "overall_year_month = pd.read_sql(query, conn)"
   ]
  },
  {
   "cell_type": "code",
   "execution_count": 99,
   "id": "6ff818f3-c143-40b1-97a0-0ee9bf5a4213",
   "metadata": {},
   "outputs": [
    {
     "data": {
      "text/html": [
       "<div>\n",
       "<style scoped>\n",
       "    .dataframe tbody tr th:only-of-type {\n",
       "        vertical-align: middle;\n",
       "    }\n",
       "\n",
       "    .dataframe tbody tr th {\n",
       "        vertical-align: top;\n",
       "    }\n",
       "\n",
       "    .dataframe thead th {\n",
       "        text-align: right;\n",
       "    }\n",
       "</style>\n",
       "<table border=\"1\" class=\"dataframe\">\n",
       "  <thead>\n",
       "    <tr style=\"text-align: right;\">\n",
       "      <th></th>\n",
       "      <th>month</th>\n",
       "      <th>count</th>\n",
       "    </tr>\n",
       "  </thead>\n",
       "  <tbody>\n",
       "    <tr>\n",
       "      <th>0</th>\n",
       "      <td>1.0</td>\n",
       "      <td>13</td>\n",
       "    </tr>\n",
       "    <tr>\n",
       "      <th>1</th>\n",
       "      <td>9.0</td>\n",
       "      <td>11</td>\n",
       "    </tr>\n",
       "    <tr>\n",
       "      <th>2</th>\n",
       "      <td>10.0</td>\n",
       "      <td>31</td>\n",
       "    </tr>\n",
       "    <tr>\n",
       "      <th>3</th>\n",
       "      <td>11.0</td>\n",
       "      <td>29</td>\n",
       "    </tr>\n",
       "    <tr>\n",
       "      <th>4</th>\n",
       "      <td>12.0</td>\n",
       "      <td>31</td>\n",
       "    </tr>\n",
       "  </tbody>\n",
       "</table>\n",
       "</div>"
      ],
      "text/plain": [
       "   month  count\n",
       "0    1.0     13\n",
       "1    9.0     11\n",
       "2   10.0     31\n",
       "3   11.0     29\n",
       "4   12.0     31"
      ]
     },
     "execution_count": 99,
     "metadata": {},
     "output_type": "execute_result"
    }
   ],
   "source": [
    "overall_year_month"
   ]
  },
  {
   "cell_type": "markdown",
   "id": "7abc6d34-067d-4a38-9301-efc42aafb824",
   "metadata": {},
   "source": [
    "So it looks like our months of October through December are essentially complete while September and January has only 1/3 of the days.  Let's see if the days are at least contiguous.  To do so, let's see the min and maximum days in the dataset."
   ]
  },
  {
   "cell_type": "code",
   "execution_count": 100,
   "id": "5f6cb950-eb88-42c7-8066-e72cb1d023f9",
   "metadata": {},
   "outputs": [
    {
     "data": {
      "text/html": [
       "<div>\n",
       "<style scoped>\n",
       "    .dataframe tbody tr th:only-of-type {\n",
       "        vertical-align: middle;\n",
       "    }\n",
       "\n",
       "    .dataframe tbody tr th {\n",
       "        vertical-align: top;\n",
       "    }\n",
       "\n",
       "    .dataframe thead th {\n",
       "        text-align: right;\n",
       "    }\n",
       "</style>\n",
       "<table border=\"1\" class=\"dataframe\">\n",
       "  <thead>\n",
       "    <tr style=\"text-align: right;\">\n",
       "      <th></th>\n",
       "      <th>min</th>\n",
       "      <th>max</th>\n",
       "    </tr>\n",
       "  </thead>\n",
       "  <tbody>\n",
       "    <tr>\n",
       "      <th>0</th>\n",
       "      <td>2013-09-20</td>\n",
       "      <td>2014-01-13</td>\n",
       "    </tr>\n",
       "  </tbody>\n",
       "</table>\n",
       "</div>"
      ],
      "text/plain": [
       "         min        max\n",
       "0 2013-09-20 2014-01-13"
      ]
     },
     "execution_count": 100,
     "metadata": {},
     "output_type": "execute_result"
    }
   ],
   "source": [
    "query = \"\"\"select min(date), max(date) from transactions\"\"\"\n",
    "pd.read_sql(query, conn)"
   ]
  },
  {
   "cell_type": "markdown",
   "id": "6bc28c21-bc87-4c2e-9bc5-0b410bd8e4c3",
   "metadata": {},
   "source": [
    "Ok so it does look like there are not gaps in our dates for these months.  This means grouping by something like weeks (instead of months) may be more appropriate."
   ]
  },
  {
   "cell_type": "markdown",
   "id": "c84041f7-4ae7-41af-8f7b-376ca3a8e4cb",
   "metadata": {},
   "source": [
    "> Skipping first and last week."
   ]
  },
  {
   "cell_type": "code",
   "execution_count": 1,
   "id": "844bd132-c9b7-4209-937c-5ad31b99c191",
   "metadata": {},
   "outputs": [],
   "source": [
    "query = \"\"\"select count(distinct(extract(day from date))), EXTRACT(week FROM date) as week where week = 38 group by week\"\"\"\n",
    "# overall_year_month = pd.read_sql(query, conn)"
   ]
  },
  {
   "cell_type": "code",
   "execution_count": 110,
   "id": "9dfce1f6-bfd1-47b1-94fc-217e02e01a08",
   "metadata": {},
   "outputs": [
    {
     "data": {
      "text/html": [
       "<div>\n",
       "<style scoped>\n",
       "    .dataframe tbody tr th:only-of-type {\n",
       "        vertical-align: middle;\n",
       "    }\n",
       "\n",
       "    .dataframe tbody tr th {\n",
       "        vertical-align: top;\n",
       "    }\n",
       "\n",
       "    .dataframe thead th {\n",
       "        text-align: right;\n",
       "    }\n",
       "</style>\n",
       "<table border=\"1\" class=\"dataframe\">\n",
       "  <thead>\n",
       "    <tr style=\"text-align: right;\">\n",
       "      <th></th>\n",
       "      <th>week</th>\n",
       "      <th>year</th>\n",
       "      <th>sum</th>\n",
       "    </tr>\n",
       "  </thead>\n",
       "  <tbody>\n",
       "    <tr>\n",
       "      <th>0</th>\n",
       "      <td>39.0</td>\n",
       "      <td>2013.0</td>\n",
       "      <td>595164.0</td>\n",
       "    </tr>\n",
       "    <tr>\n",
       "      <th>1</th>\n",
       "      <td>40.0</td>\n",
       "      <td>2013.0</td>\n",
       "      <td>738260.0</td>\n",
       "    </tr>\n",
       "    <tr>\n",
       "      <th>2</th>\n",
       "      <td>41.0</td>\n",
       "      <td>2013.0</td>\n",
       "      <td>754522.0</td>\n",
       "    </tr>\n",
       "    <tr>\n",
       "      <th>3</th>\n",
       "      <td>42.0</td>\n",
       "      <td>2013.0</td>\n",
       "      <td>982342.0</td>\n",
       "    </tr>\n",
       "    <tr>\n",
       "      <th>4</th>\n",
       "      <td>43.0</td>\n",
       "      <td>2013.0</td>\n",
       "      <td>992948.0</td>\n",
       "    </tr>\n",
       "    <tr>\n",
       "      <th>5</th>\n",
       "      <td>44.0</td>\n",
       "      <td>2013.0</td>\n",
       "      <td>1089473.0</td>\n",
       "    </tr>\n",
       "    <tr>\n",
       "      <th>6</th>\n",
       "      <td>45.0</td>\n",
       "      <td>2013.0</td>\n",
       "      <td>1339593.0</td>\n",
       "    </tr>\n",
       "    <tr>\n",
       "      <th>7</th>\n",
       "      <td>46.0</td>\n",
       "      <td>2013.0</td>\n",
       "      <td>1366328.0</td>\n",
       "    </tr>\n",
       "    <tr>\n",
       "      <th>8</th>\n",
       "      <td>47.0</td>\n",
       "      <td>2013.0</td>\n",
       "      <td>1248567.0</td>\n",
       "    </tr>\n",
       "    <tr>\n",
       "      <th>9</th>\n",
       "      <td>48.0</td>\n",
       "      <td>2013.0</td>\n",
       "      <td>1667409.0</td>\n",
       "    </tr>\n",
       "    <tr>\n",
       "      <th>10</th>\n",
       "      <td>49.0</td>\n",
       "      <td>2013.0</td>\n",
       "      <td>1648003.0</td>\n",
       "    </tr>\n",
       "    <tr>\n",
       "      <th>11</th>\n",
       "      <td>50.0</td>\n",
       "      <td>2013.0</td>\n",
       "      <td>1752675.0</td>\n",
       "    </tr>\n",
       "    <tr>\n",
       "      <th>12</th>\n",
       "      <td>51.0</td>\n",
       "      <td>2013.0</td>\n",
       "      <td>509833.0</td>\n",
       "    </tr>\n",
       "    <tr>\n",
       "      <th>13</th>\n",
       "      <td>52.0</td>\n",
       "      <td>2013.0</td>\n",
       "      <td>429352.0</td>\n",
       "    </tr>\n",
       "    <tr>\n",
       "      <th>14</th>\n",
       "      <td>1.0</td>\n",
       "      <td>2014.0</td>\n",
       "      <td>326675.0</td>\n",
       "    </tr>\n",
       "    <tr>\n",
       "      <th>15</th>\n",
       "      <td>2.0</td>\n",
       "      <td>2014.0</td>\n",
       "      <td>371088.0</td>\n",
       "    </tr>\n",
       "  </tbody>\n",
       "</table>\n",
       "</div>"
      ],
      "text/plain": [
       "    week    year        sum\n",
       "0   39.0  2013.0   595164.0\n",
       "1   40.0  2013.0   738260.0\n",
       "2   41.0  2013.0   754522.0\n",
       "3   42.0  2013.0   982342.0\n",
       "4   43.0  2013.0   992948.0\n",
       "5   44.0  2013.0  1089473.0\n",
       "6   45.0  2013.0  1339593.0\n",
       "7   46.0  2013.0  1366328.0\n",
       "8   47.0  2013.0  1248567.0\n",
       "9   48.0  2013.0  1667409.0\n",
       "10  49.0  2013.0  1648003.0\n",
       "11  50.0  2013.0  1752675.0\n",
       "12  51.0  2013.0   509833.0\n",
       "13  52.0  2013.0   429352.0\n",
       "14   1.0  2014.0   326675.0\n",
       "15   2.0  2014.0   371088.0"
      ]
     },
     "execution_count": 110,
     "metadata": {},
     "output_type": "execute_result"
    }
   ],
   "source": [
    "query = \"\"\"select EXTRACT(week FROM date) as week, EXTRACT(year FROM date) as year, SUM(total_amount) \n",
    "from transactions group by week, year order by year, week OFFSET 2 limit 16\"\"\"\n",
    "overall_year_month = pd.read_sql(query, conn)\n",
    "overall_year_month"
   ]
  },
  {
   "cell_type": "code",
   "execution_count": null,
   "id": "3d745224-1214-49ac-8843-aceb9cc49265",
   "metadata": {},
   "outputs": [],
   "source": [
    "from transactions"
   ]
  },
  {
   "cell_type": "markdown",
   "id": "819e97cc-49c6-4c58-80d3-31eef384e1bb",
   "metadata": {},
   "source": [
    "### Resources\n",
    "\n",
    "[Crosstab](https://stackoverflow.com/questions/3002499/postgresql-crosstab-query/11751905#11751905)"
   ]
  }
 ],
 "metadata": {
  "kernelspec": {
   "display_name": "Python 3.10.6 64-bit",
   "language": "python",
   "name": "python3"
  },
  "language_info": {
   "codemirror_mode": {
    "name": "ipython",
    "version": 3
   },
   "file_extension": ".py",
   "mimetype": "text/x-python",
   "name": "python",
   "nbconvert_exporter": "python",
   "pygments_lexer": "ipython3",
   "version": "3.10.6"
  },
  "vscode": {
   "interpreter": {
    "hash": "b0fa6594d8f4cbf19f97940f81e996739fb7646882a419484c72d19e05852a7e"
   }
  }
 },
 "nbformat": 4,
 "nbformat_minor": 5
}
