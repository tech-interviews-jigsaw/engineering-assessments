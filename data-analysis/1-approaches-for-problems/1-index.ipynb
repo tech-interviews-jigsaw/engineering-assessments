{
 "cells": [
  {
   "cell_type": "markdown",
   "id": "c2e6553e-80e7-4839-b37c-7305fdbe528b",
   "metadata": {},
   "source": [
    "# Simplifying Problems"
   ]
  },
  {
   "cell_type": "markdown",
   "id": "34a4867f-2e72-477f-8605-a13e2b30132b",
   "metadata": {},
   "source": [
    "### Introduction"
   ]
  },
  {
   "cell_type": "markdown",
   "id": "48ff82b9-6e04-4ee0-835a-a73bae3e479d",
   "metadata": {},
   "source": [
    "Oftentimes, with data analysis type problems, the task can be fairly broad and vague.  It's our job as a data analyst to begin to break these problems down.  In this lesson, we'll give some techniques for doing so."
   ]
  },
  {
   "cell_type": "markdown",
   "id": "21991789-30d5-47f6-8b4f-e7a6082d7a33",
   "metadata": {},
   "source": [
    "### Consider the perspective"
   ]
  },
  {
   "cell_type": "markdown",
   "id": "55aec736-ad6f-4c0f-a08c-104e82af724f",
   "metadata": {},
   "source": [
    "Let's say that we are not even given a dataset, but rather just asked to analyze profit of an ecommerce website.  \n",
    "\n",
    "At this point, we would also want to consider who's perspective we should adopt.  For example, is this for someone who is in charge of a particular product line, someone who is in charge of a specific sales region, or the CEO of the company?  The answer to this would change what we can control, and therefore would change our analysis.\n",
    "\n",
    "> For example, if we are in control of a specific region -- we likely would not want to choose to exit the region all together, but rather could focus on changing the products sold there, or focus marketing on more successful cities or towns. "
   ]
  },
  {
   "cell_type": "markdown",
   "id": "46e5b1d1-98c5-4427-acbc-4981d4e284a4",
   "metadata": {},
   "source": [
    "### MECE"
   ]
  },
  {
   "cell_type": "markdown",
   "id": "43dfff6e-9b0a-4de0-bc29-60602248d66a",
   "metadata": {},
   "source": [
    "Now, just to keep things particularly broad, let's assume that we are the CEO of the website and want to increase profitability -- how would we break down the problem."
   ]
  },
  {
   "cell_type": "markdown",
   "id": "0a5b9416-48c3-444e-9454-f824f259e85c",
   "metadata": {},
   "source": [
    "A good approach is to start with MECE.  MECE stands for *mutually exclusive and collectively exhaustive*.  By this we mean, what are different components that completely describe what can be going on.\n",
    "\n",
    "For example here are the first two components under profitability that satisfy MECE.\n",
    "\n",
    "* Profitability\n",
    "    1. Revenue\n",
    "    2. Cost"
   ]
  },
  {
   "cell_type": "markdown",
   "id": "5c07c2d0-f769-42bc-a387-56528c6c09ee",
   "metadata": {},
   "source": [
    "And then we can further break down cost following this pattern like so."
   ]
  },
  {
   "cell_type": "markdown",
   "id": "3e0f16c2-fea5-4567-b173-8165fad4e458",
   "metadata": {},
   "source": [
    "* Profitability\n",
    "    1. Revenue\n",
    "    2. Cost\n",
    "        * Marginal Costs\n",
    "        * Fixed Costs"
   ]
  },
  {
   "cell_type": "markdown",
   "id": "be98927e-c62b-4084-8acb-6ed43e797c5f",
   "metadata": {},
   "source": [
    "> **Fixed costs** are costs that do not directly depend on sales -- for example, paying for headquarters, or an executive team.  **Marginal costs** are highly correlated with sales -- for example shipping costs, or the cost of producing the product. "
   ]
  },
  {
   "cell_type": "markdown",
   "id": "daa2ac62-29e8-4bc1-b7e0-591fd15e8d8d",
   "metadata": {},
   "source": [
    "So MECE is a good approach for simplifying a problem.  And one reason that it works well, is because it forces us to **start broadly and then go narrow**.  So we start with broad categories like revenue and cost, and then can move more narrowly with fixed costs and marginal costs."
   ]
  },
  {
   "cell_type": "markdown",
   "id": "cbe46724-15ad-4cbf-a65d-7950c05d423e",
   "metadata": {},
   "source": [
    "### Dimensions of the Data"
   ]
  },
  {
   "cell_type": "markdown",
   "id": "4de39d04-23e9-47b0-9fa5-6167dbdf8a06",
   "metadata": {},
   "source": [
    "Now this MECE approach can become a little more difficult when we think about the components of revenue.  For example, we could say that revenue is a function of sales from recurring customers and sales from new customers.  \n",
    "\n",
    "While this is mutually exclusive and collectively exhaustive, there are other ways to divide up our revenue.  So it's valuable to think of different dimensions in the data."
   ]
  },
  {
   "cell_type": "markdown",
   "id": "3555f467-7265-465f-ab00-cab14257d9bc",
   "metadata": {},
   "source": [
    "To see this, let's load up a sample dataset."
   ]
  },
  {
   "cell_type": "code",
   "execution_count": 4,
   "id": "69c75e15-2d17-4bda-bded-3c2067683eee",
   "metadata": {},
   "outputs": [],
   "source": [
    "import pandas as pd"
   ]
  },
  {
   "cell_type": "code",
   "execution_count": 5,
   "id": "7612c719-a183-48b3-b24c-a00c1f963f8d",
   "metadata": {},
   "outputs": [],
   "source": [
    "df = pd.read_csv('./ecommerce-dataset.csv')"
   ]
  },
  {
   "cell_type": "code",
   "execution_count": 7,
   "id": "ace7ee91-dfad-4002-acb3-ae24e6e6e6a1",
   "metadata": {},
   "outputs": [
    {
     "data": {
      "text/html": [
       "<div>\n",
       "<style scoped>\n",
       "    .dataframe tbody tr th:only-of-type {\n",
       "        vertical-align: middle;\n",
       "    }\n",
       "\n",
       "    .dataframe tbody tr th {\n",
       "        vertical-align: top;\n",
       "    }\n",
       "\n",
       "    .dataframe thead th {\n",
       "        text-align: right;\n",
       "    }\n",
       "</style>\n",
       "<table border=\"1\" class=\"dataframe\">\n",
       "  <thead>\n",
       "    <tr style=\"text-align: right;\">\n",
       "      <th></th>\n",
       "      <th>Transaction_id</th>\n",
       "      <th>customer_id</th>\n",
       "      <th>Date</th>\n",
       "      <th>Product</th>\n",
       "      <th>Gender</th>\n",
       "      <th>Device_Type</th>\n",
       "      <th>Country</th>\n",
       "      <th>State</th>\n",
       "      <th>City</th>\n",
       "      <th>Category</th>\n",
       "      <th>Customer_Login_type</th>\n",
       "      <th>Delivery_Type</th>\n",
       "      <th>Quantity</th>\n",
       "      <th>Transaction Start</th>\n",
       "      <th>Transaction_Result</th>\n",
       "      <th>Amount US$</th>\n",
       "      <th>Individual_Price_US$</th>\n",
       "      <th>Year_Month</th>\n",
       "      <th>Time</th>\n",
       "    </tr>\n",
       "  </thead>\n",
       "  <tbody>\n",
       "    <tr>\n",
       "      <th>0</th>\n",
       "      <td>40170</td>\n",
       "      <td>1348959766</td>\n",
       "      <td>14/11/2013</td>\n",
       "      <td>Hair Band</td>\n",
       "      <td>Female</td>\n",
       "      <td>Web</td>\n",
       "      <td>United States</td>\n",
       "      <td>New York</td>\n",
       "      <td>New York City</td>\n",
       "      <td>Accessories</td>\n",
       "      <td>Member</td>\n",
       "      <td>one-day deliver</td>\n",
       "      <td>12</td>\n",
       "      <td>1</td>\n",
       "      <td>0</td>\n",
       "      <td>6,910</td>\n",
       "      <td>576</td>\n",
       "      <td>13-Nov</td>\n",
       "      <td>22:35:51</td>\n",
       "    </tr>\n",
       "    <tr>\n",
       "      <th>1</th>\n",
       "      <td>33374</td>\n",
       "      <td>2213674919</td>\n",
       "      <td>05/11/2013</td>\n",
       "      <td>Hair Band</td>\n",
       "      <td>Female</td>\n",
       "      <td>Web</td>\n",
       "      <td>United States</td>\n",
       "      <td>California</td>\n",
       "      <td>Los Angles</td>\n",
       "      <td>Accessories</td>\n",
       "      <td>Member</td>\n",
       "      <td>one-day deliver</td>\n",
       "      <td>17</td>\n",
       "      <td>1</td>\n",
       "      <td>1</td>\n",
       "      <td>1,699</td>\n",
       "      <td>100</td>\n",
       "      <td>13-Nov</td>\n",
       "      <td>06:44:41</td>\n",
       "    </tr>\n",
       "  </tbody>\n",
       "</table>\n",
       "</div>"
      ],
      "text/plain": [
       "   Transaction_id  customer_id        Date    Product  Gender Device_Type  \\\n",
       "0           40170   1348959766  14/11/2013  Hair Band  Female         Web   \n",
       "1           33374   2213674919  05/11/2013  Hair Band  Female         Web   \n",
       "\n",
       "         Country       State           City     Category Customer_Login_type  \\\n",
       "0  United States    New York  New York City  Accessories              Member   \n",
       "1  United States  California     Los Angles  Accessories              Member   \n",
       "\n",
       "     Delivery_Type   Quantity   Transaction Start  Transaction_Result  \\\n",
       "0  one-day deliver          12                  1                   0   \n",
       "1  one-day deliver          17                  1                   1   \n",
       "\n",
       "  Amount US$ Individual_Price_US$ Year_Month      Time  \n",
       "0      6,910                  576     13-Nov  22:35:51  \n",
       "1      1,699                  100     13-Nov  06:44:41  "
      ]
     },
     "execution_count": 7,
     "metadata": {},
     "output_type": "execute_result"
    }
   ],
   "source": [
    "df[:2]"
   ]
  },
  {
   "cell_type": "markdown",
   "id": "0be11466-6380-4b2b-a438-1925fa36b696",
   "metadata": {},
   "source": [
    "So looking at the data above, we can see that there are multiple dimensions we could segment our data by: geography, product type, temporal (month), customer type.  And each of these may have more subdimensions.  \n",
    "\n",
    "Give this a shot, we'll list some initial dimensions, and see if you can list subdimensions below them.  \n",
    "\n",
    "> We'll get you started with by filling in some dimensions for customer."
   ]
  },
  {
   "cell_type": "markdown",
   "id": "11fc254e-ce83-4d04-87d8-5ef3f66c5b20",
   "metadata": {},
   "source": [
    "1. Customer\n",
    "    * Demographic\n",
    "        * Gender\n",
    "            * Male\n",
    "            * Female\n",
    "            * Non-binary\n",
    "     * Repeat?\n",
    "         * New vs Recurring Customers\n",
    "2. Region\n",
    "3. Temporal"
   ]
  },
  {
   "cell_type": "markdown",
   "id": "cb0d4e20-053a-4b3d-b878-76438d1080a7",
   "metadata": {},
   "source": [
    "### Back to MECE"
   ]
  },
  {
   "cell_type": "markdown",
   "id": "fcfc1dc3-6ac4-4c25-a925-724310d9e4c6",
   "metadata": {},
   "source": [
    "Notice that even with our dimensions, we try to make the subcategories go back to MECE.  There are only two types of categories under repeat customers -- new or recurring (and we list both of them).  With temporal, if we segment by month -- we can easily be MECE simply by listing each of the months.\n",
    "\n",
    "Below we have some other ways that we could have broken down the data."
   ]
  },
  {
   "cell_type": "markdown",
   "id": "2b111821-820a-464c-9970-95a20f92a05f",
   "metadata": {},
   "source": [
    "### Answers"
   ]
  },
  {
   "cell_type": "markdown",
   "id": "d11094a4-f017-4181-bebc-b7300af48531",
   "metadata": {},
   "source": [
    "1. Customer\n",
    "    * Demographic\n",
    "        * Gender\n",
    "            * Male\n",
    "            * Female\n",
    "            * Non-binary\n",
    "     * Repeat?\n",
    "         * New vs Recurring Customers\n",
    "2. Region\n",
    "    * By Country\n",
    "    * By City\n",
    "    * Suburban vs City\n",
    "3. Temporal\n",
    "    * By month\n",
    "    * Holiday vs Non-holiday\n",
    "    * By time of day"
   ]
  },
  {
   "cell_type": "markdown",
   "id": "9bfb459d-3495-407f-9d48-2ad0c3d5cce8",
   "metadata": {},
   "source": [
    "So notice above, that with something like Suburban vs City, this is not a category the dataset gives us, but something we likely could find.  "
   ]
  },
  {
   "cell_type": "code",
   "execution_count": null,
   "id": "ba413d29-f3bf-4906-8afd-ba69016dec1a",
   "metadata": {},
   "outputs": [],
   "source": []
  }
 ],
 "metadata": {
  "kernelspec": {
   "display_name": "Python 3.10.6 64-bit",
   "language": "python",
   "name": "python3"
  },
  "language_info": {
   "codemirror_mode": {
    "name": "ipython",
    "version": 3
   },
   "file_extension": ".py",
   "mimetype": "text/x-python",
   "name": "python",
   "nbconvert_exporter": "python",
   "pygments_lexer": "ipython3",
   "version": "3.10.6"
  },
  "vscode": {
   "interpreter": {
    "hash": "b0fa6594d8f4cbf19f97940f81e996739fb7646882a419484c72d19e05852a7e"
   }
  }
 },
 "nbformat": 4,
 "nbformat_minor": 5
}
