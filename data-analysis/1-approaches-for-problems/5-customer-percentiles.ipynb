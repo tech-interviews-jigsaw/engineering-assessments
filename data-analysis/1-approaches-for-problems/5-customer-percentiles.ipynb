{
 "cells": [
  {
   "cell_type": "markdown",
   "id": "d9173010-df41-425d-978c-e7220917ac68",
   "metadata": {},
   "source": [
    "# Core Users and Core Products"
   ]
  },
  {
   "cell_type": "code",
   "execution_count": null,
   "id": "2e41cf41-7e36-4a97-ae58-427d4a436560",
   "metadata": {},
   "outputs": [],
   "source": []
  }
 ],
 "metadata": {
  "kernelspec": {
   "display_name": "Python 3 (ipykernel)",
   "language": "python",
   "name": "python3"
  },
  "language_info": {
   "codemirror_mode": {
    "name": "ipython",
    "version": 3
   },
   "file_extension": ".py",
   "mimetype": "text/x-python",
   "name": "python",
   "nbconvert_exporter": "python",
   "pygments_lexer": "ipython3",
   "version": "3.10.6"
  }
 },
 "nbformat": 4,
 "nbformat_minor": 5
}
