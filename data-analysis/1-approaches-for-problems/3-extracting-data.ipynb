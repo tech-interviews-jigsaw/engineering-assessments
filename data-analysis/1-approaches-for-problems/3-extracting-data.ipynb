{
 "cells": [
  {
   "cell_type": "markdown",
   "id": "99852281",
   "metadata": {},
   "source": [
    "# Adding additional features"
   ]
  },
  {
   "cell_type": "markdown",
   "id": "362e7c3c",
   "metadata": {},
   "source": [
    "### Introduction"
   ]
  },
  {
   "cell_type": "markdown",
   "id": "cd715707",
   "metadata": {},
   "source": [
    "Now that we have inserted the data into our database and placed it in the correct format, the next step is to extract some additional features from the data."
   ]
  },
  {
   "cell_type": "markdown",
   "id": "c817fd46",
   "metadata": {},
   "source": [
    "### Loading our data"
   ]
  },
  {
   "cell_type": "markdown",
   "id": "53a58821",
   "metadata": {},
   "source": [
    "Let's again load up and explore our data."
   ]
  },
  {
   "cell_type": "markdown",
   "id": "c98e8bbd",
   "metadata": {},
   "source": [
    "> First, we use sqlalachemy to create a connection to our postgres instance and the ecommerce database.  Change the string so that it matches your sql username."
   ]
  },
  {
   "cell_type": "code",
   "execution_count": 3,
   "id": "8c5ddd21",
   "metadata": {},
   "outputs": [],
   "source": [
    "from sqlalchemy import create_engine\n",
    "conn_string = 'postgresql://jeffreykatz@localhost/ecommerce'\n",
    "\n",
    "conn = create_engine(conn_string)"
   ]
  },
  {
   "cell_type": "code",
   "execution_count": 7,
   "id": "96c3765f-87ed-42e5-8119-82c6f12e8572",
   "metadata": {},
   "outputs": [],
   "source": [
    "import pandas as pd\n",
    "df = pd.read_sql(\"select * from transactions limit 2\", conn)"
   ]
  },
  {
   "cell_type": "markdown",
   "id": "996c5256",
   "metadata": {},
   "source": [
    "And we can look at our columns and the related datetypes like so.  We slice the first four columns below."
   ]
  },
  {
   "cell_type": "code",
   "execution_count": 10,
   "id": "6897829f",
   "metadata": {},
   "outputs": [
    {
     "data": {
      "text/plain": [
       "index                      int64\n",
       "transaction_id             int64\n",
       "customer_id                int64\n",
       "date              datetime64[ns]\n",
       "dtype: object"
      ]
     },
     "execution_count": 10,
     "metadata": {},
     "output_type": "execute_result"
    }
   ],
   "source": [
    "df.dtypes[:4]"
   ]
  },
  {
   "cell_type": "markdown",
   "id": "034effa6",
   "metadata": {},
   "source": [
    "Ok, so the important column is the datetime column.  That one column actually has a lot of information that we can extract from it, and we'll do that below."
   ]
  },
  {
   "cell_type": "markdown",
   "id": "49fd29d6",
   "metadata": {},
   "source": [
    "### Further coercing the data"
   ]
  },
  {
   "cell_type": "markdown",
   "id": "93cbe8cb",
   "metadata": {},
   "source": [
    "Our datetime column contains information about the day, month, year, and day of week of each purchase.  Each of these components would be interesting to learn about how our customers make purchases.  We can extract each of these into a respective field like so."
   ]
  },
  {
   "cell_type": "code",
   "execution_count": 15,
   "id": "9e3357f8",
   "metadata": {},
   "outputs": [
    {
     "data": {
      "text/html": [
       "<div>\n",
       "<style scoped>\n",
       "    .dataframe tbody tr th:only-of-type {\n",
       "        vertical-align: middle;\n",
       "    }\n",
       "\n",
       "    .dataframe tbody tr th {\n",
       "        vertical-align: top;\n",
       "    }\n",
       "\n",
       "    .dataframe thead th {\n",
       "        text-align: right;\n",
       "    }\n",
       "</style>\n",
       "<table border=\"1\" class=\"dataframe\">\n",
       "  <thead>\n",
       "    <tr style=\"text-align: right;\">\n",
       "      <th></th>\n",
       "      <th>month</th>\n",
       "      <th>week</th>\n",
       "      <th>dow</th>\n",
       "    </tr>\n",
       "  </thead>\n",
       "  <tbody>\n",
       "    <tr>\n",
       "      <th>0</th>\n",
       "      <td>11.0</td>\n",
       "      <td>46.0</td>\n",
       "      <td>4.0</td>\n",
       "    </tr>\n",
       "    <tr>\n",
       "      <th>1</th>\n",
       "      <td>5.0</td>\n",
       "      <td>19.0</td>\n",
       "      <td>6.0</td>\n",
       "    </tr>\n",
       "    <tr>\n",
       "      <th>2</th>\n",
       "      <td>1.0</td>\n",
       "      <td>2.0</td>\n",
       "      <td>4.0</td>\n",
       "    </tr>\n",
       "  </tbody>\n",
       "</table>\n",
       "</div>"
      ],
      "text/plain": [
       "   month  week  dow\n",
       "0   11.0  46.0  4.0\n",
       "1    5.0  19.0  6.0\n",
       "2    1.0   2.0  4.0"
      ]
     },
     "execution_count": 15,
     "metadata": {},
     "output_type": "execute_result"
    }
   ],
   "source": [
    "query = \"\"\"select EXTRACT(month FROM date) as month, \n",
    "       EXTRACT(week FROM date) as week, \n",
    "EXTRACT(DOW FROM date) as dow from raw_transactions\"\"\"\n",
    "\n",
    "month_cols = pd.read_sql(query, conn)\n",
    "month_cols[:3]"
   ]
  },
  {
   "cell_type": "markdown",
   "id": "dd968d79",
   "metadata": {},
   "source": [
    "And we can include the original columns by listing those in our select statement as well."
   ]
  },
  {
   "cell_type": "code",
   "execution_count": 17,
   "id": "6aca744a",
   "metadata": {},
   "outputs": [
    {
     "name": "stdout",
     "output_type": "stream",
     "text": [
      "Index(['index', 'transaction_id', 'customer_id', 'date', 'product', 'gender',\n",
      "       'device_type', 'country', 'state', 'city', 'category',\n",
      "       'customer_login_type', 'delivery_type', 'quantity', 'transaction_start',\n",
      "       'transaction_result', 'amount', 'individual_price', 'time', 'year',\n",
      "       'month'],\n",
      "      dtype='object')\n"
     ]
    }
   ],
   "source": [
    "print(df.columns)\n",
    "\n",
    "['transaction_id', 'customer_id', 'date', 'product', 'gender',\n",
    "       'device_type', 'country', 'state', 'city', 'category',\n",
    "       'customer_login_type', 'delivery_type', 'quantity', 'transaction_start',\n",
    "       'transaction_result', 'amount', 'individual_price', 'time', 'year',\n",
    "       'month']"
   ]
  },
  {
   "cell_type": "markdown",
   "id": "4c8e89fc",
   "metadata": {},
   "source": [
    "We want to copy and paste the columns above into our select statement, but we need to remove all of the quotation marks.  If we're in VSCode, we can highlight the quotation mark and then press `cmd + shift + l` to do so.  "
   ]
  },
  {
   "cell_type": "code",
   "execution_count": 19,
   "id": "43ade8ff",
   "metadata": {},
   "outputs": [
    {
     "data": {
      "text/html": [
       "<div>\n",
       "<style scoped>\n",
       "    .dataframe tbody tr th:only-of-type {\n",
       "        vertical-align: middle;\n",
       "    }\n",
       "\n",
       "    .dataframe tbody tr th {\n",
       "        vertical-align: top;\n",
       "    }\n",
       "\n",
       "    .dataframe thead th {\n",
       "        text-align: right;\n",
       "    }\n",
       "</style>\n",
       "<table border=\"1\" class=\"dataframe\">\n",
       "  <thead>\n",
       "    <tr style=\"text-align: right;\">\n",
       "      <th></th>\n",
       "      <th>transaction_id</th>\n",
       "      <th>customer_id</th>\n",
       "      <th>product</th>\n",
       "      <th>gender</th>\n",
       "      <th>device_type</th>\n",
       "      <th>country</th>\n",
       "      <th>state</th>\n",
       "      <th>city</th>\n",
       "      <th>category</th>\n",
       "      <th>customer_login_type</th>\n",
       "      <th>delivery_type</th>\n",
       "      <th>quantity</th>\n",
       "      <th>transaction_start</th>\n",
       "      <th>transaction_result</th>\n",
       "      <th>amount</th>\n",
       "      <th>individual_price</th>\n",
       "      <th>time</th>\n",
       "      <th>month</th>\n",
       "      <th>week</th>\n",
       "      <th>dow</th>\n",
       "    </tr>\n",
       "  </thead>\n",
       "  <tbody>\n",
       "    <tr>\n",
       "      <th>0</th>\n",
       "      <td>40170</td>\n",
       "      <td>1348959766</td>\n",
       "      <td>Hair Band</td>\n",
       "      <td>Female</td>\n",
       "      <td>Web</td>\n",
       "      <td>United States</td>\n",
       "      <td>New York</td>\n",
       "      <td>New York City</td>\n",
       "      <td>Accessories</td>\n",
       "      <td>Member</td>\n",
       "      <td>one-day deliver</td>\n",
       "      <td>12</td>\n",
       "      <td>1</td>\n",
       "      <td>0</td>\n",
       "      <td>6910.0</td>\n",
       "      <td>576.0</td>\n",
       "      <td>1900-01-01 22:35:51</td>\n",
       "      <td>11.0</td>\n",
       "      <td>46.0</td>\n",
       "      <td>4.0</td>\n",
       "    </tr>\n",
       "    <tr>\n",
       "      <th>1</th>\n",
       "      <td>33374</td>\n",
       "      <td>2213674919</td>\n",
       "      <td>Hair Band</td>\n",
       "      <td>Female</td>\n",
       "      <td>Web</td>\n",
       "      <td>United States</td>\n",
       "      <td>California</td>\n",
       "      <td>Los Angles</td>\n",
       "      <td>Accessories</td>\n",
       "      <td>Member</td>\n",
       "      <td>one-day deliver</td>\n",
       "      <td>17</td>\n",
       "      <td>1</td>\n",
       "      <td>1</td>\n",
       "      <td>1699.0</td>\n",
       "      <td>100.0</td>\n",
       "      <td>1900-01-01 06:44:41</td>\n",
       "      <td>5.0</td>\n",
       "      <td>19.0</td>\n",
       "      <td>6.0</td>\n",
       "    </tr>\n",
       "  </tbody>\n",
       "</table>\n",
       "</div>"
      ],
      "text/plain": [
       "   transaction_id  customer_id    product  gender device_type        country  \\\n",
       "0           40170   1348959766  Hair Band  Female         Web  United States   \n",
       "1           33374   2213674919  Hair Band  Female         Web  United States   \n",
       "\n",
       "        state           city     category customer_login_type  \\\n",
       "0    New York  New York City  Accessories              Member   \n",
       "1  California     Los Angles  Accessories              Member   \n",
       "\n",
       "     delivery_type  quantity  transaction_start  transaction_result  amount  \\\n",
       "0  one-day deliver        12                  1                   0  6910.0   \n",
       "1  one-day deliver        17                  1                   1  1699.0   \n",
       "\n",
       "   individual_price                time  month  week  dow  \n",
       "0             576.0 1900-01-01 22:35:51   11.0  46.0  4.0  \n",
       "1             100.0 1900-01-01 06:44:41    5.0  19.0  6.0  "
      ]
     },
     "execution_count": 19,
     "metadata": {},
     "output_type": "execute_result"
    }
   ],
   "source": [
    "query = \"\"\"select transaction_id, customer_id, product, gender,\n",
    "       device_type, country, state, city, category,\n",
    "       customer_login_type, delivery_type, quantity, transaction_start,\n",
    "       transaction_result, amount, individual_price, time, EXTRACT(month FROM date) as month, \n",
    "       EXTRACT(week FROM date) as week, \n",
    "EXTRACT(DOW FROM date) as dow from raw_transactions\"\"\"\n",
    "\n",
    "df_with_date_cols = pd.read_sql(query, conn)\n",
    "df_with_date_cols[:2]"
   ]
  },
  {
   "cell_type": "markdown",
   "id": "b9aa1419",
   "metadata": {},
   "source": [
    "And now you can see that we have the relevant original columns included.\n",
    "\n",
    "We also removed some columns.  We did not select the original date column, as that info is now spread out across our new columns.  And we also did not select the original year and month columns in our dataset as that would be repetitive.   "
   ]
  },
  {
   "cell_type": "markdown",
   "id": "801b40af",
   "metadata": {},
   "source": [
    "### Extract from time"
   ]
  },
  {
   "cell_type": "markdown",
   "id": "20babf30",
   "metadata": {},
   "source": [
    "The time column is pretty similar.  We can extract the our from the time column, and this way we can perform analysis to see which hours are particularly popular, or not."
   ]
  },
  {
   "cell_type": "code",
   "execution_count": 5,
   "id": "2cbf3298-38fe-4385-9e10-b9393e120e18",
   "metadata": {},
   "outputs": [
    {
     "data": {
      "text/html": [
       "<div>\n",
       "<style scoped>\n",
       "    .dataframe tbody tr th:only-of-type {\n",
       "        vertical-align: middle;\n",
       "    }\n",
       "\n",
       "    .dataframe tbody tr th {\n",
       "        vertical-align: top;\n",
       "    }\n",
       "\n",
       "    .dataframe thead th {\n",
       "        text-align: right;\n",
       "    }\n",
       "</style>\n",
       "<table border=\"1\" class=\"dataframe\">\n",
       "  <thead>\n",
       "    <tr style=\"text-align: right;\">\n",
       "      <th></th>\n",
       "      <th>hour</th>\n",
       "    </tr>\n",
       "  </thead>\n",
       "  <tbody>\n",
       "    <tr>\n",
       "      <th>0</th>\n",
       "      <td>22.0</td>\n",
       "    </tr>\n",
       "    <tr>\n",
       "      <th>1</th>\n",
       "      <td>6.0</td>\n",
       "    </tr>\n",
       "    <tr>\n",
       "      <th>2</th>\n",
       "      <td>0.0</td>\n",
       "    </tr>\n",
       "  </tbody>\n",
       "</table>\n",
       "</div>"
      ],
      "text/plain": [
       "   hour\n",
       "0  22.0\n",
       "1   6.0\n",
       "2   0.0"
      ]
     },
     "execution_count": 5,
     "metadata": {},
     "output_type": "execute_result"
    }
   ],
   "source": [
    "import pandas as pd\n",
    "hour_col = pd.read_sql(\"\"\"select EXTRACT(hour FROM time) as hour from raw_transactions\"\"\", conn)\n",
    "\n",
    "hour_col[:3]"
   ]
  },
  {
   "cell_type": "markdown",
   "id": "b84629c6",
   "metadata": {},
   "source": [
    "And now we can remove the time column, and just use the hour column."
   ]
  },
  {
   "cell_type": "code",
   "execution_count": 6,
   "id": "3cbe2570",
   "metadata": {},
   "outputs": [
    {
     "data": {
      "text/html": [
       "<div>\n",
       "<style scoped>\n",
       "    .dataframe tbody tr th:only-of-type {\n",
       "        vertical-align: middle;\n",
       "    }\n",
       "\n",
       "    .dataframe tbody tr th {\n",
       "        vertical-align: top;\n",
       "    }\n",
       "\n",
       "    .dataframe thead th {\n",
       "        text-align: right;\n",
       "    }\n",
       "</style>\n",
       "<table border=\"1\" class=\"dataframe\">\n",
       "  <thead>\n",
       "    <tr style=\"text-align: right;\">\n",
       "      <th></th>\n",
       "      <th>transaction_id</th>\n",
       "      <th>customer_id</th>\n",
       "      <th>product</th>\n",
       "      <th>gender</th>\n",
       "      <th>device_type</th>\n",
       "      <th>country</th>\n",
       "      <th>state</th>\n",
       "      <th>city</th>\n",
       "      <th>category</th>\n",
       "      <th>customer_login_type</th>\n",
       "      <th>delivery_type</th>\n",
       "      <th>quantity</th>\n",
       "      <th>transaction_start</th>\n",
       "      <th>transaction_result</th>\n",
       "      <th>amount</th>\n",
       "      <th>individual_price</th>\n",
       "      <th>month</th>\n",
       "      <th>week</th>\n",
       "      <th>dow</th>\n",
       "      <th>hour</th>\n",
       "    </tr>\n",
       "  </thead>\n",
       "  <tbody>\n",
       "    <tr>\n",
       "      <th>0</th>\n",
       "      <td>40170</td>\n",
       "      <td>1348959766</td>\n",
       "      <td>Hair Band</td>\n",
       "      <td>Female</td>\n",
       "      <td>Web</td>\n",
       "      <td>United States</td>\n",
       "      <td>New York</td>\n",
       "      <td>New York City</td>\n",
       "      <td>Accessories</td>\n",
       "      <td>Member</td>\n",
       "      <td>one-day deliver</td>\n",
       "      <td>12</td>\n",
       "      <td>1</td>\n",
       "      <td>0</td>\n",
       "      <td>6910.0</td>\n",
       "      <td>576.0</td>\n",
       "      <td>11.0</td>\n",
       "      <td>46.0</td>\n",
       "      <td>4.0</td>\n",
       "      <td>22.0</td>\n",
       "    </tr>\n",
       "    <tr>\n",
       "      <th>1</th>\n",
       "      <td>33374</td>\n",
       "      <td>2213674919</td>\n",
       "      <td>Hair Band</td>\n",
       "      <td>Female</td>\n",
       "      <td>Web</td>\n",
       "      <td>United States</td>\n",
       "      <td>California</td>\n",
       "      <td>Los Angles</td>\n",
       "      <td>Accessories</td>\n",
       "      <td>Member</td>\n",
       "      <td>one-day deliver</td>\n",
       "      <td>17</td>\n",
       "      <td>1</td>\n",
       "      <td>1</td>\n",
       "      <td>1699.0</td>\n",
       "      <td>100.0</td>\n",
       "      <td>5.0</td>\n",
       "      <td>19.0</td>\n",
       "      <td>6.0</td>\n",
       "      <td>6.0</td>\n",
       "    </tr>\n",
       "  </tbody>\n",
       "</table>\n",
       "</div>"
      ],
      "text/plain": [
       "   transaction_id  customer_id    product  gender device_type        country  \\\n",
       "0           40170   1348959766  Hair Band  Female         Web  United States   \n",
       "1           33374   2213674919  Hair Band  Female         Web  United States   \n",
       "\n",
       "        state           city     category customer_login_type  \\\n",
       "0    New York  New York City  Accessories              Member   \n",
       "1  California     Los Angles  Accessories              Member   \n",
       "\n",
       "     delivery_type  quantity  transaction_start  transaction_result  amount  \\\n",
       "0  one-day deliver        12                  1                   0  6910.0   \n",
       "1  one-day deliver        17                  1                   1  1699.0   \n",
       "\n",
       "   individual_price  month  week  dow  hour  \n",
       "0             576.0   11.0  46.0  4.0  22.0  \n",
       "1             100.0    5.0  19.0  6.0   6.0  "
      ]
     },
     "execution_count": 6,
     "metadata": {},
     "output_type": "execute_result"
    }
   ],
   "source": [
    "query = \"\"\"select transaction_id, customer_id, product, gender,\n",
    "       device_type, country, state, city, category,\n",
    "       customer_login_type, delivery_type, quantity, transaction_start,\n",
    "       transaction_result, amount, individual_price, EXTRACT(month FROM date) as month, \n",
    "       EXTRACT(week FROM date) as week, \n",
    "EXTRACT(DOW FROM date) as dow, EXTRACT(hour from time) as hour from raw_transactions\"\"\"\n",
    "\n",
    "df_with_date_time_cols = pd.read_sql(query, conn)\n",
    "df_with_date_time_cols[:2]"
   ]
  },
  {
   "cell_type": "markdown",
   "id": "2aad0393",
   "metadata": {},
   "source": [
    "### Loading the data"
   ]
  },
  {
   "cell_type": "markdown",
   "id": "97964d2e",
   "metadata": {},
   "source": [
    "Ok, now let's load the data into our database.  We'll do so by creating a new table called transactions -- instead of `raw_transactions`.  "
   ]
  },
  {
   "cell_type": "code",
   "execution_count": 7,
   "id": "b1203e53",
   "metadata": {},
   "outputs": [
    {
     "data": {
      "text/plain": [
       "535"
      ]
     },
     "execution_count": 7,
     "metadata": {},
     "output_type": "execute_result"
    }
   ],
   "source": [
    "df_with_date_time_cols.to_sql('transactions', conn, if_exists = 'replace')"
   ]
  },
  {
   "cell_type": "markdown",
   "id": "43f4420b",
   "metadata": {},
   "source": [
    "And we can confirm that our new data was loaded into the transactions table."
   ]
  },
  {
   "cell_type": "code",
   "execution_count": 8,
   "id": "537d13f7",
   "metadata": {},
   "outputs": [
    {
     "data": {
      "text/html": [
       "<div>\n",
       "<style scoped>\n",
       "    .dataframe tbody tr th:only-of-type {\n",
       "        vertical-align: middle;\n",
       "    }\n",
       "\n",
       "    .dataframe tbody tr th {\n",
       "        vertical-align: top;\n",
       "    }\n",
       "\n",
       "    .dataframe thead th {\n",
       "        text-align: right;\n",
       "    }\n",
       "</style>\n",
       "<table border=\"1\" class=\"dataframe\">\n",
       "  <thead>\n",
       "    <tr style=\"text-align: right;\">\n",
       "      <th></th>\n",
       "      <th>index</th>\n",
       "      <th>transaction_id</th>\n",
       "      <th>customer_id</th>\n",
       "      <th>product</th>\n",
       "      <th>gender</th>\n",
       "      <th>device_type</th>\n",
       "      <th>country</th>\n",
       "      <th>state</th>\n",
       "      <th>city</th>\n",
       "      <th>category</th>\n",
       "      <th>...</th>\n",
       "      <th>delivery_type</th>\n",
       "      <th>quantity</th>\n",
       "      <th>transaction_start</th>\n",
       "      <th>transaction_result</th>\n",
       "      <th>amount</th>\n",
       "      <th>individual_price</th>\n",
       "      <th>month</th>\n",
       "      <th>week</th>\n",
       "      <th>dow</th>\n",
       "      <th>hour</th>\n",
       "    </tr>\n",
       "  </thead>\n",
       "  <tbody>\n",
       "    <tr>\n",
       "      <th>0</th>\n",
       "      <td>0</td>\n",
       "      <td>40170</td>\n",
       "      <td>1348959766</td>\n",
       "      <td>Hair Band</td>\n",
       "      <td>Female</td>\n",
       "      <td>Web</td>\n",
       "      <td>United States</td>\n",
       "      <td>New York</td>\n",
       "      <td>New York City</td>\n",
       "      <td>Accessories</td>\n",
       "      <td>...</td>\n",
       "      <td>one-day deliver</td>\n",
       "      <td>12</td>\n",
       "      <td>1</td>\n",
       "      <td>0</td>\n",
       "      <td>6910.0</td>\n",
       "      <td>576.0</td>\n",
       "      <td>11.0</td>\n",
       "      <td>46.0</td>\n",
       "      <td>4.0</td>\n",
       "      <td>22.0</td>\n",
       "    </tr>\n",
       "    <tr>\n",
       "      <th>1</th>\n",
       "      <td>1</td>\n",
       "      <td>33374</td>\n",
       "      <td>2213674919</td>\n",
       "      <td>Hair Band</td>\n",
       "      <td>Female</td>\n",
       "      <td>Web</td>\n",
       "      <td>United States</td>\n",
       "      <td>California</td>\n",
       "      <td>Los Angles</td>\n",
       "      <td>Accessories</td>\n",
       "      <td>...</td>\n",
       "      <td>one-day deliver</td>\n",
       "      <td>17</td>\n",
       "      <td>1</td>\n",
       "      <td>1</td>\n",
       "      <td>1699.0</td>\n",
       "      <td>100.0</td>\n",
       "      <td>5.0</td>\n",
       "      <td>19.0</td>\n",
       "      <td>6.0</td>\n",
       "      <td>6.0</td>\n",
       "    </tr>\n",
       "  </tbody>\n",
       "</table>\n",
       "<p>2 rows × 21 columns</p>\n",
       "</div>"
      ],
      "text/plain": [
       "   index  transaction_id  customer_id    product  gender device_type  \\\n",
       "0      0           40170   1348959766  Hair Band  Female         Web   \n",
       "1      1           33374   2213674919  Hair Band  Female         Web   \n",
       "\n",
       "         country       state           city     category  ...  \\\n",
       "0  United States    New York  New York City  Accessories  ...   \n",
       "1  United States  California     Los Angles  Accessories  ...   \n",
       "\n",
       "     delivery_type quantity  transaction_start  transaction_result  amount  \\\n",
       "0  one-day deliver       12                  1                   0  6910.0   \n",
       "1  one-day deliver       17                  1                   1  1699.0   \n",
       "\n",
       "   individual_price  month  week  dow  hour  \n",
       "0             576.0   11.0  46.0  4.0  22.0  \n",
       "1             100.0    5.0  19.0  6.0   6.0  \n",
       "\n",
       "[2 rows x 21 columns]"
      ]
     },
     "execution_count": 8,
     "metadata": {},
     "output_type": "execute_result"
    }
   ],
   "source": [
    "transactions_df = pd.read_sql('select * from transactions', conn)\n",
    "transactions_df[:2]"
   ]
  },
  {
   "cell_type": "markdown",
   "id": "819e97cc-49c6-4c58-80d3-31eef384e1bb",
   "metadata": {},
   "source": [
    "### Resources\n",
    "\n",
    "[Crosstab](https://stackoverflow.com/questions/3002499/postgresql-crosstab-query/11751905#11751905)"
   ]
  }
 ],
 "metadata": {
  "kernelspec": {
   "display_name": "Python 3.10.6 64-bit",
   "language": "python",
   "name": "python3"
  },
  "language_info": {
   "codemirror_mode": {
    "name": "ipython",
    "version": 3
   },
   "file_extension": ".py",
   "mimetype": "text/x-python",
   "name": "python",
   "nbconvert_exporter": "python",
   "pygments_lexer": "ipython3",
   "version": "3.10.6"
  },
  "vscode": {
   "interpreter": {
    "hash": "b0fa6594d8f4cbf19f97940f81e996739fb7646882a419484c72d19e05852a7e"
   }
  }
 },
 "nbformat": 4,
 "nbformat_minor": 5
}
