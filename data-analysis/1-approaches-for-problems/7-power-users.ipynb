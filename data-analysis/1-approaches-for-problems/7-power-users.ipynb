{
 "cells": [
  {
   "cell_type": "markdown",
   "id": "d9173010-df41-425d-978c-e7220917ac68",
   "metadata": {},
   "source": [
    "# Power Users"
   ]
  },
  {
   "cell_type": "markdown",
   "id": "2e41cf41-7e36-4a97-ae58-427d4a436560",
   "metadata": {},
   "source": [
    "### Introduction\n",
    "\n",
    "In this lesson, we'll perform work based on the 80 - 20 principle.  With the 80 - 20 principle.  The 80 - 20 rule, aka the pareto principle, is the idea that 80% of the consequences typically come from 20% of the causes.  \n",
    "\n",
    "For example, in the age of video rentals, video stores reported that 80% of revenue came from 20% of video tapes.  The pareto principle is valuable because  it means that we can then focus on that 20%, which is having 80% of the impact.\n",
    "\n",
    "In this lesson, we will rely on the 80 - 20 rule to find the top products that are driving our business and the top customers that most responsible for our revenue.  From there, we can move forward trying to find more customers or produce more products that are driving the business."
   ]
  },
  {
   "cell_type": "markdown",
   "id": "a5ce1e19",
   "metadata": {},
   "source": [
    "### Identifying our Top Users"
   ]
  },
  {
   "cell_type": "markdown",
   "id": "842cae1b",
   "metadata": {},
   "source": [
    "Let's start by connecting to our data."
   ]
  },
  {
   "cell_type": "code",
   "execution_count": 1,
   "id": "e3b8a272",
   "metadata": {},
   "outputs": [],
   "source": [
    "from sqlalchemy import create_engine\n",
    "# change the jeffreykatz to your postgres username\n",
    "conn_string = 'postgresql://jeffreykatz@localhost/ecommerce'\n",
    "engine = create_engine(conn_string)"
   ]
  },
  {
   "cell_type": "code",
   "execution_count": 2,
   "id": "c4cc753e",
   "metadata": {},
   "outputs": [
    {
     "data": {
      "text/html": [
       "<div>\n",
       "<style scoped>\n",
       "    .dataframe tbody tr th:only-of-type {\n",
       "        vertical-align: middle;\n",
       "    }\n",
       "\n",
       "    .dataframe tbody tr th {\n",
       "        vertical-align: top;\n",
       "    }\n",
       "\n",
       "    .dataframe thead th {\n",
       "        text-align: right;\n",
       "    }\n",
       "</style>\n",
       "<table border=\"1\" class=\"dataframe\">\n",
       "  <thead>\n",
       "    <tr style=\"text-align: right;\">\n",
       "      <th></th>\n",
       "      <th>index</th>\n",
       "      <th>transaction_id</th>\n",
       "      <th>customer_id</th>\n",
       "      <th>product</th>\n",
       "      <th>gender</th>\n",
       "      <th>device_type</th>\n",
       "      <th>country</th>\n",
       "      <th>state</th>\n",
       "      <th>city</th>\n",
       "      <th>category</th>\n",
       "      <th>...</th>\n",
       "      <th>delivery_type</th>\n",
       "      <th>quantity</th>\n",
       "      <th>transaction_start</th>\n",
       "      <th>transaction_result</th>\n",
       "      <th>amount</th>\n",
       "      <th>individual_price</th>\n",
       "      <th>month</th>\n",
       "      <th>week</th>\n",
       "      <th>dow</th>\n",
       "      <th>hour</th>\n",
       "    </tr>\n",
       "  </thead>\n",
       "  <tbody>\n",
       "    <tr>\n",
       "      <th>0</th>\n",
       "      <td>0</td>\n",
       "      <td>40170</td>\n",
       "      <td>1348959766</td>\n",
       "      <td>Hair Band</td>\n",
       "      <td>Female</td>\n",
       "      <td>Web</td>\n",
       "      <td>United States</td>\n",
       "      <td>New York</td>\n",
       "      <td>New York City</td>\n",
       "      <td>Accessories</td>\n",
       "      <td>...</td>\n",
       "      <td>one-day deliver</td>\n",
       "      <td>12</td>\n",
       "      <td>1</td>\n",
       "      <td>0</td>\n",
       "      <td>6910.0</td>\n",
       "      <td>576.0</td>\n",
       "      <td>11.0</td>\n",
       "      <td>46.0</td>\n",
       "      <td>4.0</td>\n",
       "      <td>22.0</td>\n",
       "    </tr>\n",
       "    <tr>\n",
       "      <th>1</th>\n",
       "      <td>1</td>\n",
       "      <td>33374</td>\n",
       "      <td>2213674919</td>\n",
       "      <td>Hair Band</td>\n",
       "      <td>Female</td>\n",
       "      <td>Web</td>\n",
       "      <td>United States</td>\n",
       "      <td>California</td>\n",
       "      <td>Los Angles</td>\n",
       "      <td>Accessories</td>\n",
       "      <td>...</td>\n",
       "      <td>one-day deliver</td>\n",
       "      <td>17</td>\n",
       "      <td>1</td>\n",
       "      <td>1</td>\n",
       "      <td>1699.0</td>\n",
       "      <td>100.0</td>\n",
       "      <td>5.0</td>\n",
       "      <td>19.0</td>\n",
       "      <td>6.0</td>\n",
       "      <td>6.0</td>\n",
       "    </tr>\n",
       "  </tbody>\n",
       "</table>\n",
       "<p>2 rows × 21 columns</p>\n",
       "</div>"
      ],
      "text/plain": [
       "   index  transaction_id  customer_id    product  gender device_type  \\\n",
       "0      0           40170   1348959766  Hair Band  Female         Web   \n",
       "1      1           33374   2213674919  Hair Band  Female         Web   \n",
       "\n",
       "         country       state           city     category  ...  \\\n",
       "0  United States    New York  New York City  Accessories  ...   \n",
       "1  United States  California     Los Angles  Accessories  ...   \n",
       "\n",
       "     delivery_type quantity  transaction_start  transaction_result  amount  \\\n",
       "0  one-day deliver       12                  1                   0  6910.0   \n",
       "1  one-day deliver       17                  1                   1  1699.0   \n",
       "\n",
       "   individual_price  month  week  dow  hour  \n",
       "0             576.0   11.0  46.0  4.0  22.0  \n",
       "1             100.0    5.0  19.0  6.0   6.0  \n",
       "\n",
       "[2 rows x 21 columns]"
      ]
     },
     "execution_count": 2,
     "metadata": {},
     "output_type": "execute_result"
    }
   ],
   "source": [
    "import pandas as pd\n",
    "\n",
    "transactions_df = pd.read_sql('select * from transactions', engine)\n",
    "transactions_df[:2]"
   ]
  },
  {
   "cell_type": "markdown",
   "id": "c6fb1c78",
   "metadata": {},
   "source": [
    "Now to start we have our transactions, and what we want to get to is a SQL query that give us each of the users and calculate the cumulative percentage of total spend.\n",
    "\n",
    "We loaded the result of the query below, so you can better see what we're getting at."
   ]
  },
  {
   "cell_type": "code",
   "execution_count": 3,
   "id": "28ec2c79",
   "metadata": {},
   "outputs": [
    {
     "data": {
      "text/html": [
       "<div>\n",
       "<style scoped>\n",
       "    .dataframe tbody tr th:only-of-type {\n",
       "        vertical-align: middle;\n",
       "    }\n",
       "\n",
       "    .dataframe tbody tr th {\n",
       "        vertical-align: top;\n",
       "    }\n",
       "\n",
       "    .dataframe thead th {\n",
       "        text-align: right;\n",
       "    }\n",
       "</style>\n",
       "<table border=\"1\" class=\"dataframe\">\n",
       "  <thead>\n",
       "    <tr style=\"text-align: right;\">\n",
       "      <th></th>\n",
       "      <th>customer_id</th>\n",
       "      <th>total_amount</th>\n",
       "      <th>percentage_spend</th>\n",
       "    </tr>\n",
       "  </thead>\n",
       "  <tbody>\n",
       "    <tr>\n",
       "      <th>0</th>\n",
       "      <td>1929979702</td>\n",
       "      <td>894869.0</td>\n",
       "      <td>0.002978</td>\n",
       "    </tr>\n",
       "    <tr>\n",
       "      <th>1</th>\n",
       "      <td>1430453333</td>\n",
       "      <td>840000.0</td>\n",
       "      <td>0.005774</td>\n",
       "    </tr>\n",
       "    <tr>\n",
       "      <th>2</th>\n",
       "      <td>1884522075</td>\n",
       "      <td>767733.0</td>\n",
       "      <td>0.008329</td>\n",
       "    </tr>\n",
       "  </tbody>\n",
       "</table>\n",
       "</div>"
      ],
      "text/plain": [
       "   customer_id  total_amount  percentage_spend\n",
       "0   1929979702      894869.0          0.002978\n",
       "1   1430453333      840000.0          0.005774\n",
       "2   1884522075      767733.0          0.008329"
      ]
     },
     "execution_count": 3,
     "metadata": {},
     "output_type": "execute_result"
    }
   ],
   "source": [
    "percent_spend_df = pd.read_csv('./user_percentage_spend.csv', index_col = 0)\n",
    "percent_spend_df[:3]"
   ]
  },
  {
   "cell_type": "markdown",
   "id": "5c40be1d",
   "metadata": {},
   "source": [
    "We start at zero, and see that the top user accounts for `.02%` of total revenue, then the top two users account for `.5%` of spend, and the top three account for `.8%` of spend, and so on."
   ]
  },
  {
   "cell_type": "markdown",
   "id": "e38ec325",
   "metadata": {},
   "source": [
    "Write the SQL to go from transactions, to the data above.  Then in the next lesson we'll see how we can work with that data."
   ]
  },
  {
   "cell_type": "code",
   "execution_count": 53,
   "id": "a65d80b0",
   "metadata": {},
   "outputs": [
    {
     "data": {
      "text/html": [
       "<div>\n",
       "<style scoped>\n",
       "    .dataframe tbody tr th:only-of-type {\n",
       "        vertical-align: middle;\n",
       "    }\n",
       "\n",
       "    .dataframe tbody tr th {\n",
       "        vertical-align: top;\n",
       "    }\n",
       "\n",
       "    .dataframe thead th {\n",
       "        text-align: right;\n",
       "    }\n",
       "</style>\n",
       "<table border=\"1\" class=\"dataframe\">\n",
       "  <thead>\n",
       "    <tr style=\"text-align: right;\">\n",
       "      <th></th>\n",
       "      <th>index</th>\n",
       "      <th>transaction_id</th>\n",
       "      <th>customer_id</th>\n",
       "      <th>product</th>\n",
       "      <th>gender</th>\n",
       "      <th>device_type</th>\n",
       "      <th>country</th>\n",
       "      <th>state</th>\n",
       "      <th>city</th>\n",
       "      <th>category</th>\n",
       "      <th>...</th>\n",
       "      <th>delivery_type</th>\n",
       "      <th>quantity</th>\n",
       "      <th>transaction_start</th>\n",
       "      <th>transaction_result</th>\n",
       "      <th>amount</th>\n",
       "      <th>individual_price</th>\n",
       "      <th>month</th>\n",
       "      <th>week</th>\n",
       "      <th>dow</th>\n",
       "      <th>hour</th>\n",
       "    </tr>\n",
       "  </thead>\n",
       "  <tbody>\n",
       "    <tr>\n",
       "      <th>0</th>\n",
       "      <td>0</td>\n",
       "      <td>40170</td>\n",
       "      <td>1348959766</td>\n",
       "      <td>Hair Band</td>\n",
       "      <td>Female</td>\n",
       "      <td>Web</td>\n",
       "      <td>United States</td>\n",
       "      <td>New York</td>\n",
       "      <td>New York City</td>\n",
       "      <td>Accessories</td>\n",
       "      <td>...</td>\n",
       "      <td>one-day deliver</td>\n",
       "      <td>12</td>\n",
       "      <td>1</td>\n",
       "      <td>0</td>\n",
       "      <td>6910.0</td>\n",
       "      <td>576.0</td>\n",
       "      <td>11.0</td>\n",
       "      <td>46.0</td>\n",
       "      <td>4.0</td>\n",
       "      <td>22.0</td>\n",
       "    </tr>\n",
       "    <tr>\n",
       "      <th>1</th>\n",
       "      <td>1</td>\n",
       "      <td>33374</td>\n",
       "      <td>2213674919</td>\n",
       "      <td>Hair Band</td>\n",
       "      <td>Female</td>\n",
       "      <td>Web</td>\n",
       "      <td>United States</td>\n",
       "      <td>California</td>\n",
       "      <td>Los Angles</td>\n",
       "      <td>Accessories</td>\n",
       "      <td>...</td>\n",
       "      <td>one-day deliver</td>\n",
       "      <td>17</td>\n",
       "      <td>1</td>\n",
       "      <td>1</td>\n",
       "      <td>1699.0</td>\n",
       "      <td>100.0</td>\n",
       "      <td>5.0</td>\n",
       "      <td>19.0</td>\n",
       "      <td>6.0</td>\n",
       "      <td>6.0</td>\n",
       "    </tr>\n",
       "  </tbody>\n",
       "</table>\n",
       "<p>2 rows × 21 columns</p>\n",
       "</div>"
      ],
      "text/plain": [
       "   index  transaction_id  customer_id    product  gender device_type  \\\n",
       "0      0           40170   1348959766  Hair Band  Female         Web   \n",
       "1      1           33374   2213674919  Hair Band  Female         Web   \n",
       "\n",
       "         country       state           city     category  ...  \\\n",
       "0  United States    New York  New York City  Accessories  ...   \n",
       "1  United States  California     Los Angles  Accessories  ...   \n",
       "\n",
       "     delivery_type quantity  transaction_start  transaction_result  amount  \\\n",
       "0  one-day deliver       12                  1                   0  6910.0   \n",
       "1  one-day deliver       17                  1                   1  1699.0   \n",
       "\n",
       "   individual_price  month  week  dow  hour  \n",
       "0             576.0   11.0  46.0  4.0  22.0  \n",
       "1             100.0    5.0  19.0  6.0   6.0  \n",
       "\n",
       "[2 rows x 21 columns]"
      ]
     },
     "execution_count": 53,
     "metadata": {},
     "output_type": "execute_result"
    }
   ],
   "source": [
    "import pandas as pd\n",
    "\n",
    "query = \"\"\"select * from transactions\"\"\"\n",
    "\n",
    "user_percentage_spend = pd.read_sql(query, engine)\n",
    "\n",
    "\n",
    "user_percentage_spend[:2]"
   ]
  },
  {
   "cell_type": "markdown",
   "id": "1c7b08ff",
   "metadata": {},
   "source": [
    "> <img src=\"./customer_percentile_spend.png\" width=\"60%\">"
   ]
  },
  {
   "cell_type": "markdown",
   "id": "be4d37ab",
   "metadata": {},
   "source": [
    "So we can see above that we have a percentile spend  "
   ]
  }
 ],
 "metadata": {
  "kernelspec": {
   "display_name": "Python 3.10.6 64-bit",
   "language": "python",
   "name": "python3"
  },
  "language_info": {
   "codemirror_mode": {
    "name": "ipython",
    "version": 3
   },
   "file_extension": ".py",
   "mimetype": "text/x-python",
   "name": "python",
   "nbconvert_exporter": "python",
   "pygments_lexer": "ipython3",
   "version": "3.10.6"
  },
  "vscode": {
   "interpreter": {
    "hash": "b0fa6594d8f4cbf19f97940f81e996739fb7646882a419484c72d19e05852a7e"
   }
  }
 },
 "nbformat": 4,
 "nbformat_minor": 5
}
