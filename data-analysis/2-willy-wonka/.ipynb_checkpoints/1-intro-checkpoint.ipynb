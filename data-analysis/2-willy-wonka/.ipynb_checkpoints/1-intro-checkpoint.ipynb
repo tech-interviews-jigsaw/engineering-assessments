{
 "cells": [
  {
   "cell_type": "markdown",
   "id": "a3373e4b-4782-427a-8a27-71d2a9b7614a",
   "metadata": {},
   "source": [
    "# Exploring Willy Wonka"
   ]
  },
  {
   "cell_type": "markdown",
   "id": "92f99d7f-eba3-439b-a18f-9a47bba553f8",
   "metadata": {},
   "source": [
    "### Introduction"
   ]
  },
  {
   "cell_type": "code",
   "execution_count": null,
   "id": "84228b05-ec43-4b6e-b9ef-126391c84ff7",
   "metadata": {},
   "outputs": [],
   "source": []
  },
  {
   "cell_type": "markdown",
   "id": "a1b22162-5cbc-4a17-854d-f6d6506f4512",
   "metadata": {},
   "source": [
    "### Reading prompt"
   ]
  },
  {
   "cell_type": "markdown",
   "id": "9d6d3d5e-ca45-496f-a2d6-04b4bc8cb06e",
   "metadata": {},
   "source": [
    "* consumer trends and make recs to executives"
   ]
  },
  {
   "cell_type": "code",
   "execution_count": 32,
   "id": "603a7551-61b2-4d8c-b84c-b7a3ba86b892",
   "metadata": {},
   "outputs": [],
   "source": [
    "import pandas as pd"
   ]
  },
  {
   "cell_type": "code",
   "execution_count": 33,
   "id": "f6faa2a6-b9da-4982-aa80-737bfa555d07",
   "metadata": {},
   "outputs": [],
   "source": [
    "df = pd.read_csv('solutions_simulation_willy_wonka.csv')"
   ]
  },
  {
   "cell_type": "code",
   "execution_count": 34,
   "id": "1a2aba25-029f-4b45-8707-ef99122d9199",
   "metadata": {},
   "outputs": [
    {
     "data": {
      "text/plain": [
       "Index(['ORDER_ID', 'LIST_LINEITEM_ID', 'USER_ID', 'ORDER_DATE', 'ORDER_VALUE',\n",
       "       'ORDER_ITEM_COUNT', 'ORDER_SINGLE_ITEM', 'ORDER_CHANNEL',\n",
       "       'ORDER_COUPON_CODE', 'ORDER_REFERRER', 'ORDER_AD_SHOWN',\n",
       "       'ORDER_STORE_CITY', 'ORDER_STORE_ID', 'ORDER_DAY_PART',\n",
       "       'ORDER_IS_FREESHIPPING', 'LIST_SKU', 'LIST_SKU_CATEGORY',\n",
       "       'LIST_SKU_FLAVOR', 'USER_LOYALTY_PROGRAM', 'USER_AGE', 'USER_GENDER'],\n",
       "      dtype='object')"
      ]
     },
     "execution_count": 34,
     "metadata": {},
     "output_type": "execute_result"
    }
   ],
   "source": [
    "df.columns"
   ]
  },
  {
   "cell_type": "code",
   "execution_count": null,
   "id": "1d010f97-af7a-4add-9995-517462265479",
   "metadata": {},
   "outputs": [],
   "source": [
    "\n",
    "\n",
    "# marketing_channel\n",
    "    # ORDER_ID, ORDER_CHANNEL, ORDER_IS_FREESHIPPING, ORDER_CHANNEL', 'ORDER_COUPON_CODE', 'ORDER_REFERRER', 'ORDER_AD_SHOWN',\n",
    "\n",
    "# orders, \n",
    "    # ORDER_ID, LIST_LINEITEM_ID, ORDER_DATE, ORDER_VALUE, ORDER_ITEM_COUNT, ORDER_SINGLE_ITEM,  ORDER_DAY_PART, USER_ID\n",
    "    \n",
    "# stores\n",
    "    # ORDER_ID, ORDER_STORE_CITY, ORDER_STORE_ID, \n",
    "    \n",
    "# users\n",
    "    # USER_ID, USER_AGE, USER_GENDER, \n",
    "    # repeat users, USER_LOYALTY_PROGRAM \n",
    "    \n",
    "# products\n",
    "    # ORDER_ID, sku_flavor, sku_category\n",
    "    "
   ]
  },
  {
   "cell_type": "code",
   "execution_count": 35,
   "id": "418de4e5-dbaf-42c4-99b9-1645c1f7dabd",
   "metadata": {},
   "outputs": [],
   "source": [
    "cols = df.columns"
   ]
  },
  {
   "cell_type": "code",
   "execution_count": 36,
   "id": "7fdcbbde-0948-4782-87bb-7b6cd2066cbb",
   "metadata": {},
   "outputs": [],
   "source": [
    "lower_cols = [col.lower() for col in cols]"
   ]
  },
  {
   "cell_type": "code",
   "execution_count": 37,
   "id": "39f72807-ce6d-48fc-b750-7421b281ed89",
   "metadata": {},
   "outputs": [],
   "source": [
    "df.columns = lower_cols"
   ]
  },
  {
   "cell_type": "code",
   "execution_count": 38,
   "id": "379abdd3-53d5-4843-ad73-a31f43949259",
   "metadata": {},
   "outputs": [],
   "source": [
    "from sqlalchemy import create_engine\n",
    "engine = create_engine('postgresql://@localhost:5432/willy_wonka')"
   ]
  },
  {
   "cell_type": "code",
   "execution_count": 39,
   "id": "5590288d-9572-4596-b733-da1433184d18",
   "metadata": {},
   "outputs": [
    {
     "data": {
      "text/plain": [
       "0         2021-05-04\n",
       "1         2021-03-12\n",
       "2         2021-03-27\n",
       "3         2021-03-20\n",
       "4         2021-03-10\n",
       "             ...    \n",
       "120620    2021-03-09\n",
       "120621    2021-04-14\n",
       "120622    2021-04-20\n",
       "120623    2021-04-10\n",
       "120624    2021-03-15\n",
       "Name: order_date, Length: 120625, dtype: object"
      ]
     },
     "execution_count": 39,
     "metadata": {},
     "output_type": "execute_result"
    }
   ],
   "source": []
  },
  {
   "cell_type": "code",
   "execution_count": 40,
   "id": "7737a750-3ee9-43d9-bc06-949ba436dd8c",
   "metadata": {},
   "outputs": [],
   "source": [
    "df = df.assign(order_date = pd.to_datetime(df['order_date']))"
   ]
  },
  {
   "cell_type": "code",
   "execution_count": 41,
   "id": "65475ad5-4cf8-44fa-bcd1-191d7593c51d",
   "metadata": {},
   "outputs": [
    {
     "data": {
      "text/plain": [
       "625"
      ]
     },
     "execution_count": 41,
     "metadata": {},
     "output_type": "execute_result"
    }
   ],
   "source": [
    "import pandas as pd\n",
    "\n",
    "df.to_sql('raw_orders', engine, if_exists = 'replace')"
   ]
  },
  {
   "cell_type": "code",
   "execution_count": 42,
   "id": "295aca67-0397-4e3d-9372-9d22ff5b5411",
   "metadata": {},
   "outputs": [
    {
     "data": {
      "text/html": [
       "<div>\n",
       "<style scoped>\n",
       "    .dataframe tbody tr th:only-of-type {\n",
       "        vertical-align: middle;\n",
       "    }\n",
       "\n",
       "    .dataframe tbody tr th {\n",
       "        vertical-align: top;\n",
       "    }\n",
       "\n",
       "    .dataframe thead th {\n",
       "        text-align: right;\n",
       "    }\n",
       "</style>\n",
       "<table border=\"1\" class=\"dataframe\">\n",
       "  <thead>\n",
       "    <tr style=\"text-align: right;\">\n",
       "      <th></th>\n",
       "      <th>index</th>\n",
       "      <th>order_id</th>\n",
       "      <th>list_lineitem_id</th>\n",
       "      <th>user_id</th>\n",
       "      <th>order_date</th>\n",
       "      <th>order_value</th>\n",
       "      <th>order_item_count</th>\n",
       "      <th>order_single_item</th>\n",
       "      <th>order_channel</th>\n",
       "      <th>order_coupon_code</th>\n",
       "      <th>...</th>\n",
       "      <th>order_store_city</th>\n",
       "      <th>order_store_id</th>\n",
       "      <th>order_day_part</th>\n",
       "      <th>order_is_freeshipping</th>\n",
       "      <th>list_sku</th>\n",
       "      <th>list_sku_category</th>\n",
       "      <th>list_sku_flavor</th>\n",
       "      <th>user_loyalty_program</th>\n",
       "      <th>user_age</th>\n",
       "      <th>user_gender</th>\n",
       "    </tr>\n",
       "  </thead>\n",
       "  <tbody>\n",
       "    <tr>\n",
       "      <th>0</th>\n",
       "      <td>0</td>\n",
       "      <td>TXN-52889719</td>\n",
       "      <td>ITEM-2008965888,ITEM-2009089674</td>\n",
       "      <td>USER-16961214</td>\n",
       "      <td>2021-05-04</td>\n",
       "      <td>49.325488</td>\n",
       "      <td>2</td>\n",
       "      <td>False</td>\n",
       "      <td>digital_direct</td>\n",
       "      <td>express5</td>\n",
       "      <td>...</td>\n",
       "      <td>Dallas</td>\n",
       "      <td>Dallas-3</td>\n",
       "      <td>evening</td>\n",
       "      <td>1</td>\n",
       "      <td>SKU-3014,SKU-3002</td>\n",
       "      <td>Energy Shot,Energy Bar</td>\n",
       "      <td>Chocolate Brownie,Peanut Butter</td>\n",
       "      <td>bronze</td>\n",
       "      <td>49</td>\n",
       "      <td>F</td>\n",
       "    </tr>\n",
       "    <tr>\n",
       "      <th>1</th>\n",
       "      <td>1</td>\n",
       "      <td>TXN-52889726</td>\n",
       "      <td>ITEM-2009045400,ITEM-2009302964</td>\n",
       "      <td>USER-17030520</td>\n",
       "      <td>2021-03-12</td>\n",
       "      <td>22.993890</td>\n",
       "      <td>2</td>\n",
       "      <td>False</td>\n",
       "      <td>in_store</td>\n",
       "      <td>express5</td>\n",
       "      <td>...</td>\n",
       "      <td>Phoenix</td>\n",
       "      <td>Phoenix-3</td>\n",
       "      <td>evening</td>\n",
       "      <td>1</td>\n",
       "      <td>SKU-5012,SKU-5009</td>\n",
       "      <td>Protein Bar,Protein Powder</td>\n",
       "      <td>Cookies and Cream,Coconut</td>\n",
       "      <td>silver</td>\n",
       "      <td>31</td>\n",
       "      <td>F</td>\n",
       "    </tr>\n",
       "  </tbody>\n",
       "</table>\n",
       "<p>2 rows × 22 columns</p>\n",
       "</div>"
      ],
      "text/plain": [
       "   index      order_id                 list_lineitem_id        user_id  \\\n",
       "0      0  TXN-52889719  ITEM-2008965888,ITEM-2009089674  USER-16961214   \n",
       "1      1  TXN-52889726  ITEM-2009045400,ITEM-2009302964  USER-17030520   \n",
       "\n",
       "  order_date  order_value  order_item_count  order_single_item  \\\n",
       "0 2021-05-04    49.325488                 2              False   \n",
       "1 2021-03-12    22.993890                 2              False   \n",
       "\n",
       "    order_channel order_coupon_code  ... order_store_city order_store_id  \\\n",
       "0  digital_direct          express5  ...           Dallas       Dallas-3   \n",
       "1        in_store          express5  ...          Phoenix      Phoenix-3   \n",
       "\n",
       "  order_day_part order_is_freeshipping           list_sku  \\\n",
       "0        evening                     1  SKU-3014,SKU-3002   \n",
       "1        evening                     1  SKU-5012,SKU-5009   \n",
       "\n",
       "            list_sku_category                  list_sku_flavor  \\\n",
       "0      Energy Shot,Energy Bar  Chocolate Brownie,Peanut Butter   \n",
       "1  Protein Bar,Protein Powder        Cookies and Cream,Coconut   \n",
       "\n",
       "  user_loyalty_program user_age user_gender  \n",
       "0               bronze       49           F  \n",
       "1               silver       31           F  \n",
       "\n",
       "[2 rows x 22 columns]"
      ]
     },
     "execution_count": 42,
     "metadata": {},
     "output_type": "execute_result"
    }
   ],
   "source": [
    "pd.read_sql('select * from raw_orders limit 2;', engine)"
   ]
  },
  {
   "cell_type": "code",
   "execution_count": 44,
   "id": "93bc0a89-07aa-466e-ad6e-f0ab338da069",
   "metadata": {},
   "outputs": [
    {
     "data": {
      "text/html": [
       "<div>\n",
       "<style scoped>\n",
       "    .dataframe tbody tr th:only-of-type {\n",
       "        vertical-align: middle;\n",
       "    }\n",
       "\n",
       "    .dataframe tbody tr th {\n",
       "        vertical-align: top;\n",
       "    }\n",
       "\n",
       "    .dataframe thead th {\n",
       "        text-align: right;\n",
       "    }\n",
       "</style>\n",
       "<table border=\"1\" class=\"dataframe\">\n",
       "  <thead>\n",
       "    <tr style=\"text-align: right;\">\n",
       "      <th></th>\n",
       "      <th>sum</th>\n",
       "      <th>week</th>\n",
       "    </tr>\n",
       "  </thead>\n",
       "  <tbody>\n",
       "    <tr>\n",
       "      <th>0</th>\n",
       "      <td>443759.197508</td>\n",
       "      <td>10.0</td>\n",
       "    </tr>\n",
       "    <tr>\n",
       "      <th>1</th>\n",
       "      <td>440056.103494</td>\n",
       "      <td>11.0</td>\n",
       "    </tr>\n",
       "    <tr>\n",
       "      <th>2</th>\n",
       "      <td>433033.936493</td>\n",
       "      <td>12.0</td>\n",
       "    </tr>\n",
       "    <tr>\n",
       "      <th>3</th>\n",
       "      <td>418738.723173</td>\n",
       "      <td>13.0</td>\n",
       "    </tr>\n",
       "    <tr>\n",
       "      <th>4</th>\n",
       "      <td>423256.819035</td>\n",
       "      <td>14.0</td>\n",
       "    </tr>\n",
       "    <tr>\n",
       "      <th>5</th>\n",
       "      <td>418709.331567</td>\n",
       "      <td>15.0</td>\n",
       "    </tr>\n",
       "    <tr>\n",
       "      <th>6</th>\n",
       "      <td>411475.185255</td>\n",
       "      <td>16.0</td>\n",
       "    </tr>\n",
       "    <tr>\n",
       "      <th>7</th>\n",
       "      <td>408487.872399</td>\n",
       "      <td>17.0</td>\n",
       "    </tr>\n",
       "    <tr>\n",
       "      <th>8</th>\n",
       "      <td>179665.573533</td>\n",
       "      <td>18.0</td>\n",
       "    </tr>\n",
       "  </tbody>\n",
       "</table>\n",
       "</div>"
      ],
      "text/plain": [
       "             sum  week\n",
       "0  443759.197508  10.0\n",
       "1  440056.103494  11.0\n",
       "2  433033.936493  12.0\n",
       "3  418738.723173  13.0\n",
       "4  423256.819035  14.0\n",
       "5  418709.331567  15.0\n",
       "6  411475.185255  16.0\n",
       "7  408487.872399  17.0\n",
       "8  179665.573533  18.0"
      ]
     },
     "execution_count": 44,
     "metadata": {},
     "output_type": "execute_result"
    }
   ],
   "source": [
    "query = 'select sum(order_value), extract(week from order_date) as week from raw_orders group by week'\n",
    "pd.read_sql(query, engine)"
   ]
  },
  {
   "cell_type": "code",
   "execution_count": 84,
   "id": "fbbfc564-6a62-46f7-94ca-4691a4750d00",
   "metadata": {},
   "outputs": [
    {
     "data": {
      "text/plain": [
       "Index(['order_id', 'list_lineitem_id', 'user_id', 'order_date', 'order_value',\n",
       "       'order_item_count', 'order_single_item', 'order_channel',\n",
       "       'order_coupon_code', 'order_referrer', 'order_ad_shown',\n",
       "       'order_store_city', 'order_store_id', 'order_day_part',\n",
       "       'order_is_freeshipping', 'list_sku', 'list_sku_category',\n",
       "       'list_sku_flavor', 'user_loyalty_program', 'user_age', 'user_gender'],\n",
       "      dtype='object')"
      ]
     },
     "execution_count": 84,
     "metadata": {},
     "output_type": "execute_result"
    }
   ],
   "source": [
    "df.columns"
   ]
  },
  {
   "cell_type": "code",
   "execution_count": 123,
   "id": "858e1f76-1e8f-40bd-9ff1-e2980afe2147",
   "metadata": {},
   "outputs": [
    {
     "data": {
      "text/plain": [
       "<AxesSubplot: xlabel='order_store_id'>"
      ]
     },
     "execution_count": 123,
     "metadata": {},
     "output_type": "execute_result"
    },
    {
     "data": {
      "image/png": "[encoded data removed]",
      "text/plain": [
       "<Figure size 432x288 with 1 Axes>"
      ]
     },
     "metadata": {
      "needs_background": "light"
     },
     "output_type": "display_data"
    }
   ],
   "source": [
    "store_values = df.groupby(['order_store_id']).sum()\n",
    "vals = store_values.sort_values('order_value', ascending = False)['order_value'][:20]\n",
    "vals.plot()"
   ]
  },
  {
   "cell_type": "code",
   "execution_count": 124,
   "id": "42b0465f-a9c1-4f0f-b687-41853112e0dd",
   "metadata": {},
   "outputs": [
    {
     "data": {
      "text/plain": [
       "Index(['order_id', 'list_lineitem_id', 'user_id', 'order_date', 'order_value',\n",
       "       'order_item_count', 'order_single_item', 'order_channel',\n",
       "       'order_coupon_code', 'order_referrer', 'order_ad_shown',\n",
       "       'order_store_city', 'order_store_id', 'order_day_part',\n",
       "       'order_is_freeshipping', 'list_sku', 'list_sku_category',\n",
       "       'list_sku_flavor', 'user_loyalty_program', 'user_age', 'user_gender'],\n",
       "      dtype='object')"
      ]
     },
     "execution_count": 124,
     "metadata": {},
     "output_type": "execute_result"
    }
   ],
   "source": [
    "df.columns"
   ]
  },
  {
   "cell_type": "code",
   "execution_count": null,
   "id": "68b534f7-72c4-4559-9703-65e19e0ea6a4",
   "metadata": {},
   "outputs": [],
   "source": [
    "store_values = df.groupby(['order_store_id']).sum().sort_values('order_value', ascending = False)['order_value'][:20]\n"
   ]
  },
  {
   "cell_type": "code",
   "execution_count": 125,
   "id": "0cb86e21-3882-4638-87c0-e04a653c2adf",
   "metadata": {},
   "outputs": [],
   "source": [
    "cols = ['order_store_id', 'user_id', 'order_referrer', \n",
    "        'order_channel', 'order_coupon_code', 'order_ad_shown', 'order_store_city', 'order_day_part', 'order_ad_shown']"
   ]
  },
  {
   "cell_type": "code",
   "execution_count": 154,
   "id": "51b9e827-421f-42fd-9336-adbcaec83644",
   "metadata": {},
   "outputs": [],
   "source": [
    "grouped_bys = []\n",
    "for col in cols:\n",
    "    grouped = df.groupby([col]).sum().sort_values('order_value', ascending = False)['order_value']\n",
    "    grouped_bys.append(grouped)"
   ]
  },
  {
   "cell_type": "code",
   "execution_count": 167,
   "id": "f26a9ff3-0a3e-4bbf-addd-0667d94b5959",
   "metadata": {},
   "outputs": [
    {
     "data": {
      "text/plain": [
       "2146309.645474544"
      ]
     },
     "execution_count": 167,
     "metadata": {},
     "output_type": "execute_result"
    }
   ],
   "source": [
    "# 3577182.7424575733 * .8 =  2861746.193966059 -> 49487 users\n",
    "\n",
    "3577182.7424575733 * .6"
   ]
  },
  {
   "cell_type": "code",
   "execution_count": 182,
   "id": "ff9b9ce2-21f6-4e35-94f2-4dd466d31bd5",
   "metadata": {},
   "outputs": [],
   "source": [
    "percentile = grouped_bys[1].cumsum()/grouped_bys[1].sum()"
   ]
  },
  {
   "cell_type": "markdown",
   "id": "c3e31e27-6f86-4e6b-9db2-71819db133c2",
   "metadata": {},
   "source": [
    "* Core users"
   ]
  },
  {
   "cell_type": "code",
   "execution_count": 209,
   "id": "c4aea115-ae49-4fb4-8342-1b7560d8bc9a",
   "metadata": {},
   "outputs": [
    {
     "data": {
      "text/plain": [
       "(56588,)"
      ]
     },
     "execution_count": 209,
     "metadata": {},
     "output_type": "execute_result"
    }
   ],
   "source": [
    "core_users = percentile[percentile < .90][percentile > .3]\n",
    "\n",
    "core_users.shape"
   ]
  },
  {
   "cell_type": "markdown",
   "id": "a42a4e76-9981-47c8-a1b4-d5da6bbdb30a",
   "metadata": {},
   "source": [
    "* Power users"
   ]
  },
  {
   "cell_type": "code",
   "execution_count": 201,
   "id": "5358e7aa-9119-4dd7-bb61-359b396a621d",
   "metadata": {},
   "outputs": [
    {
     "data": {
      "text/plain": [
       "(9601,)"
      ]
     },
     "execution_count": 201,
     "metadata": {},
     "output_type": "execute_result"
    }
   ],
   "source": [
    "percentile[percentile < .30].shape"
   ]
  },
  {
   "cell_type": "code",
   "execution_count": 197,
   "id": "18752b87-45df-4b8a-9dfe-f392f48bcf06",
   "metadata": {},
   "outputs": [
    {
     "data": {
      "text/plain": [
       "(102850,)"
      ]
     },
     "execution_count": 197,
     "metadata": {},
     "output_type": "execute_result"
    }
   ],
   "source": [
    "percentile.shape"
   ]
  },
  {
   "cell_type": "code",
   "execution_count": null,
   "id": "ee51b64e-86b4-445d-b697-444007df0ca3",
   "metadata": {},
   "outputs": [],
   "source": [
    "percentile"
   ]
  },
  {
   "cell_type": "code",
   "execution_count": 195,
   "id": "12fa2e7b-a62f-4d00-93e4-460e7d8014b5",
   "metadata": {},
   "outputs": [],
   "source": [
    "# percentile[percentile < .50].shape"
   ]
  },
  {
   "cell_type": "code",
   "execution_count": 164,
   "id": "113558e6-0d4e-42a2-8d0a-07712dadd7e9",
   "metadata": {},
   "outputs": [
    {
     "data": {
      "text/plain": [
       "user_id\n",
       "USER-17260602    514.347809\n",
       "USER-17215538    486.461975\n",
       "USER-17070511    430.708133\n",
       "USER-17161237    396.048427\n",
       "USER-17245375    385.248009\n",
       "                    ...    \n",
       "USER-17249900     26.080797\n",
       "USER-16932349     26.080570\n",
       "USER-17030665     26.079806\n",
       "USER-17092237     26.078479\n",
       "USER-17249624     26.075498\n",
       "Name: order_value, Length: 49487, dtype: float64"
      ]
     },
     "execution_count": 164,
     "metadata": {},
     "output_type": "execute_result"
    }
   ],
   "source": [
    "grouped_bys[1][grouped_bys[1].cumsum() < 2861746]"
   ]
  },
  {
   "cell_type": "code",
   "execution_count": 165,
   "id": "4102965d-c697-4445-b040-3ee8205281d5",
   "metadata": {},
   "outputs": [
    {
     "data": {
      "text/plain": [
       "102850"
      ]
     },
     "execution_count": 165,
     "metadata": {},
     "output_type": "execute_result"
    }
   ],
   "source": [
    "grouped_bys[1].count()"
   ]
  },
  {
   "cell_type": "code",
   "execution_count": 142,
   "id": "46322a46-49b3-43b4-abde-3eb035f14746",
   "metadata": {},
   "outputs": [
    {
     "data": {
      "image/png": "[encoded data removed]",
      "text/plain": [
       "<Figure size 432x288 with 1 Axes>"
      ]
     },
     "metadata": {
      "needs_background": "light"
     },
     "output_type": "display_data"
    },
    {
     "data": {
      "image/png": "[encoded data removed]",
      "text/plain": [
       "<Figure size 432x288 with 1 Axes>"
      ]
     },
     "metadata": {
      "needs_background": "light"
     },
     "output_type": "display_data"
    },
    {
     "data": {
      "image/png": "[encoded data removed]",
      "text/plain": [
       "<Figure size 432x288 with 1 Axes>"
      ]
     },
     "metadata": {
      "needs_background": "light"
     },
     "output_type": "display_data"
    },
    {
     "data": {
      "image/png": "[encoded data removed]",
      "text/plain": [
       "<Figure size 432x288 with 1 Axes>"
      ]
     },
     "metadata": {
      "needs_background": "light"
     },
     "output_type": "display_data"
    },
    {
     "data": {
      "image/png": "[encoded data removed]",
      "text/plain": [
       "<Figure size 432x288 with 1 Axes>"
      ]
     },
     "metadata": {
      "needs_background": "light"
     },
     "output_type": "display_data"
    },
    {
     "data": {
      "image/png": "[encoded data removed]",
      "text/plain": [
       "<Figure size 432x288 with 1 Axes>"
      ]
     },
     "metadata": {
      "needs_background": "light"
     },
     "output_type": "display_data"
    },
    {
     "data": {
      "image/png": "[encoded data removed]",
      "text/plain": [
       "<Figure size 432x288 with 1 Axes>"
      ]
     },
     "metadata": {
      "needs_background": "light"
     },
     "output_type": "display_data"
    },
    {
     "data": {
      "image/png": "[encoded data removed]",
      "text/plain": [
       "<Figure size 432x288 with 1 Axes>"
      ]
     },
     "metadata": {
      "needs_background": "light"
     },
     "output_type": "display_data"
    },
    {
     "data": {
      "image/png": "[encoded data removed]",
      "text/plain": [
       "<Figure size 432x288 with 1 Axes>"
      ]
     },
     "metadata": {
      "needs_background": "light"
     },
     "output_type": "display_data"
    }
   ],
   "source": [
    "for group in grouped_bys:\n",
    "    plt.plot(group[:5])\n",
    "    plt.show()"
   ]
  },
  {
   "cell_type": "code",
   "execution_count": 57,
   "id": "13cc6a2f-e7a9-4e76-938c-9aa831ec1071",
   "metadata": {},
   "outputs": [],
   "source": [
    "store_values = df.groupby([])"
   ]
  },
  {
   "cell_type": "code",
   "execution_count": 73,
   "id": "0457f7c9-6bed-4750-b47c-d9df576c2a4d",
   "metadata": {},
   "outputs": [],
   "source": [
    "import numpy as np\n",
    "table = pd.pivot_table(df, values='order_value',\n",
    "                    columns=['user_age'], index = ['user_gender'], aggfunc=np.sum, fill_value=0)"
   ]
  },
  {
   "cell_type": "code",
   "execution_count": 80,
   "id": "d57e959b-b668-4332-8e4f-0ccd32b51074",
   "metadata": {},
   "outputs": [],
   "source": [
    "f_values = table.loc['F']"
   ]
  },
  {
   "cell_type": "code",
   "execution_count": 81,
   "id": "770b68c0-7fae-47de-8c72-144050cd3afc",
   "metadata": {},
   "outputs": [],
   "source": [
    "m_values = table.loc['M']"
   ]
  },
  {
   "cell_type": "code",
   "execution_count": 82,
   "id": "92576879-085a-497a-9e33-09e05ea9154f",
   "metadata": {},
   "outputs": [
    {
     "data": {
      "image/png": "[encoded data removed]",
      "text/plain": [
       "<Figure size 432x288 with 1 Axes>"
      ]
     },
     "metadata": {
      "needs_background": "light"
     },
     "output_type": "display_data"
    }
   ],
   "source": [
    "import matplotlib.pyplot as plt\n",
    "plt.plot(table.columns, m_values)\n",
    "plt.plot(table.columns, f_values)\n",
    "plt.show()"
   ]
  },
  {
   "cell_type": "code",
   "execution_count": 67,
   "id": "8253366c-e812-4466-a179-9017b2e17995",
   "metadata": {},
   "outputs": [
    {
     "data": {
      "image/png": "[encoded data removed]",
      "text/plain": [
       "<Figure size 432x288 with 1 Axes>"
      ]
     },
     "metadata": {
      "needs_background": "light"
     },
     "output_type": "display_data"
    }
   ],
   "source": [
    "import matplotlib.pyplot as plt\n",
    "plt.plot(table.columns, table.values[0])\n",
    "\n",
    "plt.show()"
   ]
  },
  {
   "cell_type": "code",
   "execution_count": 66,
   "id": "57b8657e-5aa1-4579-8346-6514bc20d00b",
   "metadata": {},
   "outputs": [
    {
     "data": {
      "text/plain": [
       "Int64Index([19, 20, 21, 22, 23, 24, 25, 26, 27, 28, 29, 30, 31, 32, 33, 34, 35,\n",
       "            36, 37, 38, 39, 40, 41, 42, 43, 44, 45, 46, 47, 48, 49, 50],\n",
       "           dtype='int64', name='user_age')"
      ]
     },
     "execution_count": 66,
     "metadata": {},
     "output_type": "execute_result"
    }
   ],
   "source": []
  },
  {
   "cell_type": "code",
   "execution_count": 65,
   "id": "67cfad76-8e44-4cd4-9d8e-e7463ad127e7",
   "metadata": {},
   "outputs": [
    {
     "data": {
      "text/plain": [
       "array([  2292.03796206,  12748.09711783,  42500.61773843,  89036.50211739,\n",
       "       142241.83885834, 207372.97131977, 252249.08469954, 285508.88697311,\n",
       "       320247.45681284, 309237.47410669, 308053.06008394, 274964.0104533 ,\n",
       "       246587.67566062, 218196.93873093, 182146.8919641 , 146000.08824708,\n",
       "       119312.18274389,  99366.81611449,  74662.43992897,  65996.06154498,\n",
       "        46104.72992885,  35573.30963665,  25923.65491055,  20859.27622541,\n",
       "        13323.38385049,  10778.62976921,   9321.28018176,   5553.98062101,\n",
       "         4669.12922357,   2665.32124796,   1576.15466769,   2112.75901611])"
      ]
     },
     "execution_count": 65,
     "metadata": {},
     "output_type": "execute_result"
    }
   ],
   "source": []
  },
  {
   "cell_type": "code",
   "execution_count": 7,
   "id": "af7e0ca6-d6df-4c92-a33d-435172b228c7",
   "metadata": {},
   "outputs": [
    {
     "data": {
      "text/plain": [
       "Index(['ORDER_ID', 'LIST_LINEITEM_ID', 'USER_ID', 'ORDER_DATE', 'ORDER_VALUE',\n",
       "       'ORDER_ITEM_COUNT', 'ORDER_SINGLE_ITEM', 'ORDER_CHANNEL',\n",
       "       'ORDER_COUPON_CODE', 'ORDER_REFERRER', 'ORDER_AD_SHOWN',\n",
       "       'ORDER_STORE_CITY', 'ORDER_STORE_ID', 'ORDER_DAY_PART',\n",
       "       'ORDER_IS_FREESHIPPING', 'LIST_SKU', 'LIST_SKU_CATEGORY',\n",
       "       'LIST_SKU_FLAVOR', 'USER_LOYALTY_PROGRAM', 'USER_AGE', 'USER_GENDER'],\n",
       "      dtype='object')"
      ]
     },
     "execution_count": 7,
     "metadata": {},
     "output_type": "execute_result"
    }
   ],
   "source": [
    "df.columns"
   ]
  },
  {
   "cell_type": "code",
   "execution_count": null,
   "id": "ba5764b8-0ffe-42f4-83e4-5f8d350909e2",
   "metadata": {},
   "outputs": [],
   "source": [
    "# order has many line_items\n",
    "\n",
    "# line_item"
   ]
  }
 ],
 "metadata": {
  "kernelspec": {
   "display_name": "Python 3 (ipykernel)",
   "language": "python",
   "name": "python3"
  },
  "language_info": {
   "codemirror_mode": {
    "name": "ipython",
    "version": 3
   },
   "file_extension": ".py",
   "mimetype": "text/x-python",
   "name": "python",
   "nbconvert_exporter": "python",
   "pygments_lexer": "ipython3",
   "version": "3.10.6"
  }
 },
 "nbformat": 4,
 "nbformat_minor": 5
}
