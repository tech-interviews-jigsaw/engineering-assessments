{
 "cells": [
  {
   "cell_type": "markdown",
   "metadata": {},
   "source": [
    "# Format Data SQL"
   ]
  },
  {
   "cell_type": "markdown",
   "metadata": {},
   "source": [
    "### Loading initial data"
   ]
  },
  {
   "cell_type": "code",
   "execution_count": 5,
   "metadata": {},
   "outputs": [],
   "source": [
    "import pandas as pd\n",
    "from sqlalchemy import create_engine\n",
    "\n",
    "df = pd.read_csv('solutions_simulation_willy_wonka.csv')\n",
    "engine = create_engine('postgresql://@localhost:5432/willy_wonka')\n",
    "\n",
    "def format_data(df):\n",
    "    df.columns = [col.lower() for col in df.columns]\n",
    "    df = df.assign(order_date = pd.to_datetime(df['order_date']))\n",
    "    return df\n",
    "\n",
    "def insert_data(df, engine):\n",
    "    df.to_sql('raw_orders', engine, if_exists = 'replace')\n",
    "    return df\n"
   ]
  },
  {
   "cell_type": "code",
   "execution_count": 46,
   "metadata": {},
   "outputs": [],
   "source": [
    "formatted_df = format_data(df)\n",
    "inserted_df = insert_data(formatted_df, engine)\n"
   ]
  },
  {
   "cell_type": "markdown",
   "metadata": {},
   "source": [
    "### Formatting Data"
   ]
  },
  {
   "cell_type": "code",
   "execution_count": 72,
   "metadata": {},
   "outputs": [],
   "source": [
    "df = pd.read_sql(\"\"\"select * from raw_orders\"\"\", engine)\n",
    "# df.columns"
   ]
  },
  {
   "cell_type": "code",
   "execution_count": 78,
   "metadata": {},
   "outputs": [
    {
     "data": {
      "text/plain": [
       "27"
      ]
     },
     "execution_count": 78,
     "metadata": {},
     "output_type": "execute_result"
    }
   ],
   "source": [
    "# df.columns\n",
    "\n",
    "query = \"\"\"select order_id, user_id, list_sku,\n",
    "       list_sku_category, list_sku_flavor, list_lineitem_id,\n",
    "       order_date, order_value, order_item_count, order_single_item,\n",
    "       order_channel, order_coupon_code, order_referrer,\n",
    "       order_ad_shown, order_store_city, order_store_id,\n",
    "       order_day_part, order_is_freeshipping, user_loyalty_program,\n",
    "       user_age, user_gender,\n",
    "       EXTRACT(month FROM order_date) as month, EXTRACT(week FROM order_date) as week, \n",
    "EXTRACT(DOW FROM order_date) as dow from raw_orders\"\"\"\n",
    "\n",
    "df_with_date = pd.read_sql(query, engine)\n",
    "df_with_date.to_sql('orders', engine, if_exists = 'replace')"
   ]
  },
  {
   "cell_type": "code",
   "execution_count": 80,
   "metadata": {},
   "outputs": [
    {
     "data": {
      "text/plain": [
       "Index(['order_id', 'user_id', 'list_sku', 'list_sku_category',\n",
       "       'list_sku_flavor', 'list_lineitem_id', 'order_date', 'order_value',\n",
       "       'order_item_count', 'order_single_item', 'order_channel',\n",
       "       'order_coupon_code', 'order_referrer', 'order_ad_shown',\n",
       "       'order_store_city', 'order_store_id', 'order_day_part',\n",
       "       'order_is_freeshipping', 'user_loyalty_program', 'user_age',\n",
       "       'user_gender', 'month', 'week', 'dow'],\n",
       "      dtype='object')"
      ]
     },
     "execution_count": 80,
     "metadata": {},
     "output_type": "execute_result"
    }
   ],
   "source": [
    "df_with_date.columns"
   ]
  },
  {
   "cell_type": "code",
   "execution_count": 81,
   "metadata": {},
   "outputs": [
    {
     "data": {
      "text/plain": [
       "27"
      ]
     },
     "execution_count": 81,
     "metadata": {},
     "output_type": "execute_result"
    }
   ],
   "source": [
    "\n",
    "\n",
    "query = \"\"\"with first_sku as (\n",
    "    select order_id, user_id, split_part(list_sku, ',', 1) as list_sku,\n",
    "\tsplit_part(list_sku_category, ',', 1) as list_sku_category,\n",
    "     split_part(list_sku_flavor, ',', 1) as list_sku_flavor, \n",
    "     split_part(list_lineitem_id, ',', 1) as list_lineitem_id,\n",
    "     order_date, month, week, dow,\n",
    "       order_value, order_item_count, order_single_item, order_channel,\n",
    "       order_coupon_code, order_referrer, order_ad_shown,\n",
    "       order_store_city, order_store_id, order_day_part,\n",
    "       order_is_freeshipping, \n",
    "       user_loyalty_program, user_age, user_gender\n",
    "     from orders\n",
    "     ), second_sku as (\n",
    "    select order_id, user_id, split_part(list_sku, ',', 2) as list_sku,\n",
    "\tsplit_part(list_sku_category, ',', 2) as list_sku_category,\n",
    "     split_part(list_sku_flavor, ',', 2) as list_sku_flavor, \n",
    "     split_part(list_lineitem_id, ',', 2) as list_lineitem_id,\n",
    "     order_date, month, week, dow,\n",
    "       order_value, order_item_count, order_single_item, order_channel,\n",
    "       order_coupon_code, order_referrer, order_ad_shown,\n",
    "       order_store_city, order_store_id, order_day_part,\n",
    "       order_is_freeshipping, \n",
    "       user_loyalty_program, user_age, user_gender\n",
    "     from orders \n",
    "     )\n",
    "     select * from first_sku union select * from second_sku where list_sku != '' order by order_id asc \n",
    "     \"\"\"\n",
    "\n",
    "df = pd.read_sql(query, engine)\n",
    "df.to_sql('raw_lineitems', engine, if_exists = 'replace')"
   ]
  },
  {
   "cell_type": "code",
   "execution_count": 71,
   "metadata": {},
   "outputs": [
    {
     "data": {
      "text/html": [
       "<div>\n",
       "<style scoped>\n",
       "    .dataframe tbody tr th:only-of-type {\n",
       "        vertical-align: middle;\n",
       "    }\n",
       "\n",
       "    .dataframe tbody tr th {\n",
       "        vertical-align: top;\n",
       "    }\n",
       "\n",
       "    .dataframe thead th {\n",
       "        text-align: right;\n",
       "    }\n",
       "</style>\n",
       "<table border=\"1\" class=\"dataframe\">\n",
       "  <thead>\n",
       "    <tr style=\"text-align: right;\">\n",
       "      <th></th>\n",
       "      <th>index</th>\n",
       "      <th>list_lineitem_id</th>\n",
       "      <th>order_id</th>\n",
       "      <th>user_id</th>\n",
       "      <th>order_date</th>\n",
       "      <th>list_sku</th>\n",
       "      <th>list_sku_category</th>\n",
       "      <th>order_item_count</th>\n",
       "      <th>order_single_item</th>\n",
       "      <th>order_channel</th>\n",
       "      <th>...</th>\n",
       "      <th>order_store_id</th>\n",
       "      <th>order_day_part</th>\n",
       "      <th>order_is_freeshipping</th>\n",
       "      <th>user_loyalty_program</th>\n",
       "      <th>user_age</th>\n",
       "      <th>user_gender</th>\n",
       "      <th>list_sku_flavor</th>\n",
       "      <th>month</th>\n",
       "      <th>week</th>\n",
       "      <th>dow</th>\n",
       "    </tr>\n",
       "  </thead>\n",
       "  <tbody>\n",
       "    <tr>\n",
       "      <th>0</th>\n",
       "      <td>0</td>\n",
       "      <td>ITEM-2009089674</td>\n",
       "      <td>TXN-52889719</td>\n",
       "      <td>USER-16961214</td>\n",
       "      <td>2021-05-04</td>\n",
       "      <td>SKU-3002</td>\n",
       "      <td>Energy Bar</td>\n",
       "      <td>ITEM-2009089674</td>\n",
       "      <td>False</td>\n",
       "      <td>digital_direct</td>\n",
       "      <td>...</td>\n",
       "      <td>Dallas-3</td>\n",
       "      <td>evening</td>\n",
       "      <td>1</td>\n",
       "      <td>bronze</td>\n",
       "      <td>49</td>\n",
       "      <td>F</td>\n",
       "      <td>Peanut Butter</td>\n",
       "      <td>5.0</td>\n",
       "      <td>18.0</td>\n",
       "      <td>2.0</td>\n",
       "    </tr>\n",
       "    <tr>\n",
       "      <th>1</th>\n",
       "      <td>1</td>\n",
       "      <td>ITEM-2008965888</td>\n",
       "      <td>TXN-52889719</td>\n",
       "      <td>USER-16961214</td>\n",
       "      <td>2021-05-04</td>\n",
       "      <td>SKU-3014</td>\n",
       "      <td>Energy Shot</td>\n",
       "      <td>ITEM-2008965888</td>\n",
       "      <td>False</td>\n",
       "      <td>digital_direct</td>\n",
       "      <td>...</td>\n",
       "      <td>Dallas-3</td>\n",
       "      <td>evening</td>\n",
       "      <td>1</td>\n",
       "      <td>bronze</td>\n",
       "      <td>49</td>\n",
       "      <td>F</td>\n",
       "      <td>Chocolate Brownie</td>\n",
       "      <td>5.0</td>\n",
       "      <td>18.0</td>\n",
       "      <td>2.0</td>\n",
       "    </tr>\n",
       "  </tbody>\n",
       "</table>\n",
       "<p>2 rows × 24 columns</p>\n",
       "</div>"
      ],
      "text/plain": [
       "   index list_lineitem_id      order_id        user_id order_date  list_sku  \\\n",
       "0      0  ITEM-2009089674  TXN-52889719  USER-16961214 2021-05-04  SKU-3002   \n",
       "1      1  ITEM-2008965888  TXN-52889719  USER-16961214 2021-05-04  SKU-3014   \n",
       "\n",
       "  list_sku_category order_item_count  order_single_item   order_channel  ...  \\\n",
       "0        Energy Bar  ITEM-2009089674              False  digital_direct  ...   \n",
       "1       Energy Shot  ITEM-2008965888              False  digital_direct  ...   \n",
       "\n",
       "  order_store_id order_day_part order_is_freeshipping user_loyalty_program  \\\n",
       "0       Dallas-3        evening                     1               bronze   \n",
       "1       Dallas-3        evening                     1               bronze   \n",
       "\n",
       "  user_age user_gender    list_sku_flavor month  week  dow  \n",
       "0       49           F      Peanut Butter   5.0  18.0  2.0  \n",
       "1       49           F  Chocolate Brownie   5.0  18.0  2.0  \n",
       "\n",
       "[2 rows x 24 columns]"
      ]
     },
     "execution_count": 71,
     "metadata": {},
     "output_type": "execute_result"
    }
   ],
   "source": [
    "pd.read_sql('select * from line_items limit 2', engine)"
   ]
  },
  {
   "cell_type": "code",
   "execution_count": null,
   "metadata": {},
   "outputs": [],
   "source": [
    "pd.read_sql('select * from line_items limit 2', engine)"
   ]
  }
 ],
 "metadata": {
  "kernelspec": {
   "display_name": "Python 3.10.6 64-bit",
   "language": "python",
   "name": "python3"
  },
  "language_info": {
   "codemirror_mode": {
    "name": "ipython",
    "version": 3
   },
   "file_extension": ".py",
   "mimetype": "text/x-python",
   "name": "python",
   "nbconvert_exporter": "python",
   "pygments_lexer": "ipython3",
   "version": "3.10.6"
  },
  "orig_nbformat": 4,
  "vscode": {
   "interpreter": {
    "hash": "b0fa6594d8f4cbf19f97940f81e996739fb7646882a419484c72d19e05852a7e"
   }
  }
 },
 "nbformat": 4,
 "nbformat_minor": 2
}
