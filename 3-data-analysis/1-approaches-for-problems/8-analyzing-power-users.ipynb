{
 "cells": [
  {
   "cell_type": "markdown",
   "id": "d9173010-df41-425d-978c-e7220917ac68",
   "metadata": {},
   "source": [
    "# Analyzing Power Users"
   ]
  },
  {
   "cell_type": "markdown",
   "id": "2e41cf41-7e36-4a97-ae58-427d4a436560",
   "metadata": {},
   "source": [
    "### Introduction\n",
    "\n",
    "Now that we have identified written the query to determine the cumulative percentage of spend, the next step is to identify our power users.  Then we can see behavior of our power users.  "
   ]
  },
  {
   "cell_type": "markdown",
   "id": "a5ce1e19",
   "metadata": {},
   "source": [
    "### Loading our Data"
   ]
  },
  {
   "cell_type": "markdown",
   "id": "842cae1b",
   "metadata": {},
   "source": [
    "Let's start by connecting to our data."
   ]
  },
  {
   "cell_type": "code",
   "execution_count": 6,
   "id": "e3b8a272",
   "metadata": {},
   "outputs": [
    {
     "data": {
      "text/html": [
       "<div>\n",
       "<style scoped>\n",
       "    .dataframe tbody tr th:only-of-type {\n",
       "        vertical-align: middle;\n",
       "    }\n",
       "\n",
       "    .dataframe tbody tr th {\n",
       "        vertical-align: top;\n",
       "    }\n",
       "\n",
       "    .dataframe thead th {\n",
       "        text-align: right;\n",
       "    }\n",
       "</style>\n",
       "<table border=\"1\" class=\"dataframe\">\n",
       "  <thead>\n",
       "    <tr style=\"text-align: right;\">\n",
       "      <th></th>\n",
       "      <th>index</th>\n",
       "      <th>transaction_id</th>\n",
       "      <th>customer_id</th>\n",
       "      <th>product</th>\n",
       "      <th>gender</th>\n",
       "      <th>device_type</th>\n",
       "      <th>country</th>\n",
       "      <th>state</th>\n",
       "      <th>city</th>\n",
       "      <th>category</th>\n",
       "      <th>...</th>\n",
       "      <th>delivery_type</th>\n",
       "      <th>quantity</th>\n",
       "      <th>transaction_start</th>\n",
       "      <th>transaction_result</th>\n",
       "      <th>amount</th>\n",
       "      <th>individual_price</th>\n",
       "      <th>month</th>\n",
       "      <th>week</th>\n",
       "      <th>dow</th>\n",
       "      <th>hour</th>\n",
       "    </tr>\n",
       "  </thead>\n",
       "  <tbody>\n",
       "    <tr>\n",
       "      <th>0</th>\n",
       "      <td>0</td>\n",
       "      <td>40170</td>\n",
       "      <td>1348959766</td>\n",
       "      <td>Hair Band</td>\n",
       "      <td>Female</td>\n",
       "      <td>Web</td>\n",
       "      <td>United States</td>\n",
       "      <td>New York</td>\n",
       "      <td>New York City</td>\n",
       "      <td>Accessories</td>\n",
       "      <td>...</td>\n",
       "      <td>one-day deliver</td>\n",
       "      <td>12</td>\n",
       "      <td>1</td>\n",
       "      <td>0</td>\n",
       "      <td>6910.0</td>\n",
       "      <td>576.0</td>\n",
       "      <td>11.0</td>\n",
       "      <td>46.0</td>\n",
       "      <td>4.0</td>\n",
       "      <td>22.0</td>\n",
       "    </tr>\n",
       "    <tr>\n",
       "      <th>1</th>\n",
       "      <td>1</td>\n",
       "      <td>33374</td>\n",
       "      <td>2213674919</td>\n",
       "      <td>Hair Band</td>\n",
       "      <td>Female</td>\n",
       "      <td>Web</td>\n",
       "      <td>United States</td>\n",
       "      <td>California</td>\n",
       "      <td>Los Angles</td>\n",
       "      <td>Accessories</td>\n",
       "      <td>...</td>\n",
       "      <td>one-day deliver</td>\n",
       "      <td>17</td>\n",
       "      <td>1</td>\n",
       "      <td>1</td>\n",
       "      <td>1699.0</td>\n",
       "      <td>100.0</td>\n",
       "      <td>5.0</td>\n",
       "      <td>19.0</td>\n",
       "      <td>6.0</td>\n",
       "      <td>6.0</td>\n",
       "    </tr>\n",
       "  </tbody>\n",
       "</table>\n",
       "<p>2 rows × 21 columns</p>\n",
       "</div>"
      ],
      "text/plain": [
       "   index  transaction_id  customer_id    product  gender device_type  \\\n",
       "0      0           40170   1348959766  Hair Band  Female         Web   \n",
       "1      1           33374   2213674919  Hair Band  Female         Web   \n",
       "\n",
       "         country       state           city     category  ...  \\\n",
       "0  United States    New York  New York City  Accessories  ...   \n",
       "1  United States  California     Los Angles  Accessories  ...   \n",
       "\n",
       "     delivery_type quantity  transaction_start  transaction_result  amount  \\\n",
       "0  one-day deliver       12                  1                   0  6910.0   \n",
       "1  one-day deliver       17                  1                   1  1699.0   \n",
       "\n",
       "   individual_price  month  week  dow  hour  \n",
       "0             576.0   11.0  46.0  4.0  22.0  \n",
       "1             100.0    5.0  19.0  6.0   6.0  \n",
       "\n",
       "[2 rows x 21 columns]"
      ]
     },
     "execution_count": 6,
     "metadata": {},
     "output_type": "execute_result"
    }
   ],
   "source": [
    "from sqlalchemy import create_engine\n",
    "import pandas as pd\n",
    "# change the jeffreykatz to your postgres username\n",
    "conn_string = 'postgresql://jeffreykatz@localhost/ecommerce'\n",
    "engine = create_engine(conn_string)\n",
    "\n",
    "transactions_df = pd.read_sql('select * from transactions', engine)\n",
    "transactions_df[:2]"
   ]
  },
  {
   "cell_type": "markdown",
   "id": "172bc7ad",
   "metadata": {},
   "source": [
    "And we have our percentage of user spend."
   ]
  },
  {
   "cell_type": "code",
   "execution_count": 1,
   "id": "cbf43c81",
   "metadata": {},
   "outputs": [
    {
     "data": {
      "text/html": [
       "<div>\n",
       "<style scoped>\n",
       "    .dataframe tbody tr th:only-of-type {\n",
       "        vertical-align: middle;\n",
       "    }\n",
       "\n",
       "    .dataframe tbody tr th {\n",
       "        vertical-align: top;\n",
       "    }\n",
       "\n",
       "    .dataframe thead th {\n",
       "        text-align: right;\n",
       "    }\n",
       "</style>\n",
       "<table border=\"1\" class=\"dataframe\">\n",
       "  <thead>\n",
       "    <tr style=\"text-align: right;\">\n",
       "      <th></th>\n",
       "      <th>customer_id</th>\n",
       "      <th>total_amount</th>\n",
       "      <th>percentage_spend</th>\n",
       "    </tr>\n",
       "  </thead>\n",
       "  <tbody>\n",
       "    <tr>\n",
       "      <th>0</th>\n",
       "      <td>1929979702</td>\n",
       "      <td>894869.0</td>\n",
       "      <td>0.002978</td>\n",
       "    </tr>\n",
       "    <tr>\n",
       "      <th>1</th>\n",
       "      <td>1430453333</td>\n",
       "      <td>840000.0</td>\n",
       "      <td>0.005774</td>\n",
       "    </tr>\n",
       "    <tr>\n",
       "      <th>2</th>\n",
       "      <td>1884522075</td>\n",
       "      <td>767733.0</td>\n",
       "      <td>0.008329</td>\n",
       "    </tr>\n",
       "  </tbody>\n",
       "</table>\n",
       "</div>"
      ],
      "text/plain": [
       "   customer_id  total_amount  percentage_spend\n",
       "0   1929979702      894869.0          0.002978\n",
       "1   1430453333      840000.0          0.005774\n",
       "2   1884522075      767733.0          0.008329"
      ]
     },
     "execution_count": 1,
     "metadata": {},
     "output_type": "execute_result"
    }
   ],
   "source": [
    "\n",
    "percent_spend_df = pd.read_csv('./user_percentage_spend.csv', index_col = 0)\n",
    "percent_spend_df[:3]"
   ]
  },
  {
   "cell_type": "markdown",
   "id": "85dd8fcf",
   "metadata": {},
   "source": [
    "### Identifying power users"
   ]
  },
  {
   "cell_type": "markdown",
   "id": "8240107c",
   "metadata": {},
   "source": [
    "Ok so next up is to identify our power users.  We can do so by selecting the rows where the percentage spend is less than .80, or 80 percent."
   ]
  },
  {
   "cell_type": "code",
   "execution_count": 2,
   "id": "345be0b7",
   "metadata": {},
   "outputs": [
    {
     "data": {
      "text/html": [
       "<div>\n",
       "<style scoped>\n",
       "    .dataframe tbody tr th:only-of-type {\n",
       "        vertical-align: middle;\n",
       "    }\n",
       "\n",
       "    .dataframe tbody tr th {\n",
       "        vertical-align: top;\n",
       "    }\n",
       "\n",
       "    .dataframe thead th {\n",
       "        text-align: right;\n",
       "    }\n",
       "</style>\n",
       "<table border=\"1\" class=\"dataframe\">\n",
       "  <thead>\n",
       "    <tr style=\"text-align: right;\">\n",
       "      <th></th>\n",
       "      <th>customer_id</th>\n",
       "      <th>total_amount</th>\n",
       "      <th>percentage_spend</th>\n",
       "    </tr>\n",
       "  </thead>\n",
       "  <tbody>\n",
       "    <tr>\n",
       "      <th>0</th>\n",
       "      <td>1929979702</td>\n",
       "      <td>894869.0</td>\n",
       "      <td>0.002978</td>\n",
       "    </tr>\n",
       "    <tr>\n",
       "      <th>1</th>\n",
       "      <td>1430453333</td>\n",
       "      <td>840000.0</td>\n",
       "      <td>0.005774</td>\n",
       "    </tr>\n",
       "    <tr>\n",
       "      <th>2</th>\n",
       "      <td>1884522075</td>\n",
       "      <td>767733.0</td>\n",
       "      <td>0.008329</td>\n",
       "    </tr>\n",
       "  </tbody>\n",
       "</table>\n",
       "</div>"
      ],
      "text/plain": [
       "   customer_id  total_amount  percentage_spend\n",
       "0   1929979702      894869.0          0.002978\n",
       "1   1430453333      840000.0          0.005774\n",
       "2   1884522075      767733.0          0.008329"
      ]
     },
     "execution_count": 2,
     "metadata": {},
     "output_type": "execute_result"
    }
   ],
   "source": [
    "power_users_df = percent_spend_df[percent_spend_df['percentage_spend'] < .80]\n",
    "power_users_df[:3]"
   ]
  },
  {
   "cell_type": "code",
   "execution_count": 3,
   "id": "a6b14a80",
   "metadata": {},
   "outputs": [
    {
     "data": {
      "text/plain": [
       "((19536, 3), (64998, 3))"
      ]
     },
     "execution_count": 3,
     "metadata": {},
     "output_type": "execute_result"
    }
   ],
   "source": [
    "power_users_df.shape, percent_spend_df.shape"
   ]
  },
  {
   "cell_type": "markdown",
   "id": "ada41788",
   "metadata": {},
   "source": [
    "So we can see that 19500 users account for 80 percent of our total revenue.  This is out of a total customer base of almost 65,000.  In other words `30%` of our users account for `80%` of the revenue.  That's pretty close to what our 80 - 20 rule predicted."
   ]
  },
  {
   "cell_type": "markdown",
   "id": "0f1b1dbf",
   "metadata": {},
   "source": [
    "> These power user transactions are indeed a subset of overall transactions, but the dimensions of our transactions look pretty similar to the dimensions of our users.  So that seems to suggest that each user generally just has one transaction in our transactions table."
   ]
  },
  {
   "cell_type": "markdown",
   "id": "0bfa56c7",
   "metadata": {},
   "source": [
    "It's good to play with this number, for example let's see the number of users that account for 50 percent of our spend."
   ]
  },
  {
   "cell_type": "code",
   "execution_count": 17,
   "id": "67e106c3",
   "metadata": {},
   "outputs": [
    {
     "data": {
      "text/plain": [
       "((5360, 3), (64998, 3))"
      ]
     },
     "execution_count": 17,
     "metadata": {},
     "output_type": "execute_result"
    }
   ],
   "source": [
    "super_users_df = percent_spend_df[percent_spend_df['percentage_spend'] < .50]\n",
    "super_users_df.shape, percent_spend_df.shape"
   ]
  },
  {
   "cell_type": "code",
   "execution_count": 18,
   "id": "9cfd3969",
   "metadata": {},
   "outputs": [
    {
     "data": {
      "text/plain": [
       "0.08246407581771747"
      ]
     },
     "execution_count": 18,
     "metadata": {},
     "output_type": "execute_result"
    }
   ],
   "source": [
    "5360/64998"
   ]
  },
  {
   "cell_type": "markdown",
   "id": "c661646e",
   "metadata": {},
   "source": [
    "So here, we see that just less that 8 percent of our users account for 50 percent of our spend.  It's a judment call, but this seems like an even more interesting subset to analyze.  Let's do that, and stick with our super users."
   ]
  },
  {
   "cell_type": "markdown",
   "id": "fc379729",
   "metadata": {},
   "source": [
    "Now that we have the super users, we can try to identify *the behavior* of our super users.  We can do so with the following.  \n",
    "\n",
    "First set the index of the transactions dataframe to our customer_id."
   ]
  },
  {
   "cell_type": "code",
   "execution_count": 7,
   "id": "439ddb5b",
   "metadata": {},
   "outputs": [],
   "source": [
    "transactions_df.index = transactions_df.customer_id\n",
    "\n",
    "super_users_transactions_df = transactions_df.loc[super_users_df.customer_id]"
   ]
  },
  {
   "cell_type": "markdown",
   "id": "8c4b4cfc",
   "metadata": {},
   "source": [
    "And let's confirm that we have selected a subset of the transactions."
   ]
  },
  {
   "cell_type": "code",
   "execution_count": 20,
   "id": "dfe6686d",
   "metadata": {},
   "outputs": [
    {
     "data": {
      "text/plain": [
       "((5586, 21), (65535, 21))"
      ]
     },
     "execution_count": 20,
     "metadata": {},
     "output_type": "execute_result"
    }
   ],
   "source": [
    "super_users_transactions_df.shape, transactions_df.shape"
   ]
  },
  {
   "cell_type": "markdown",
   "id": "645ad568",
   "metadata": {},
   "source": [
    "Now that we have identified transactions by super users, we can then use our group by functions, to find the characteristics of our super user transactions."
   ]
  },
  {
   "cell_type": "code",
   "execution_count": null,
   "id": "c40d6e61",
   "metadata": {},
   "outputs": [],
   "source": [
    "from lib import *\n",
    "# group_and_print(table_name, cols, target, engine, order_by_col = False)"
   ]
  },
  {
   "cell_type": "markdown",
   "id": "bd83168e",
   "metadata": {},
   "source": [
    "To use the `group_and_print` function, we need a *table* to query, not a dataframe.  So let's save our `super_user_transactions` as a table.  And then we can query it.\n",
    "\n",
    "> So first we reset the index."
   ]
  },
  {
   "cell_type": "code",
   "execution_count": 33,
   "id": "2ab7894b",
   "metadata": {},
   "outputs": [
    {
     "data": {
      "text/html": [
       "<div>\n",
       "<style scoped>\n",
       "    .dataframe tbody tr th:only-of-type {\n",
       "        vertical-align: middle;\n",
       "    }\n",
       "\n",
       "    .dataframe tbody tr th {\n",
       "        vertical-align: top;\n",
       "    }\n",
       "\n",
       "    .dataframe thead th {\n",
       "        text-align: right;\n",
       "    }\n",
       "</style>\n",
       "<table border=\"1\" class=\"dataframe\">\n",
       "  <thead>\n",
       "    <tr style=\"text-align: right;\">\n",
       "      <th></th>\n",
       "      <th>transaction_id</th>\n",
       "      <th>customer_id</th>\n",
       "      <th>product</th>\n",
       "      <th>gender</th>\n",
       "      <th>device_type</th>\n",
       "      <th>country</th>\n",
       "      <th>state</th>\n",
       "      <th>city</th>\n",
       "      <th>category</th>\n",
       "      <th>customer_login_type</th>\n",
       "      <th>delivery_type</th>\n",
       "      <th>quantity</th>\n",
       "      <th>transaction_start</th>\n",
       "      <th>transaction_result</th>\n",
       "      <th>amount</th>\n",
       "      <th>individual_price</th>\n",
       "      <th>month</th>\n",
       "      <th>week</th>\n",
       "      <th>dow</th>\n",
       "      <th>hour</th>\n",
       "    </tr>\n",
       "    <tr>\n",
       "      <th>index</th>\n",
       "      <th></th>\n",
       "      <th></th>\n",
       "      <th></th>\n",
       "      <th></th>\n",
       "      <th></th>\n",
       "      <th></th>\n",
       "      <th></th>\n",
       "      <th></th>\n",
       "      <th></th>\n",
       "      <th></th>\n",
       "      <th></th>\n",
       "      <th></th>\n",
       "      <th></th>\n",
       "      <th></th>\n",
       "      <th></th>\n",
       "      <th></th>\n",
       "      <th></th>\n",
       "      <th></th>\n",
       "      <th></th>\n",
       "      <th></th>\n",
       "    </tr>\n",
       "  </thead>\n",
       "  <tbody>\n",
       "    <tr>\n",
       "      <th>12002</th>\n",
       "      <td>15335</td>\n",
       "      <td>1929979702</td>\n",
       "      <td>Shirt</td>\n",
       "      <td>Male</td>\n",
       "      <td>Web</td>\n",
       "      <td>United States</td>\n",
       "      <td>Washington</td>\n",
       "      <td>Seattle</td>\n",
       "      <td>Clothing</td>\n",
       "      <td>Member</td>\n",
       "      <td>Normal Delivery</td>\n",
       "      <td>12</td>\n",
       "      <td>1</td>\n",
       "      <td>1</td>\n",
       "      <td>894869.0</td>\n",
       "      <td>NaN</td>\n",
       "      <td>3.0</td>\n",
       "      <td>10.0</td>\n",
       "      <td>0.0</td>\n",
       "      <td>13.0</td>\n",
       "    </tr>\n",
       "    <tr>\n",
       "      <th>11347</th>\n",
       "      <td>13787</td>\n",
       "      <td>1430453333</td>\n",
       "      <td>Shirt</td>\n",
       "      <td>Male</td>\n",
       "      <td>Web</td>\n",
       "      <td>United States</td>\n",
       "      <td>Washington</td>\n",
       "      <td>Seattle</td>\n",
       "      <td>Clothing</td>\n",
       "      <td>Member</td>\n",
       "      <td>Normal Delivery</td>\n",
       "      <td>13</td>\n",
       "      <td>1</td>\n",
       "      <td>1</td>\n",
       "      <td>840000.0</td>\n",
       "      <td>NaN</td>\n",
       "      <td>9.0</td>\n",
       "      <td>40.0</td>\n",
       "      <td>1.0</td>\n",
       "      <td>6.0</td>\n",
       "    </tr>\n",
       "  </tbody>\n",
       "</table>\n",
       "</div>"
      ],
      "text/plain": [
       "       transaction_id  customer_id product gender device_type        country  \\\n",
       "index                                                                          \n",
       "12002           15335   1929979702   Shirt   Male         Web  United States   \n",
       "11347           13787   1430453333   Shirt   Male         Web  United States   \n",
       "\n",
       "            state     city  category customer_login_type    delivery_type  \\\n",
       "index                                                                       \n",
       "12002  Washington  Seattle  Clothing              Member  Normal Delivery   \n",
       "11347  Washington  Seattle  Clothing              Member  Normal Delivery   \n",
       "\n",
       "       quantity  transaction_start  transaction_result    amount  \\\n",
       "index                                                              \n",
       "12002        12                  1                   1  894869.0   \n",
       "11347        13                  1                   1  840000.0   \n",
       "\n",
       "       individual_price  month  week  dow  hour  \n",
       "index                                            \n",
       "12002               NaN    3.0  10.0  0.0  13.0  \n",
       "11347               NaN    9.0  40.0  1.0   6.0  "
      ]
     },
     "execution_count": 33,
     "metadata": {},
     "output_type": "execute_result"
    }
   ],
   "source": [
    "super_users_transactions_df.index = super_users_transactions_df['index']\n",
    "super_users_transactions_df_updated = super_users_transactions_df.drop(columns = ['index'])\n",
    "\n",
    "super_users_transactions_df_updated[:2]\n"
   ]
  },
  {
   "cell_type": "code",
   "execution_count": 34,
   "id": "a5c465a2",
   "metadata": {},
   "outputs": [
    {
     "data": {
      "text/plain": [
       "586"
      ]
     },
     "execution_count": 34,
     "metadata": {},
     "output_type": "execute_result"
    }
   ],
   "source": [
    "super_users_transactions_df_updated.to_sql('super_user_txns', engine, if_exists = 'replace')"
   ]
  },
  {
   "cell_type": "code",
   "execution_count": 39,
   "id": "68e3c9af",
   "metadata": {},
   "outputs": [],
   "source": [
    "time_cols = ['month', 'week', 'dow', 'hour']\n",
    "customer_cols = ['gender', 'customer_id']\n",
    "\n",
    "product_cols = ['product', 'category', 'individual_price']\n",
    "channel_cols = ['device_type', 'customer_login_type', 'delivery_type']\n",
    "transaction_cols = ['transaction_id', 'quantity', 'transaction_start', 'transaction_result']"
   ]
  },
  {
   "cell_type": "markdown",
   "id": "3bea247f",
   "metadata": {},
   "source": [
    "And now we can use our group and print functions to learn characteristics of our super users."
   ]
  },
  {
   "cell_type": "code",
   "execution_count": 37,
   "id": "1ebd28b7",
   "metadata": {},
   "outputs": [
    {
     "name": "stdout",
     "output_type": "stream",
     "text": [
      "product\n"
     ]
    },
    {
     "data": {
      "image/png": "[encoded data removed]",
      "text/plain": [
       "<Figure size 1400x200 with 1 Axes>"
      ]
     },
     "metadata": {},
     "output_type": "display_data"
    },
    {
     "name": "stdout",
     "output_type": "stream",
     "text": [
      "category\n"
     ]
    },
    {
     "data": {
      "image/png": "[encoded data removed]",
      "text/plain": [
       "<Figure size 1400x200 with 1 Axes>"
      ]
     },
     "metadata": {},
     "output_type": "display_data"
    },
    {
     "name": "stdout",
     "output_type": "stream",
     "text": [
      "individual_price\n"
     ]
    },
    {
     "data": {
      "image/png": "[encoded data removed]",
      "text/plain": [
       "<Figure size 1400x200 with 1 Axes>"
      ]
     },
     "metadata": {},
     "output_type": "display_data"
    }
   ],
   "source": [
    "from lib import *\n",
    "group_and_print('super_user_txns', product_cols, 'amount', engine)"
   ]
  },
  {
   "cell_type": "markdown",
   "id": "ded7acba",
   "metadata": {},
   "source": [
    "And we can always compare this against our overall transactions."
   ]
  },
  {
   "cell_type": "code",
   "execution_count": 38,
   "id": "3797aafa",
   "metadata": {},
   "outputs": [
    {
     "name": "stdout",
     "output_type": "stream",
     "text": [
      "product\n"
     ]
    },
    {
     "data": {
      "image/png": "[encoded data removed]",
      "text/plain": [
       "<Figure size 1400x200 with 1 Axes>"
      ]
     },
     "metadata": {},
     "output_type": "display_data"
    },
    {
     "name": "stdout",
     "output_type": "stream",
     "text": [
      "category\n"
     ]
    },
    {
     "data": {
      "image/png": "[encoded data removed]",
      "text/plain": [
       "<Figure size 1400x200 with 1 Axes>"
      ]
     },
     "metadata": {},
     "output_type": "display_data"
    },
    {
     "name": "stdout",
     "output_type": "stream",
     "text": [
      "individual_price\n"
     ]
    },
    {
     "data": {
      "image/png": "[encoded data removed]",
      "text/plain": [
       "<Figure size 1400x200 with 1 Axes>"
      ]
     },
     "metadata": {},
     "output_type": "display_data"
    }
   ],
   "source": [
    "group_and_print('transactions', product_cols, 'amount', engine)"
   ]
  },
  {
   "cell_type": "markdown",
   "id": "a5c67636",
   "metadata": {},
   "source": [
    "The biggest difference in this category appears to be in the price of the product. This may suggest an ability to go after a more luxury market.  We should also explore other columns.  For example, are these customers members, like we would expect."
   ]
  },
  {
   "cell_type": "code",
   "execution_count": 43,
   "id": "c77bb55d",
   "metadata": {},
   "outputs": [
    {
     "name": "stdout",
     "output_type": "stream",
     "text": [
      "customer_login_type\n"
     ]
    },
    {
     "data": {
      "image/png": "[encoded data removed]",
      "text/plain": [
       "<Figure size 1400x200 with 1 Axes>"
      ]
     },
     "metadata": {},
     "output_type": "display_data"
    }
   ],
   "source": [
    "group_and_print('super_user_txns', channel_cols[1:2], 'amount', engine)"
   ]
  },
  {
   "cell_type": "markdown",
   "id": "918494fb",
   "metadata": {},
   "source": [
    "We can see a lot, but not all are.  Perhaps we can make sure there is an outreach program to retain these high spending customers who are not yet members.  As a follow up, identify these users, and determine what percentage of spend they account for -- it could be significant."
   ]
  },
  {
   "cell_type": "markdown",
   "id": "58db1c7e",
   "metadata": {},
   "source": [
    "### Summary \n",
    "\n",
    "In this lesson, we saw that once we wrote our query to calculate the running percentage spend, we then identified a subset of users as super users -- who accounted for 50 percent of our spend.\n",
    "\n",
    "From there, we used the index to find the transactions involving our power users.  And we saved this subset of transactions as a new table.  \n",
    "\n",
    "Finally, we used our `group_and_print` function to analyze this subset of data. \n",
    "\n",
    "An overall point is that once we have identified an interesting subset of data, we can just use our `group_and_print` functions all over again.  In this case, we did this for our power users, but we also could have done it with another subset of our data, like analyzing users from a particular geographic region."
   ]
  }
 ],
 "metadata": {
  "kernelspec": {
   "display_name": "Python 3.10.6 64-bit",
   "language": "python",
   "name": "python3"
  },
  "language_info": {
   "codemirror_mode": {
    "name": "ipython",
    "version": 3
   },
   "file_extension": ".py",
   "mimetype": "text/x-python",
   "name": "python",
   "nbconvert_exporter": "python",
   "pygments_lexer": "ipython3",
   "version": "3.10.6"
  },
  "vscode": {
   "interpreter": {
    "hash": "b0fa6594d8f4cbf19f97940f81e996739fb7646882a419484c72d19e05852a7e"
   }
  }
 },
 "nbformat": 4,
 "nbformat_minor": 5
}
