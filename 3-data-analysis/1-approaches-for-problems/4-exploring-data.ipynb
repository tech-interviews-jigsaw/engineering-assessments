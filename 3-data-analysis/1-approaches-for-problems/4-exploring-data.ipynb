{
 "cells": [
  {
   "cell_type": "markdown",
   "id": "99852281",
   "metadata": {},
   "source": [
    "# Exploring the Data"
   ]
  },
  {
   "cell_type": "markdown",
   "id": "362e7c3c",
   "metadata": {},
   "source": [
    "### Introduction"
   ]
  },
  {
   "cell_type": "markdown",
   "id": "e16945e8",
   "metadata": {},
   "source": [
    "Now that we have properly coerced our data, it's time for us to start exploring our data.  As we'll see, with our data properly formatted, exploring the data will be easier -- and importantly more accurate. "
   ]
  },
  {
   "cell_type": "markdown",
   "id": "c817fd46",
   "metadata": {},
   "source": [
    "### Loading our data"
   ]
  },
  {
   "cell_type": "code",
   "execution_count": 45,
   "id": "8c5ddd21",
   "metadata": {},
   "outputs": [],
   "source": [
    "from sqlalchemy import create_engine\n",
    "# change the jeffreykatz to your postgres username\n",
    "conn_string = 'postgresql://jeffreykatz@localhost/ecommerce'\n",
    "engine = create_engine(conn_string)"
   ]
  },
  {
   "cell_type": "code",
   "execution_count": 59,
   "id": "96c3765f-87ed-42e5-8119-82c6f12e8572",
   "metadata": {},
   "outputs": [
    {
     "data": {
      "text/html": [
       "<div>\n",
       "<style scoped>\n",
       "    .dataframe tbody tr th:only-of-type {\n",
       "        vertical-align: middle;\n",
       "    }\n",
       "\n",
       "    .dataframe tbody tr th {\n",
       "        vertical-align: top;\n",
       "    }\n",
       "\n",
       "    .dataframe thead th {\n",
       "        text-align: right;\n",
       "    }\n",
       "</style>\n",
       "<table border=\"1\" class=\"dataframe\">\n",
       "  <thead>\n",
       "    <tr style=\"text-align: right;\">\n",
       "      <th></th>\n",
       "      <th>index</th>\n",
       "      <th>transaction_id</th>\n",
       "      <th>customer_id</th>\n",
       "      <th>product</th>\n",
       "      <th>gender</th>\n",
       "      <th>device_type</th>\n",
       "      <th>country</th>\n",
       "      <th>state</th>\n",
       "      <th>city</th>\n",
       "      <th>category</th>\n",
       "      <th>...</th>\n",
       "      <th>delivery_type</th>\n",
       "      <th>quantity</th>\n",
       "      <th>transaction_start</th>\n",
       "      <th>transaction_result</th>\n",
       "      <th>amount</th>\n",
       "      <th>individual_price</th>\n",
       "      <th>month</th>\n",
       "      <th>week</th>\n",
       "      <th>dow</th>\n",
       "      <th>hour</th>\n",
       "    </tr>\n",
       "  </thead>\n",
       "  <tbody>\n",
       "    <tr>\n",
       "      <th>0</th>\n",
       "      <td>0</td>\n",
       "      <td>40170</td>\n",
       "      <td>1348959766</td>\n",
       "      <td>Hair Band</td>\n",
       "      <td>Female</td>\n",
       "      <td>Web</td>\n",
       "      <td>United States</td>\n",
       "      <td>New York</td>\n",
       "      <td>New York City</td>\n",
       "      <td>Accessories</td>\n",
       "      <td>...</td>\n",
       "      <td>one-day deliver</td>\n",
       "      <td>12</td>\n",
       "      <td>1</td>\n",
       "      <td>0</td>\n",
       "      <td>6910.0</td>\n",
       "      <td>576.0</td>\n",
       "      <td>11.0</td>\n",
       "      <td>46.0</td>\n",
       "      <td>4.0</td>\n",
       "      <td>22.0</td>\n",
       "    </tr>\n",
       "    <tr>\n",
       "      <th>1</th>\n",
       "      <td>1</td>\n",
       "      <td>33374</td>\n",
       "      <td>2213674919</td>\n",
       "      <td>Hair Band</td>\n",
       "      <td>Female</td>\n",
       "      <td>Web</td>\n",
       "      <td>United States</td>\n",
       "      <td>California</td>\n",
       "      <td>Los Angles</td>\n",
       "      <td>Accessories</td>\n",
       "      <td>...</td>\n",
       "      <td>one-day deliver</td>\n",
       "      <td>17</td>\n",
       "      <td>1</td>\n",
       "      <td>1</td>\n",
       "      <td>1699.0</td>\n",
       "      <td>100.0</td>\n",
       "      <td>5.0</td>\n",
       "      <td>19.0</td>\n",
       "      <td>6.0</td>\n",
       "      <td>6.0</td>\n",
       "    </tr>\n",
       "  </tbody>\n",
       "</table>\n",
       "<p>2 rows × 21 columns</p>\n",
       "</div>"
      ],
      "text/plain": [
       "   index  transaction_id  customer_id    product  gender device_type  \\\n",
       "0      0           40170   1348959766  Hair Band  Female         Web   \n",
       "1      1           33374   2213674919  Hair Band  Female         Web   \n",
       "\n",
       "         country       state           city     category  ...  \\\n",
       "0  United States    New York  New York City  Accessories  ...   \n",
       "1  United States  California     Los Angles  Accessories  ...   \n",
       "\n",
       "     delivery_type quantity  transaction_start  transaction_result  amount  \\\n",
       "0  one-day deliver       12                  1                   0  6910.0   \n",
       "1  one-day deliver       17                  1                   1  1699.0   \n",
       "\n",
       "   individual_price  month  week  dow  hour  \n",
       "0             576.0   11.0  46.0  4.0  22.0  \n",
       "1             100.0    5.0  19.0  6.0   6.0  \n",
       "\n",
       "[2 rows x 21 columns]"
      ]
     },
     "execution_count": 59,
     "metadata": {},
     "output_type": "execute_result"
    }
   ],
   "source": [
    "import pandas as pd\n",
    "transactions_df = pd.read_sql(\"select * from transactions\", engine)\n",
    "transactions_df[:2]"
   ]
  },
  {
   "cell_type": "markdown",
   "id": "49fd29d6",
   "metadata": {},
   "source": [
    "### Starting an analysis"
   ]
  },
  {
   "cell_type": "markdown",
   "id": "052aa410",
   "metadata": {},
   "source": [
    "When performing data analysis the first step is to find at least one metric we are trying to optimize.  For example, profit."
   ]
  },
  {
   "cell_type": "markdown",
   "id": "4a9ea701",
   "metadata": {},
   "source": [
    "Let's look at the columns above to see if there is a component like that."
   ]
  },
  {
   "cell_type": "code",
   "execution_count": 60,
   "id": "4b842846",
   "metadata": {},
   "outputs": [
    {
     "data": {
      "text/plain": [
       "Index(['index', 'transaction_id', 'customer_id', 'product', 'gender',\n",
       "       'device_type', 'country', 'state', 'city', 'category',\n",
       "       'customer_login_type', 'delivery_type', 'quantity', 'transaction_start',\n",
       "       'transaction_result', 'amount', 'individual_price', 'month', 'week',\n",
       "       'dow', 'hour'],\n",
       "      dtype='object')"
      ]
     },
     "execution_count": 60,
     "metadata": {},
     "output_type": "execute_result"
    }
   ],
   "source": [
    "transactions_df.columns"
   ]
  },
  {
   "cell_type": "markdown",
   "id": "84648be2",
   "metadata": {},
   "source": [
    "Looking at the columns, above, there is nothing that says profit -- but perhaps amount is really the revenue.  If we select the columns of `quantity`, `indidivual_price`, and `amount`, we see that the individual_price times the quantity does (almost) equal the amount."
   ]
  },
  {
   "cell_type": "code",
   "execution_count": 61,
   "id": "ef2a605b",
   "metadata": {},
   "outputs": [
    {
     "data": {
      "text/html": [
       "<div>\n",
       "<style scoped>\n",
       "    .dataframe tbody tr th:only-of-type {\n",
       "        vertical-align: middle;\n",
       "    }\n",
       "\n",
       "    .dataframe tbody tr th {\n",
       "        vertical-align: top;\n",
       "    }\n",
       "\n",
       "    .dataframe thead th {\n",
       "        text-align: right;\n",
       "    }\n",
       "</style>\n",
       "<table border=\"1\" class=\"dataframe\">\n",
       "  <thead>\n",
       "    <tr style=\"text-align: right;\">\n",
       "      <th></th>\n",
       "      <th>quantity</th>\n",
       "      <th>individual_price</th>\n",
       "      <th>amount</th>\n",
       "    </tr>\n",
       "  </thead>\n",
       "  <tbody>\n",
       "    <tr>\n",
       "      <th>0</th>\n",
       "      <td>12</td>\n",
       "      <td>576.0</td>\n",
       "      <td>6910.0</td>\n",
       "    </tr>\n",
       "    <tr>\n",
       "      <th>1</th>\n",
       "      <td>17</td>\n",
       "      <td>100.0</td>\n",
       "      <td>1699.0</td>\n",
       "    </tr>\n",
       "  </tbody>\n",
       "</table>\n",
       "</div>"
      ],
      "text/plain": [
       "   quantity  individual_price  amount\n",
       "0        12             576.0  6910.0\n",
       "1        17             100.0  1699.0"
      ]
     },
     "execution_count": 61,
     "metadata": {},
     "output_type": "execute_result"
    }
   ],
   "source": [
    "selected_cols = transactions_df[['quantity', 'individual_price', 'amount']]\n",
    "selected_cols[:2]"
   ]
  },
  {
   "cell_type": "markdown",
   "id": "2efdc9f5",
   "metadata": {},
   "source": [
    "Ok, so we have identified *amount* as a metric we can try to optimize.  The attribute we are trying to optimize is called the **target**.\n",
    "\n",
    "Now the other information in our dataset, we can use to determine how to promote more revenue.  For example, maybe we will find that individuals from a certain location purchase more than others, or that certain products are particularly profitable in certain regions.  \n",
    "\n",
    "These components that influence our target are our **features**.  We can think of our features as inputs that influence our target -- here revenue."
   ]
  },
  {
   "cell_type": "markdown",
   "id": "2521ca7a",
   "metadata": {},
   "source": [
    "> It may be good to see what is the dimension we are trying to optimize revenue across - for example revenue per month, or revenue per customer.  But oftentimes the problems are not so well defined, so let's hold off on that for now."
   ]
  },
  {
   "cell_type": "markdown",
   "id": "9d5ad225",
   "metadata": {},
   "source": [
    "### Seeing the influence"
   ]
  },
  {
   "cell_type": "markdown",
   "id": "93cb7176",
   "metadata": {},
   "source": [
    "Now to see what is valuable in influencing our revenue.  For example, if there let's see which weeks we have the most amount of revenue."
   ]
  },
  {
   "cell_type": "code",
   "execution_count": 62,
   "id": "001e142a",
   "metadata": {},
   "outputs": [
    {
     "data": {
      "text/html": [
       "<div>\n",
       "<style scoped>\n",
       "    .dataframe tbody tr th:only-of-type {\n",
       "        vertical-align: middle;\n",
       "    }\n",
       "\n",
       "    .dataframe tbody tr th {\n",
       "        vertical-align: top;\n",
       "    }\n",
       "\n",
       "    .dataframe thead th {\n",
       "        text-align: right;\n",
       "    }\n",
       "</style>\n",
       "<table border=\"1\" class=\"dataframe\">\n",
       "  <thead>\n",
       "    <tr style=\"text-align: right;\">\n",
       "      <th></th>\n",
       "      <th>week</th>\n",
       "      <th>total_amount</th>\n",
       "    </tr>\n",
       "  </thead>\n",
       "  <tbody>\n",
       "    <tr>\n",
       "      <th>0</th>\n",
       "      <td>1.0</td>\n",
       "      <td>3624522.0</td>\n",
       "    </tr>\n",
       "    <tr>\n",
       "      <th>1</th>\n",
       "      <td>2.0</td>\n",
       "      <td>9666250.0</td>\n",
       "    </tr>\n",
       "  </tbody>\n",
       "</table>\n",
       "</div>"
      ],
      "text/plain": [
       "   week  total_amount\n",
       "0   1.0     3624522.0\n",
       "1   2.0     9666250.0"
      ]
     },
     "execution_count": 62,
     "metadata": {},
     "output_type": "execute_result"
    }
   ],
   "source": [
    "query = \"\"\"select week, sum(amount) total_amount \n",
    "from transactions group by week order by week\"\"\"\n",
    "df = pd.read_sql(query, engine)\n",
    "df[:2]\n"
   ]
  },
  {
   "cell_type": "markdown",
   "id": "9d1e2f0f",
   "metadata": {},
   "source": [
    "So we just group by the week and can order by that week to see the data sequentially."
   ]
  },
  {
   "cell_type": "code",
   "execution_count": 63,
   "id": "140c3d3f",
   "metadata": {},
   "outputs": [
    {
     "data": {
      "text/plain": [
       "<AxesSubplot: >"
      ]
     },
     "execution_count": 63,
     "metadata": {},
     "output_type": "execute_result"
    },
    {
     "data": {
      "image/png": "[encoded data removed]",
      "text/plain": [
       "<Figure size 900x100 with 1 Axes>"
      ]
     },
     "metadata": {},
     "output_type": "display_data"
    }
   ],
   "source": [
    "df.plot(figsize=(9, 1))"
   ]
  },
  {
   "cell_type": "markdown",
   "id": "8cea0a7a",
   "metadata": {},
   "source": [
    "### Moving this to a function"
   ]
  },
  {
   "cell_type": "markdown",
   "id": "97a2e907",
   "metadata": {},
   "source": [
    "Now the above group by is something we likely want to explore with all of our attributes.  So let's move this into a function."
   ]
  },
  {
   "cell_type": "code",
   "execution_count": 85,
   "id": "eb53c708",
   "metadata": {},
   "outputs": [],
   "source": [
    "def build_grouped_by(table_name, col, target, engine, order_by_col = False):\n",
    "    if order_by_col:\n",
    "        query = f\"\"\"select {col}, sum({target}) total_amount from {table_name} group by {col} order by {col} asc\"\"\"\n",
    "    else:\n",
    "        query = f\"\"\"select {col}, sum({target}) total_amount from {table_name} group by {col} order by total_amount desc\"\"\"\n",
    "    grouped = pd.read_sql(query, engine)\n",
    "    return grouped"
   ]
  },
  {
   "cell_type": "markdown",
   "id": "3b2ec354",
   "metadata": {},
   "source": [
    "> Above we give options for ordering by the column -- like the week above -- or for ordering by the total amount most to least."
   ]
  },
  {
   "cell_type": "markdown",
   "id": "a1b7314e",
   "metadata": {},
   "source": [
    "Ok, so now we could more easily explore how sales change per month."
   ]
  },
  {
   "cell_type": "code",
   "execution_count": 86,
   "id": "d128a383",
   "metadata": {},
   "outputs": [
    {
     "data": {
      "text/html": [
       "<div>\n",
       "<style scoped>\n",
       "    .dataframe tbody tr th:only-of-type {\n",
       "        vertical-align: middle;\n",
       "    }\n",
       "\n",
       "    .dataframe tbody tr th {\n",
       "        vertical-align: top;\n",
       "    }\n",
       "\n",
       "    .dataframe thead th {\n",
       "        text-align: right;\n",
       "    }\n",
       "</style>\n",
       "<table border=\"1\" class=\"dataframe\">\n",
       "  <thead>\n",
       "    <tr style=\"text-align: right;\">\n",
       "      <th></th>\n",
       "      <th>month</th>\n",
       "      <th>total_amount</th>\n",
       "    </tr>\n",
       "  </thead>\n",
       "  <tbody>\n",
       "    <tr>\n",
       "      <th>0</th>\n",
       "      <td>1.0</td>\n",
       "      <td>11952387.0</td>\n",
       "    </tr>\n",
       "    <tr>\n",
       "      <th>1</th>\n",
       "      <td>2.0</td>\n",
       "      <td>12733940.0</td>\n",
       "    </tr>\n",
       "    <tr>\n",
       "      <th>2</th>\n",
       "      <td>3.0</td>\n",
       "      <td>8051501.0</td>\n",
       "    </tr>\n",
       "    <tr>\n",
       "      <th>3</th>\n",
       "      <td>4.0</td>\n",
       "      <td>11220357.0</td>\n",
       "    </tr>\n",
       "  </tbody>\n",
       "</table>\n",
       "</div>"
      ],
      "text/plain": [
       "   month  total_amount\n",
       "0    1.0    11952387.0\n",
       "1    2.0    12733940.0\n",
       "2    3.0     8051501.0\n",
       "3    4.0    11220357.0"
      ]
     },
     "execution_count": 86,
     "metadata": {},
     "output_type": "execute_result"
    }
   ],
   "source": [
    "group_by_month = build_grouped_by('transactions', 'month', 'amount', engine, order_by_col = True)[:4]\n",
    "group_by_month[:4]"
   ]
  },
  {
   "cell_type": "code",
   "execution_count": 49,
   "id": "b8557dfa",
   "metadata": {},
   "outputs": [
    {
     "data": {
      "text/html": [
       "<div>\n",
       "<style scoped>\n",
       "    .dataframe tbody tr th:only-of-type {\n",
       "        vertical-align: middle;\n",
       "    }\n",
       "\n",
       "    .dataframe tbody tr th {\n",
       "        vertical-align: top;\n",
       "    }\n",
       "\n",
       "    .dataframe thead th {\n",
       "        text-align: right;\n",
       "    }\n",
       "</style>\n",
       "<table border=\"1\" class=\"dataframe\">\n",
       "  <thead>\n",
       "    <tr style=\"text-align: right;\">\n",
       "      <th></th>\n",
       "      <th>month</th>\n",
       "      <th>total_amount</th>\n",
       "    </tr>\n",
       "  </thead>\n",
       "  <tbody>\n",
       "    <tr>\n",
       "      <th>0</th>\n",
       "      <td>11.0</td>\n",
       "      <td>77712351.0</td>\n",
       "    </tr>\n",
       "    <tr>\n",
       "      <th>1</th>\n",
       "      <td>10.0</td>\n",
       "      <td>64841654.0</td>\n",
       "    </tr>\n",
       "    <tr>\n",
       "      <th>2</th>\n",
       "      <td>12.0</td>\n",
       "      <td>41912057.0</td>\n",
       "    </tr>\n",
       "    <tr>\n",
       "      <th>3</th>\n",
       "      <td>9.0</td>\n",
       "      <td>29880412.0</td>\n",
       "    </tr>\n",
       "  </tbody>\n",
       "</table>\n",
       "</div>"
      ],
      "text/plain": [
       "   month  total_amount\n",
       "0   11.0    77712351.0\n",
       "1   10.0    64841654.0\n",
       "2   12.0    41912057.0\n",
       "3    9.0    29880412.0"
      ]
     },
     "execution_count": 49,
     "metadata": {},
     "output_type": "execute_result"
    }
   ],
   "source": [
    "group_by_month_desc_amount = build_grouped_by('transactions', 'month', engine, order_by_col = False)[:4]\n",
    "group_by_month_desc_amount[:4]"
   ]
  },
  {
   "cell_type": "markdown",
   "id": "261050a4",
   "metadata": {},
   "source": [
    "And we can also write a function to plot our dataframe."
   ]
  },
  {
   "cell_type": "code",
   "execution_count": 37,
   "id": "40f89818",
   "metadata": {},
   "outputs": [],
   "source": [
    "import matplotlib.pyplot as plt\n",
    "def print_grouped_by(grouped):\n",
    "    selected_group = grouped[grouped.iloc[:, 0].values != None]\n",
    "    plt.figure(figsize=(14, 2))\n",
    "    plt.scatter(selected_group.iloc[:10, 0], selected_group.iloc[:10, 1])\n",
    "    plt.show()"
   ]
  },
  {
   "cell_type": "code",
   "execution_count": 39,
   "id": "731d3bf0",
   "metadata": {},
   "outputs": [
    {
     "data": {
      "image/png": "[encoded data removed]",
      "text/plain": [
       "<Figure size 1400x200 with 1 Axes>"
      ]
     },
     "metadata": {},
     "output_type": "display_data"
    }
   ],
   "source": [
    "print_grouped_by(group_by_month)"
   ]
  },
  {
   "cell_type": "markdown",
   "id": "b7820ad3",
   "metadata": {},
   "source": [
    "### Exploring multiple columns"
   ]
  },
  {
   "cell_type": "markdown",
   "id": "6283a3c7",
   "metadata": {},
   "source": [
    "Now that we written a function to group by multiple columns.  We can do so with the following. \n",
    "\n",
    "And we can write a similar function for printing by multiple columns."
   ]
  },
  {
   "cell_type": "code",
   "execution_count": 87,
   "id": "c8ceb3e3",
   "metadata": {},
   "outputs": [],
   "source": [
    "def build_grouped_bys(table_name, cols, target, engine, order_by_col = False):\n",
    "    grouped_bys = []\n",
    "    for col in cols:\n",
    "        grouped = build_grouped_by(table_name, col, target, engine, order_by_col = False)\n",
    "        grouped_bys.append(grouped)\n",
    "    return grouped_bys\n",
    "\n",
    "def print_grouped_bys(cols, grouped_bys):\n",
    "    for col, group in zip(cols, grouped_bys):\n",
    "        print(col)\n",
    "        print_grouped_by(group)"
   ]
  },
  {
   "cell_type": "code",
   "execution_count": 88,
   "id": "ff1e79b2",
   "metadata": {},
   "outputs": [
    {
     "data": {
      "text/plain": [
       "['month', 'week', 'dow', 'hour']"
      ]
     },
     "execution_count": 88,
     "metadata": {},
     "output_type": "execute_result"
    }
   ],
   "source": [
    "time_cols = ['month', 'week', 'dow', 'hour']\n",
    "time_cols"
   ]
  },
  {
   "cell_type": "code",
   "execution_count": 89,
   "id": "1c69015e",
   "metadata": {},
   "outputs": [],
   "source": [
    "time_groups = build_grouped_bys('transactions', time_cols, 'amount', engine, order_by_col = True)"
   ]
  },
  {
   "cell_type": "code",
   "execution_count": 90,
   "id": "2a348966",
   "metadata": {},
   "outputs": [
    {
     "name": "stdout",
     "output_type": "stream",
     "text": [
      "month\n"
     ]
    },
    {
     "data": {
      "image/png": "[encoded data removed]",
      "text/plain": [
       "<Figure size 1400x200 with 1 Axes>"
      ]
     },
     "metadata": {},
     "output_type": "display_data"
    },
    {
     "name": "stdout",
     "output_type": "stream",
     "text": [
      "week\n"
     ]
    },
    {
     "data": {
      "image/png": "[encoded data removed]",
      "text/plain": [
       "<Figure size 1400x200 with 1 Axes>"
      ]
     },
     "metadata": {},
     "output_type": "display_data"
    },
    {
     "name": "stdout",
     "output_type": "stream",
     "text": [
      "dow\n"
     ]
    },
    {
     "data": {
      "image/png": "[encoded data removed]",
      "text/plain": [
       "<Figure size 1400x200 with 1 Axes>"
      ]
     },
     "metadata": {},
     "output_type": "display_data"
    },
    {
     "name": "stdout",
     "output_type": "stream",
     "text": [
      "hour\n"
     ]
    },
    {
     "data": {
      "image/png": "[encoded data removed]",
      "text/plain": [
       "<Figure size 1400x200 with 1 Axes>"
      ]
     },
     "metadata": {},
     "output_type": "display_data"
    }
   ],
   "source": [
    "print_grouped_bys(time_cols, time_groups)"
   ]
  },
  {
   "cell_type": "markdown",
   "id": "d5f814ef",
   "metadata": {},
   "source": [
    "And we can combine our two functions to both build and print a set of columns."
   ]
  },
  {
   "cell_type": "code",
   "execution_count": 91,
   "id": "c0d71e40",
   "metadata": {},
   "outputs": [],
   "source": [
    "def group_and_print(table_name, cols, target, engine, order_by_col = False):\n",
    "    grouped_bys = build_grouped_bys(table_name, cols, target, engine, order_by_col)\n",
    "    print_grouped_bys(cols, grouped_bys)"
   ]
  },
  {
   "cell_type": "markdown",
   "id": "39e266c6",
   "metadata": {},
   "source": [
    "So now if we want to explore another set of data, we can look at our columns, and again select a collection of similar columns."
   ]
  },
  {
   "cell_type": "code",
   "execution_count": 64,
   "id": "f9b8151f",
   "metadata": {},
   "outputs": [
    {
     "data": {
      "text/plain": [
       "Index(['index', 'transaction_id', 'customer_id', 'product', 'gender',\n",
       "       'device_type', 'country', 'state', 'city', 'category',\n",
       "       'customer_login_type', 'delivery_type', 'quantity', 'transaction_start',\n",
       "       'transaction_result', 'amount', 'individual_price', 'month', 'week',\n",
       "       'dow', 'hour'],\n",
       "      dtype='object')"
      ]
     },
     "execution_count": 64,
     "metadata": {},
     "output_type": "execute_result"
    }
   ],
   "source": [
    "transactions_df.columns"
   ]
  },
  {
   "cell_type": "markdown",
   "id": "76bdf04c",
   "metadata": {},
   "source": [
    "For example, let's group by and print all of our location columns."
   ]
  },
  {
   "cell_type": "code",
   "execution_count": 65,
   "id": "14e27f66",
   "metadata": {},
   "outputs": [],
   "source": [
    "location_cols = ['country', 'state', 'city']"
   ]
  },
  {
   "cell_type": "code",
   "execution_count": 92,
   "id": "23688783",
   "metadata": {},
   "outputs": [
    {
     "name": "stdout",
     "output_type": "stream",
     "text": [
      "country\n"
     ]
    },
    {
     "data": {
      "image/png": "[encoded data removed]",
      "text/plain": [
       "<Figure size 1400x200 with 1 Axes>"
      ]
     },
     "metadata": {},
     "output_type": "display_data"
    },
    {
     "name": "stdout",
     "output_type": "stream",
     "text": [
      "state\n"
     ]
    },
    {
     "data": {
      "image/png": "[encoded data removed]",
      "text/plain": [
       "<Figure size 1400x200 with 1 Axes>"
      ]
     },
     "metadata": {},
     "output_type": "display_data"
    },
    {
     "name": "stdout",
     "output_type": "stream",
     "text": [
      "city\n"
     ]
    },
    {
     "data": {
      "image/png": "[encoded data removed]",
      "text/plain": [
       "<Figure size 1400x200 with 1 Axes>"
      ]
     },
     "metadata": {},
     "output_type": "display_data"
    }
   ],
   "source": [
    "group_and_print('transactions', location_cols, 'amount', engine)"
   ]
  },
  {
   "cell_type": "markdown",
   "id": "c3f74734",
   "metadata": {},
   "source": [
    "So we can quickly see that most of the sales are on the west coast, in Seattle or Los Angeles."
   ]
  },
  {
   "cell_type": "markdown",
   "id": "676c1f2d",
   "metadata": {},
   "source": [
    "### Digging Deeper"
   ]
  },
  {
   "cell_type": "markdown",
   "id": "cd26f9df",
   "metadata": {},
   "source": [
    "Finally, there is a way to make more fine grained insights on our data.  For example, so far we have just been grouping by a single column at a time to make sense of our data."
   ]
  },
  {
   "cell_type": "markdown",
   "id": "fb1c8993",
   "metadata": {},
   "source": [
    "And doing so, for example, we can find the male female split."
   ]
  },
  {
   "cell_type": "code",
   "execution_count": 93,
   "id": "6f68ef80",
   "metadata": {},
   "outputs": [
    {
     "data": {
      "text/html": [
       "<div>\n",
       "<style scoped>\n",
       "    .dataframe tbody tr th:only-of-type {\n",
       "        vertical-align: middle;\n",
       "    }\n",
       "\n",
       "    .dataframe tbody tr th {\n",
       "        vertical-align: top;\n",
       "    }\n",
       "\n",
       "    .dataframe thead th {\n",
       "        text-align: right;\n",
       "    }\n",
       "</style>\n",
       "<table border=\"1\" class=\"dataframe\">\n",
       "  <thead>\n",
       "    <tr style=\"text-align: right;\">\n",
       "      <th></th>\n",
       "      <th>gender</th>\n",
       "      <th>total_amount</th>\n",
       "    </tr>\n",
       "  </thead>\n",
       "  <tbody>\n",
       "    <tr>\n",
       "      <th>0</th>\n",
       "      <td>Male</td>\n",
       "      <td>168378026.0</td>\n",
       "    </tr>\n",
       "    <tr>\n",
       "      <th>1</th>\n",
       "      <td>Female</td>\n",
       "      <td>132100174.0</td>\n",
       "    </tr>\n",
       "  </tbody>\n",
       "</table>\n",
       "</div>"
      ],
      "text/plain": [
       "   gender  total_amount\n",
       "0    Male   168378026.0\n",
       "1  Female   132100174.0"
      ]
     },
     "execution_count": 93,
     "metadata": {},
     "output_type": "execute_result"
    }
   ],
   "source": [
    "gender_grouped_by = build_grouped_by('transactions', 'gender', 'amount', engine)\n",
    "gender_grouped_by"
   ]
  },
  {
   "cell_type": "markdown",
   "id": "7a9527fa",
   "metadata": {},
   "source": [
    "So we can see that 43 percent of our transactions are from female users."
   ]
  },
  {
   "cell_type": "code",
   "execution_count": 77,
   "id": "cc2828d9",
   "metadata": {},
   "outputs": [
    {
     "data": {
      "text/plain": [
       "0.4396331381111841"
      ]
     },
     "execution_count": 77,
     "metadata": {},
     "output_type": "execute_result"
    }
   ],
   "source": [
    "132100174/(168378026 + 132100174)"
   ]
  },
  {
   "cell_type": "markdown",
   "id": "c181bb82",
   "metadata": {},
   "source": [
    "But perhaps there are certain geographic regions that are particularly over or underperforming.  We can explore that either by grouping by multiple columns in sql...or with a pivot table. "
   ]
  },
  {
   "cell_type": "code",
   "execution_count": 72,
   "id": "f1901c09",
   "metadata": {},
   "outputs": [
    {
     "data": {
      "text/html": [
       "<div>\n",
       "<style scoped>\n",
       "    .dataframe tbody tr th:only-of-type {\n",
       "        vertical-align: middle;\n",
       "    }\n",
       "\n",
       "    .dataframe tbody tr th {\n",
       "        vertical-align: top;\n",
       "    }\n",
       "\n",
       "    .dataframe thead th {\n",
       "        text-align: right;\n",
       "    }\n",
       "</style>\n",
       "<table border=\"1\" class=\"dataframe\">\n",
       "  <thead>\n",
       "    <tr style=\"text-align: right;\">\n",
       "      <th>gender</th>\n",
       "      <th>Female</th>\n",
       "      <th>Male</th>\n",
       "    </tr>\n",
       "    <tr>\n",
       "      <th>city</th>\n",
       "      <th></th>\n",
       "      <th></th>\n",
       "    </tr>\n",
       "  </thead>\n",
       "  <tbody>\n",
       "    <tr>\n",
       "      <th>Los Angles</th>\n",
       "      <td>50265822</td>\n",
       "      <td>52540970</td>\n",
       "    </tr>\n",
       "    <tr>\n",
       "      <th>New York City</th>\n",
       "      <td>5333893</td>\n",
       "      <td>9150859</td>\n",
       "    </tr>\n",
       "    <tr>\n",
       "      <th>Seattle</th>\n",
       "      <td>76500459</td>\n",
       "      <td>106686197</td>\n",
       "    </tr>\n",
       "  </tbody>\n",
       "</table>\n",
       "</div>"
      ],
      "text/plain": [
       "gender           Female       Male\n",
       "city                              \n",
       "Los Angles     50265822   52540970\n",
       "New York City   5333893    9150859\n",
       "Seattle        76500459  106686197"
      ]
     },
     "execution_count": 72,
     "metadata": {},
     "output_type": "execute_result"
    }
   ],
   "source": [
    "import numpy as np\n",
    "table = pd.pivot_table(transactions_df, values='amount',\n",
    "                    columns=['gender'], index = ['city'], aggfunc=np.sum, fill_value=0)\n",
    "table"
   ]
  },
  {
   "cell_type": "code",
   "execution_count": 79,
   "id": "719816b9",
   "metadata": {},
   "outputs": [],
   "source": [
    "f_values = table['Female']\n",
    "\n",
    "m_values = table['Male']"
   ]
  },
  {
   "cell_type": "code",
   "execution_count": 84,
   "id": "32418f3e",
   "metadata": {},
   "outputs": [
    {
     "data": {
      "image/png": "[encoded data removed]",
      "text/plain": [
       "<Figure size 900x100 with 1 Axes>"
      ]
     },
     "metadata": {},
     "output_type": "display_data"
    }
   ],
   "source": [
    "import matplotlib.pyplot as plt\n",
    "plt.figure(figsize=(9, 1))\n",
    "plt.plot(table.index, m_values)\n",
    "plt.plot(table.index, f_values)\n",
    "plt.show()"
   ]
  },
  {
   "cell_type": "markdown",
   "id": "eb676a5c",
   "metadata": {},
   "source": [
    "So we can see that the biggest gap between men and women is in seattle.  With los angeles having almost no gap."
   ]
  },
  {
   "cell_type": "markdown",
   "id": "ef082e2d",
   "metadata": {},
   "source": [
    "### Summary"
   ]
  },
  {
   "cell_type": "markdown",
   "id": "06d9a8ac",
   "metadata": {},
   "source": [
    "In this lesson, we built a variety of functions to help us quickly explore our data.  Essentially, we write functions that allow us to quickly group our data by specified columns and then print the resulting groups."
   ]
  },
  {
   "cell_type": "markdown",
   "id": "819e97cc-49c6-4c58-80d3-31eef384e1bb",
   "metadata": {},
   "source": [
    "### Resources\n",
    "\n",
    "[Crosstab](https://stackoverflow.com/questions/3002499/postgresql-crosstab-query/11751905#11751905)"
   ]
  }
 ],
 "metadata": {
  "kernelspec": {
   "display_name": "Python 3.10.6 64-bit",
   "language": "python",
   "name": "python3"
  },
  "language_info": {
   "codemirror_mode": {
    "name": "ipython",
    "version": 3
   },
   "file_extension": ".py",
   "mimetype": "text/x-python",
   "name": "python",
   "nbconvert_exporter": "python",
   "pygments_lexer": "ipython3",
   "version": "3.10.6"
  },
  "vscode": {
   "interpreter": {
    "hash": "b0fa6594d8f4cbf19f97940f81e996739fb7646882a419484c72d19e05852a7e"
   }
  }
 },
 "nbformat": 4,
 "nbformat_minor": 5
}
