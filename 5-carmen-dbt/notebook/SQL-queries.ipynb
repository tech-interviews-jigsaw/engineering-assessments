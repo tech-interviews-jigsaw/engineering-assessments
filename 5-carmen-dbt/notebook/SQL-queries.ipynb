{
 "cells": [
  {
   "cell_type": "markdown",
   "metadata": {},
   "source": [
    "## IRC Technical Assessment\n",
    "I chose to use PostgreSQL to complete this assessment."
   ]
  },
  {
   "cell_type": "code",
   "execution_count": 3,
   "metadata": {},
   "outputs": [],
   "source": [
    "import psycopg2\n"
   ]
  },
  {
   "cell_type": "code",
   "execution_count": 4,
   "metadata": {},
   "outputs": [],
   "source": [
    "conn = psycopg2.connect(dbname=\"irc\", user=\"brianrennie\", password=\"brianrennie\")\n",
    "\n",
    "cursor = conn.cursor()"
   ]
  },
  {
   "cell_type": "code",
   "execution_count": 5,
   "metadata": {},
   "outputs": [
    {
     "data": {
      "text/plain": [
       "[('0x387D3247D2A5536C1C666CFBB259659F', 'household', 'United States'),\n",
       " ('0xB9C58CE7117BC12ED7DDEF301F798AA7', 'household', 'United States'),\n",
       " ('0xB0A6B44F19054E3BBF96FAA980267AE5', 'household', 'United States'),\n",
       " ('0x312EF920F30C85CEA85D1946B33AF12F', 'household', 'United States'),\n",
       " ('0x8A1F32025B28D0B32E84CF37CE392E18', 'household', 'United States')]"
      ]
     },
     "execution_count": 5,
     "metadata": {},
     "output_type": "execute_result"
    }
   ],
   "source": [
    "\n",
    "cursor.execute(\"SELECT * FROM accounts limit 5;\")\n",
    "accounts = cursor.fetchall()\n",
    "accounts"
   ]
  },
  {
   "cell_type": "code",
   "execution_count": 6,
   "metadata": {},
   "outputs": [
    {
     "data": {
      "text/plain": [
       "[(datetime.date(2022, 10, 15),)]"
      ]
     },
     "execution_count": 6,
     "metadata": {},
     "output_type": "execute_result"
    }
   ],
   "source": [
    "cursor.execute(\"SELECT close_date FROM donations limit 1;\")\n",
    "donations = cursor.fetchall()\n",
    "donations"
   ]
  },
  {
   "cell_type": "markdown",
   "metadata": {},
   "source": [
    "## 1. What are the top five organizations by revenue in 2021?"
   ]
  },
  {
   "cell_type": "code",
   "execution_count": 7,
   "metadata": {},
   "outputs": [
    {
     "data": {
      "text/plain": [
       "[('0x6CF1B1B8F8CCB4FA7E3BF638400C6694',\n",
       "  datetime.date(2021, 3, 9),\n",
       "  '$25,000.64'),\n",
       " ('0xC1638AC40976514922330766B0CDA0E1',\n",
       "  datetime.date(2021, 8, 25),\n",
       "  '$24,793.60'),\n",
       " ('0x6CF1B1B8F8CCB4FA7E3BF638400C6694',\n",
       "  datetime.date(2021, 6, 15),\n",
       "  '$15,747.58'),\n",
       " ('0xAB7B829B9A1721326A19A7131A2659CC',\n",
       "  datetime.date(2021, 4, 20),\n",
       "  '$5,150.00'),\n",
       " ('0xD34FE50ED1B96D1C9D2308CD86F13530',\n",
       "  datetime.date(2021, 12, 22),\n",
       "  '$2,000.00')]"
      ]
     },
     "execution_count": 7,
     "metadata": {},
     "output_type": "execute_result"
    }
   ],
   "source": [
    "conn = psycopg2.connect(dbname=\"irc\", user=\"brianrennie\", password=\"brianrennie\")\n",
    "\n",
    "cursor = conn.cursor()\n",
    "\n",
    "cursor.execute('''SELECT account_id,close_date, SUM(amount) as total_amount\n",
    "                    FROM donations \n",
    "                    WHERE account_id in (\n",
    "                                         SELECT account_id\n",
    "                                             FROM accounts\n",
    "                                             WHERE account_type = 'organization')\n",
    "                    \n",
    "                    GROUP BY 1,2\n",
    "                    HAVING EXTRACT(YEAR FROM close_date) = 2021  \n",
    "                    ORDER BY total_amount DESC limit 5;''')\n",
    "result = cursor.fetchall()\n",
    "result"
   ]
  },
  {
   "cell_type": "markdown",
   "metadata": {},
   "source": [
    "## 2. Create an account-level table with aggregate measures of revenue in past week, past month, past year, and all time."
   ]
  },
  {
   "cell_type": "code",
   "execution_count": 8,
   "metadata": {},
   "outputs": [
    {
     "data": {
      "text/plain": [
       "[('0x6EA33453C967D7CF47A136E1C2A810AF',\n",
       "  '$40.00',\n",
       "  '$57.40',\n",
       "  '$10.00',\n",
       "  '$40.00'),\n",
       " ('0x0A3EF6B9B029C5E5B152B6C8EA34D370',\n",
       "  '$25.00',\n",
       "  '$1,207.41',\n",
       "  '$100.00',\n",
       "  '$183.00'),\n",
       " ('0x5D69AC59187D4DA14B6AF2BF932EA5BC',\n",
       "  '$35.00',\n",
       "  '$1,599.00',\n",
       "  '$100.00',\n",
       "  '$340.20'),\n",
       " ('0xD525444F870719C82256CD8076C700D3',\n",
       "  '$40.00',\n",
       "  '$761.93',\n",
       "  '$20.00',\n",
       "  '$10.00'),\n",
       " ('0x4F6AA4D1EA29E02705A5218A4C3FD05F',\n",
       "  '$45.00',\n",
       "  '$213.33',\n",
       "  '$30.00',\n",
       "  '$45.00'),\n",
       " ('0xB3D9C3CD609B4E4A16E81824BBF0C180',\n",
       "  '$11.00',\n",
       "  '$398.66',\n",
       "  '$33.33',\n",
       "  '$11.00'),\n",
       " ('0x637CCB1EEC8B4A1848BAF4A076368672',\n",
       "  '$19.00',\n",
       "  '$61.29',\n",
       "  '$10.30',\n",
       "  '$19.00'),\n",
       " ('0x8B630035A1C147CFD9F8E409E959DB7B',\n",
       "  '$30.00',\n",
       "  '$149.01',\n",
       "  '$12.00',\n",
       "  '$30.00'),\n",
       " ('0xD34FE50ED1B96D1C9D2308CD86F13530',\n",
       "  '$300.90',\n",
       "  '$14,785.89',\n",
       "  '$180.00',\n",
       "  '$2,690.99'),\n",
       " ('0x52576815EA8A926EBE54DF1CF0485148',\n",
       "  '$50.00',\n",
       "  '$3,317.73',\n",
       "  '$85.00',\n",
       "  '$1,713.47'),\n",
       " ('0x752B95389305BA0546668F1D5AD9AF7B',\n",
       "  '$107.32',\n",
       "  '$5,061.11',\n",
       "  '$309.33',\n",
       "  '$550.94'),\n",
       " ('0xC1638AC40976514922330766B0CDA0E1',\n",
       "  '$35.00',\n",
       "  '$28,390.26',\n",
       "  '$0.00',\n",
       "  '$25,403.51'),\n",
       " ('0x59F17DDF3447C98D49362DB7CCCAFA5A',\n",
       "  '$100.00',\n",
       "  '$297.41',\n",
       "  '$0.00',\n",
       "  '$10.00'),\n",
       " ('0x45D3E13353FB2706872950E9469C6E7F',\n",
       "  '$25.00',\n",
       "  '$40.00',\n",
       "  '$15.00',\n",
       "  '$25.00'),\n",
       " ('0x2013E66142C74D25049E312A3F60517B',\n",
       "  '$61.54',\n",
       "  '$230.41',\n",
       "  '$3.57',\n",
       "  '$25.00'),\n",
       " ('0x12D82E4CE07351ED9D3949F6E2080FDC',\n",
       "  '$321.00',\n",
       "  '$368.50',\n",
       "  '$10.00',\n",
       "  '$321.00'),\n",
       " ('0x2CB3E1D97D9C81801E3C5E70C7A83747',\n",
       "  '$0.00',\n",
       "  '$191.05',\n",
       "  '$40.00',\n",
       "  '$30.00'),\n",
       " ('0x91ED5B634CB818473B2DFE3CDCA9BC51',\n",
       "  '$20.30',\n",
       "  '$1,522.37',\n",
       "  '$10.00',\n",
       "  '$180.30'),\n",
       " ('0x17F736FFF78E242F180B2CA01B6A173E',\n",
       "  '$50.00',\n",
       "  '$1,223.16',\n",
       "  '$35.00',\n",
       "  '$110.00'),\n",
       " ('0x7EF7A02AB553B0364C2E521C9761AE1E',\n",
       "  '$30.00',\n",
       "  '$665.00',\n",
       "  '$75.00',\n",
       "  '$185.00'),\n",
       " ('0x226C08ED5421A9A5516EA99E27E4D087',\n",
       "  '$50.00',\n",
       "  '$1,182.54',\n",
       "  '$10.00',\n",
       "  '$492.50'),\n",
       " ('0xD24418CAF09CA39E74A0AA5692CFA4D0', '$5.00', '$88.33', '$50.00', '$38.33'),\n",
       " ('0xEB9374FB76132A0A92FC861648CB76D0',\n",
       "  '$20.00',\n",
       "  '$789,004.45',\n",
       "  '$20.00',\n",
       "  '$50.00'),\n",
       " ('0x6F834840F089065570FDDCFCA973BF95',\n",
       "  '$50.00',\n",
       "  '$5,391.97',\n",
       "  '$110.00',\n",
       "  '$641.13'),\n",
       " ('0xC1EBAC240CB5F79CE2ABE92312E3A5CB', '$15.00', '$30.00', '$0.00', '$15.00'),\n",
       " ('0x85BCE68667E9539649C08B3C898D81DD',\n",
       "  '$10.00',\n",
       "  '$1,088.14',\n",
       "  '$215.00',\n",
       "  '$163.22'),\n",
       " ('0x9087FE88FFF0E124667457DEC55E54DE',\n",
       "  '$82.40',\n",
       "  '$590,557.35',\n",
       "  '$11.00',\n",
       "  '$60.00'),\n",
       " ('0x2C735E28B560354DFFF0BE75D4C12768',\n",
       "  '$15.00',\n",
       "  '$1,325.56',\n",
       "  '$10.00',\n",
       "  '$25.00'),\n",
       " ('0xF9E0AE7E8D3C2DE492AE0C8BE4D099E4',\n",
       "  '$7.00',\n",
       "  '$628.08',\n",
       "  '$25.00',\n",
       "  '$100.00'),\n",
       " ('0x1AB75049CD92928966762A7D3F29A2FC',\n",
       "  '$50.00',\n",
       "  '$422.76',\n",
       "  '$40.00',\n",
       "  '$90.00'),\n",
       " ('0x66C9040B6EA5771B055E78983507E9CA',\n",
       "  '$15.00',\n",
       "  '$211.05',\n",
       "  '$36.05',\n",
       "  '$25.00'),\n",
       " ('0xD541A2C45B36E4819C80C5A3BD9698EB',\n",
       "  '$10.00',\n",
       "  '$1,270.60',\n",
       "  '$1,050.00',\n",
       "  '$1,080.00'),\n",
       " ('0x5EDBFDFAC760101408B9EB9C2A37D71F',\n",
       "  '$85.00',\n",
       "  '$210.00',\n",
       "  '$50.00',\n",
       "  '$50.00'),\n",
       " ('0xD71E310376EA6245C6FA1DB6A6F514F3',\n",
       "  '$15.00',\n",
       "  '$1,921.66',\n",
       "  '$15.00',\n",
       "  '$42.50'),\n",
       " ('0xAB7B829B9A1721326A19A7131A2659CC',\n",
       "  '$100.00',\n",
       "  '$7,640.02',\n",
       "  '$65.35',\n",
       "  '$5,465.35'),\n",
       " ('0x27E93F05E19E29DC120E5F99CFCE804D',\n",
       "  '$15.00',\n",
       "  '$215.00',\n",
       "  '$200.00',\n",
       "  '$200.00'),\n",
       " ('0xCFB405C20F614F5B617D8AC87430EC8D',\n",
       "  '$12.00',\n",
       "  '$399.00',\n",
       "  '$50.00',\n",
       "  '$140.00'),\n",
       " ('0xD15111EBF152956D61BC8EEEEDA599FE',\n",
       "  '$0.00',\n",
       "  '$550.18',\n",
       "  '$12.00',\n",
       "  '$224.16'),\n",
       " ('0x68A7A6E440572935E030666656BCA916',\n",
       "  '$58.80',\n",
       "  '$1,341.72',\n",
       "  '$50.00',\n",
       "  '$335.14'),\n",
       " ('0x6AF43D7FEF2A4BABE76328F3413656F6',\n",
       "  '$25.00',\n",
       "  '$605.79',\n",
       "  '$50.00',\n",
       "  '$165.70')]"
      ]
     },
     "execution_count": 8,
     "metadata": {},
     "output_type": "execute_result"
    }
   ],
   "source": [
    "conn = psycopg2.connect(dbname=\"irc\", user=\"brianrennie\", password=\"brianrennie\")\n",
    "\n",
    "cursor = conn.cursor()\n",
    "\n",
    "cursor.execute('''WITH last_week_revenue as\n",
    "                  (\n",
    "                  SELECT account_id, DATE_PART('week', close_date), SUM(amount)  as last_week_revenue\n",
    "                    FROM donations \n",
    "                    GROUP BY 1,2 \n",
    "                    HAVING DATE_PART('week', close_date) = 41.0\n",
    "                    ), \n",
    "\n",
    "                  last_year_revenue as\n",
    "                   (\n",
    "                   SELECT account_id, DATE_PART('year', close_date), SUM(amount) as last_year_revenue\n",
    "                    FROM donations \n",
    "                    GROUP BY 1,2 \n",
    "                    HAVING DATE_PART('year', close_date) = 2021\n",
    "                    ),\n",
    "\n",
    "                   last_month_revenue as\n",
    "                   (\n",
    "                    SELECT account_id, DATE_PART('month', close_date), SUM(amount) as last_month_revenue \n",
    "                    FROM donations \n",
    "                    GROUP BY 1,2 \n",
    "                    HAVING DATE_PART('month', close_date) = 9\n",
    "                    ),\n",
    "\n",
    "                    all_time_revenue as\n",
    "                     (\n",
    "                    SELECT account_id, SUM(amount) as all_time_revenue \n",
    "                    FROM donations \n",
    "                    GROUP BY 1 \n",
    "                    )\n",
    "\n",
    "\n",
    "                   SELECT \n",
    "                        lwr.account_id,\n",
    "                        lwr.last_week_revenue,\n",
    "                        atr.all_time_revenue,\n",
    "                        lmr.last_month_revenue,\n",
    "                        lyr.last_year_revenue\n",
    "                   FROM all_time_revenue atr\n",
    "                   JOIN last_week_revenue lwr\n",
    "                   ON lwr.account_id = atr.account_id\n",
    "                   JOIN last_month_revenue lmr\n",
    "                   ON lmr.account_id = lwr.account_id\n",
    "                   JOIN last_year_revenue lyr\n",
    "                   ON lyr.account_id = lmr.account_id''')\n",
    "result = cursor.fetchall()\n",
    "result"
   ]
  },
  {
   "cell_type": "markdown",
   "metadata": {},
   "source": [
    "## 3. What is the average first donation of new donors for each billing country?"
   ]
  },
  {
   "cell_type": "code",
   "execution_count": 81,
   "metadata": {},
   "outputs": [
    {
     "data": {
      "text/plain": [
       "[('Germany', Decimal('36.7918181818181818')),\n",
       " ('United Kingdom', Decimal('37.3312500000000000')),\n",
       " ('United States', Decimal('479.8499349710982659'))]"
      ]
     },
     "execution_count": 81,
     "metadata": {},
     "output_type": "execute_result"
    }
   ],
   "source": [
    "conn = psycopg2.connect(dbname=\"irc\", user=\"brianrennie\", password=\"brianrennie\")\n",
    "\n",
    "cursor = conn.cursor()\n",
    "\n",
    "cursor.execute('''with numbered_donations as\n",
    "                (\n",
    "                SELECT a.account_id as account,\n",
    "                       billing_country,\n",
    "                       close_date,\n",
    "                       amount::numeric as amount,\n",
    "                       ROW_NUMBER () OVER (PARTITION BY a.account_id ORDER BY close_date) as donation_number\n",
    "                       FROM accounts a\n",
    "                       JOIN donations d \n",
    "                       ON a.account_id = d.account_id\n",
    "                       \n",
    "                ),\n",
    "\n",
    "                first_donations as \n",
    "                (\n",
    "                SELECT account,\n",
    "                       billing_country,\n",
    "                       close_date,\n",
    "                       amount,\n",
    "                       donation_number\n",
    "                FROM numbered_donations\n",
    "                WHERE donation_number = 1\n",
    "                )     \n",
    "                \n",
    "                \n",
    "                SELECT billing_country, AVG(ROUND(amount,2)) from first_donations GROUP BY 1''')\n",
    "result = cursor.fetchall()\n",
    "result"
   ]
  }
 ],
 "metadata": {
  "kernelspec": {
   "display_name": "Python 3.9.10 ('irc': venv)",
   "language": "python",
   "name": "python3"
  },
  "language_info": {
   "codemirror_mode": {
    "name": "ipython",
    "version": 3
   },
   "file_extension": ".py",
   "mimetype": "text/x-python",
   "name": "python",
   "nbconvert_exporter": "python",
   "pygments_lexer": "ipython3",
   "version": "3.9.10"
  },
  "orig_nbformat": 4,
  "vscode": {
   "interpreter": {
    "hash": "650ea4a66747188b9976ce05df720c3be27979e47ccb5d8f5f53b85e9a24b5e0"
   }
  }
 },
 "nbformat": 4,
 "nbformat_minor": 2
}
