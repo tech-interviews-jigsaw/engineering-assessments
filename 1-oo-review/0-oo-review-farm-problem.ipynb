{
 "cells": [
  {
   "cell_type": "markdown",
   "id": "a9d166b1-76fe-40d9-b416-c5470d20d226",
   "metadata": {},
   "source": [
    "# Object Oriented Take Home"
   ]
  },
  {
   "cell_type": "markdown",
   "id": "3dce3be5-150e-4c1b-8eff-9fc3901c042a",
   "metadata": {},
   "source": [
    "### Introduction"
   ]
  },
  {
   "cell_type": "markdown",
   "id": "2c58eb63-4398-4594-a1fd-81beeb267fc5",
   "metadata": {},
   "source": [
    "The following is a prompt given to one of our past students.  After reading it, please take some time to do some planning before any coding is developed."
   ]
  },
  {
   "cell_type": "markdown",
   "id": "3f281e1f-3a68-4e22-9e74-fa0fac9d604b",
   "metadata": {},
   "source": [
    "\n",
    "### Prompt \n",
    "\n",
    "John has a cattle farm which consists of a few pens. Each pen houses some cows. The cows in each pen are of the same breed. Each breed of cow eats only one type of feed, yields a certain amount of milk, and generates a certain level of greenhouse gases.John has asked you to help him simulate his farm so he can foresee the consequences of his decisions. Develop a code based on OOP to simulate this cattle farm, and run a few scenarios to showcase how it works. Some example features of this simulation are:\n",
    "\n",
    "- Pen allocation: What breed is allocated to this pen? How many cows are there?\n",
    "- Milk yield calculation: How much milk should we expect from each pen? Can you make a time series?\n",
    "- Greenhouse gas emissions: Overall, how much greenhouse gases does this scenario generate?\n",
    "- Cost estimation: Based on the type and amount of the consumed feeds, how much does it cost John to implement this scenario in his farm?"
   ]
  }
 ],
 "metadata": {
  "kernelspec": {
   "display_name": "Python 3.10.6 64-bit",
   "language": "python",
   "name": "python3"
  },
  "language_info": {
   "codemirror_mode": {
    "name": "ipython",
    "version": 3
   },
   "file_extension": ".py",
   "mimetype": "text/x-python",
   "name": "python",
   "nbconvert_exporter": "python",
   "pygments_lexer": "ipython3",
   "version": "3.10.6"
  },
  "vscode": {
   "interpreter": {
    "hash": "b0fa6594d8f4cbf19f97940f81e996739fb7646882a419484c72d19e05852a7e"
   }
  }
 },
 "nbformat": 4,
 "nbformat_minor": 5
}
