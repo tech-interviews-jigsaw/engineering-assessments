{
 "cells": [
  {
   "cell_type": "markdown",
   "id": "4f75048b-40c3-4de5-bfcc-9177caba6bc0",
   "metadata": {},
   "source": [
    "# OO Farm Solution"
   ]
  },
  {
   "cell_type": "markdown",
   "id": "76e12282-403e-4fa8-9b6b-212f45efba28",
   "metadata": {},
   "source": [
    "### Reviewing the Prompt"
   ]
  },
  {
   "cell_type": "markdown",
   "id": "583e7a50-b4bd-41a1-9397-13575ec889b9",
   "metadata": {},
   "source": [
    "### Prompt \n",
    "\n",
    "John has a cattle farm which consists of a few pens. Each pen houses some cows. The cows in each pen are of the same breed. Each breed of cow eats only one type of feed, yields a certain amount of milk, and generates a certain level of greenhouse gases.John has asked you to help him simulate his farm so he can foresee the consequences of his decisions. Develop a code based on OOP to simulate this cattle farm, and run a few scenarios to showcase how it works. Some example features of this simulation are:\n",
    "\n",
    "- Pen allocation: What breed is allocated to this pen? How many cows are there?\n",
    "- Milk yield calculation: How much milk should we expect from each pen? Can you make a time series?\n",
    "- Greenhouse gas emissions: Overall, how much greenhouse gases does this scenario generate?\n",
    "- Cost estimation: Based on the type and amount of the consumed feeds, how much does it cost John to implement this scenario in his farm?"
   ]
  },
  {
   "cell_type": "markdown",
   "id": "9d41c2e0-3238-4b39-9947-f8d2ac46e2c3",
   "metadata": {},
   "source": [
    "### Initial Steps"
   ]
  },
  {
   "cell_type": "markdown",
   "id": "17e85f5b-2875-4a30-8908-47fc06b12d30",
   "metadata": {},
   "source": [
    "The initial steps are to decide what are all of the objects we will need to create, and what are the relationships between these objects. "
   ]
  },
  {
   "cell_type": "markdown",
   "id": "1b53676d-6ace-4cc2-bae8-6eb46aa35273",
   "metadata": {},
   "source": [
    "**Initial Objects**\n",
    "\n",
    "* Cattle Farm?\n",
    "* Farmer?\n",
    "* Pen (pen has one breed)\n",
    "* Cows\n",
    "* Breed (Breed has one feed, one milk yield, one gas amount)"
   ]
  },
  {
   "cell_type": "markdown",
   "id": "dd7229e9-0fb8-4987-9efd-46ac5afc7906",
   "metadata": {},
   "source": [
    "Ok, so we wrote down some initial objects.  Now we can begin to remove some.  We only have one farm and one farmer so we do not need to create classes for them.  It is implied that every object we create belongs to John and his farm.\n",
    "\n",
    "We also may have considered making milk yield and gas amount as different classes.  But it doesn't seem like there are many attributes related to a milk yield or gas amount.  In other words, milk yield and gas amount are probably just numbers that can be attributes of a breed.  \n",
    "\n",
    "What about feed -- should that be a class?  Well take a look at the last question:\n",
    "\n",
    "> * Cost estimation: Based on the type and amount of the consumed feeds, how much does it cost John to implement this scenario in his farm?\n",
    "\n",
    "So it looks like there are two attributes associated with a feed: the type, and the price.  So we could create a class for feed storing attributes of type and price, or we could just store these attributes on breed.  Let's just store these attributes on breed for now.  \n",
    "\n",
    "So with this, it looks like we only have three classes to keep track of:\n",
    "\n",
    "* Pen\n",
    "* Cow\n",
    "* Breed\n",
    "\n",
    "\n",
    "Write out/diagram the object relations below, and then the next step would be to turn these three classes into code."
   ]
  },
  {
   "cell_type": "markdown",
   "id": "12ed1a5a-81fe-4072-9197-91843b3aa09c",
   "metadata": {},
   "source": [
    "### Diagramming the Classes"
   ]
  },
  {
   "cell_type": "markdown",
   "id": "e832d103-11b4-41d8-995a-0e92777fc389",
   "metadata": {},
   "source": [
    "* Pen has one breed\n",
    "* Breed has many pens\n",
    "\n",
    "* Pen has many cows\n",
    "* Cow has one pen\n",
    "\n",
    "* Breed has many cows\n",
    "* Cow has one breed\n",
    "\n",
    "\n",
    "The only question from the above mapping is the relationship between cow and pens.  We say above that a cow has one pen -- but perhaps we can move our cow across different pens.  In that case, we would be keeping track of the history where all of our cows were housed.  But looking over the questions again, it looks like that's unnecessary -- there's no question that's related to this.  So it looks like we can stick with the simpler version and say a cow has one pen, and we'll assume that our cows stay put.  "
   ]
  },
  {
   "cell_type": "markdown",
   "id": "177df349-1b1b-4657-b997-3306f06079db",
   "metadata": {},
   "source": [
    "Now we can diagram out our classes."
   ]
  },
  {
   "cell_type": "markdown",
   "id": "775f1124-cd47-49bc-8d40-3c8cffc699a0",
   "metadata": {},
   "source": [
    "<img src=\"./init-oo.png\" width=\"80%\">"
   ]
  },
  {
   "cell_type": "markdown",
   "id": "55e51e98-15d3-401b-b3e2-a38a12eef44c",
   "metadata": {},
   "source": [
    "So reading this from right to left, we see that a breed has many pens and each pen has many cows -- each of the same breed."
   ]
  },
  {
   "cell_type": "markdown",
   "id": "c78b46b9-f4ca-48fe-8055-5b482af9110e",
   "metadata": {},
   "source": [
    "Ok, next let's add our attributes to these classes."
   ]
  },
  {
   "cell_type": "markdown",
   "id": "c936a885-cf2a-43f3-ba31-d1057435a91e",
   "metadata": {},
   "source": [
    "<img src=\"./oo-attr.png\" width=\"100%\">"
   ]
  },
  {
   "cell_type": "markdown",
   "id": "3a201bef-6ab7-4ac3-8058-54c0a6a8a6fa",
   "metadata": {},
   "source": [
    "So we can see the attributes at the top, and our object relations methods below.  Notice that breed has the largest number of attributes -- and potentially we may want create our separate `feed` class later on.  But for now, turn these classes and object relations into code."
   ]
  },
  {
   "cell_type": "markdown",
   "id": "769b6095-e092-4a0b-9c6d-2e0dbda11429",
   "metadata": {},
   "source": [
    "If you haven't already, create a folder for a codebase and give it a shot."
   ]
  },
  {
   "cell_type": "markdown",
   "id": "28a360a1-bbb9-4222-b16c-5828973d1125",
   "metadata": {},
   "source": [
    "### Summary"
   ]
  },
  {
   "cell_type": "code",
   "execution_count": null,
   "id": "356a64c7-66bc-49d5-ba88-126b61fc57d7",
   "metadata": {},
   "outputs": [],
   "source": []
  }
 ],
 "metadata": {
  "kernelspec": {
   "display_name": "Python 3 (ipykernel)",
   "language": "python",
   "name": "python3"
  },
  "language_info": {
   "codemirror_mode": {
    "name": "ipython",
    "version": 3
   },
   "file_extension": ".py",
   "mimetype": "text/x-python",
   "name": "python",
   "nbconvert_exporter": "python",
   "pygments_lexer": "ipython3",
   "version": "3.10.6"
  }
 },
 "nbformat": 4,
 "nbformat_minor": 5
}
